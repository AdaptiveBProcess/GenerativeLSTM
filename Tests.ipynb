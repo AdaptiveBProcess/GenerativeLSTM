{
 "cells": [
  {
   "cell_type": "code",
   "execution_count": 55,
   "metadata": {},
   "outputs": [],
   "source": [
    "import pandas as pd\n",
    "import networkx as nx\n",
    "import os\n",
    "import configparser\n",
    "import itertools"
   ]
  },
  {
   "cell_type": "code",
   "execution_count": 21,
   "metadata": {},
   "outputs": [],
   "source": [
    "config = configparser.ConfigParser()\n",
    "config.read('rules.ini')\n",
    "\n",
    "settings = {}\n",
    "settings['path'] = config['RULES']['path']\n",
    "settings['variation'] = config['RULES']['variation'][0]\n",
    "settings['prop_variation'] = float(config['RULES']['variation'][1:])"
   ]
  },
  {
   "cell_type": "code",
   "execution_count": null,
   "metadata": {},
   "outputs": [],
   "source": []
  },
  {
   "cell_type": "code",
   "execution_count": 44,
   "metadata": {},
   "outputs": [],
   "source": [
    "path = r'C:\\DanielBaron\\GenerativeLSTM\\output_files\\20230417_3E8ABBDA_765B_4740_A305_D925CF5DE07C'\n",
    "org_log_path = os.path.join(path, 'parameters', 'original_log.csv')\n",
    "\n",
    "df_org = pd.read_csv(org_log_path)\n",
    "df_org['start_timestamp'] = pd.to_datetime(df_org['start_timestamp'])\n",
    "df_org['end_timestamp'] = pd.to_datetime(df_org['end_timestamp'])\n",
    "df_org['rank'] = df_org.groupby('caseid')['start_timestamp'].rank().astype(int)"
   ]
  },
  {
   "cell_type": "code",
   "execution_count": 45,
   "metadata": {},
   "outputs": [],
   "source": [
    "path = r'C:\\DanielBaron\\GenerativeLSTM\\output_files\\20230417_3E8ABBDA_765B_4740_A305_D925CF5DE07C'\n",
    "gen_log_path = os.path.join(path, 'parameters', 'generated_log.csv')\n",
    "\n",
    "df_gen = pd.read_csv(gen_log_path)\n",
    "df_gen['start_timestamp'] = pd.to_datetime(df_gen['start_timestamp'])\n",
    "df_gen['end_timestamp'] = pd.to_datetime(df_gen['end_timestamp'])\n",
    "df_gen['rank'] = df_gen.groupby('caseid')['start_timestamp'].rank().astype(int)"
   ]
  },
  {
   "cell_type": "code",
   "execution_count": 46,
   "metadata": {},
   "outputs": [],
   "source": [
    "ac_index = dict(zip(df_org.task, df_org.ac_index))"
   ]
  },
  {
   "attachments": {},
   "cell_type": "markdown",
   "metadata": {},
   "source": [
    "## Add edges"
   ]
  },
  {
   "cell_type": "code",
   "execution_count": 50,
   "metadata": {},
   "outputs": [],
   "source": [
    "G = nx.DiGraph()\n",
    "for value in ac_index.values():\n",
    "    G.add_node(value)"
   ]
  },
  {
   "cell_type": "code",
   "execution_count": 80,
   "metadata": {},
   "outputs": [],
   "source": [
    "graphs = []\n",
    "for caseid in df_org['caseid'].drop_duplicates():\n",
    "\n",
    "    df_tmp = df_org[df_org['caseid']==caseid]\n",
    "    u_tasks = [ac_index[x] for x in df_tmp['task'].drop_duplicates()]\n",
    "    \n",
    "    G = nx.DiGraph()\n",
    "    for task in u_tasks:\n",
    "        G.add_node(task)\n",
    "\n",
    "    tasks = list(df_tmp['task'])\n",
    "    if list(df_tmp['rank']) == list(set(list(df_tmp['rank']))):\n",
    "        order = [(ac_index[x[0]], ac_index[x[1]]) for x in [(a, b) for a, b in zip(tasks[:-1], tasks[1:])]]\n",
    "    else:\n",
    "        order = []\n",
    "        for i in range(1, len(df_tmp['rank'])):\n",
    "            c_task = list(df_tmp[df_tmp['rank']==i]['task'])\n",
    "            n_task = list(df_tmp[df_tmp['rank']==i+1]['task'])\n",
    "            order += [(ac_index[x[0]], ac_index[x[1]]) for x in list(itertools.product(c_task, n_task))]\n",
    "    \n",
    "    G.add_edges_from(order)\n",
    "    graphs.append(G)"
   ]
  },
  {
   "cell_type": "code",
   "execution_count": 81,
   "metadata": {},
   "outputs": [
    {
     "data": {
      "text/plain": [
       "<networkx.classes.digraph.DiGraph at 0x27a2bd64640>"
      ]
     },
     "execution_count": 81,
     "metadata": {},
     "output_type": "execute_result"
    }
   ],
   "source": []
  },
  {
   "cell_type": "code",
   "execution_count": 72,
   "metadata": {},
   "outputs": [],
   "source": [
    "G.add_edges_from(seq_idx_tasks)"
   ]
  },
  {
   "cell_type": "code",
   "execution_count": 75,
   "metadata": {},
   "outputs": [
    {
     "data": {
      "image/png": "[encoded data removed]",
      "text/plain": [
       "<Figure size 640x480 with 1 Axes>"
      ]
     },
     "metadata": {},
     "output_type": "display_data"
    }
   ],
   "source": [
    "nx.draw(G)"
   ]
  }
 ],
 "metadata": {
  "kernelspec": {
   "display_name": "DL",
   "language": "python",
   "name": "python3"
  },
  "language_info": {
   "codemirror_mode": {
    "name": "ipython",
    "version": 3
   },
   "file_extension": ".py",
   "mimetype": "text/x-python",
   "name": "python",
   "nbconvert_exporter": "python",
   "pygments_lexer": "ipython3",
   "version": "3.10.4"
  },
  "orig_nbformat": 4
 },
 "nbformat": 4,
 "nbformat_minor": 2
}
