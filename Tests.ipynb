{
 "cells": [
  {
   "cell_type": "code",
   "execution_count": 2,
   "metadata": {},
   "outputs": [],
   "source": [
    "import pandas as pd\n",
    "import networkx as nx\n",
    "import os\n",
    "import configparser\n",
    "import itertools\n",
    "import json"
   ]
  },
  {
   "cell_type": "code",
   "execution_count": 3,
   "metadata": {},
   "outputs": [],
   "source": [
    "config = configparser.ConfigParser()\n",
    "config.read('rules.ini')\n",
    "\n",
    "settings = {}\n",
    "settings['path'] = config['RULES']['path']\n",
    "settings['variation'] = config['RULES']['variation'][0]\n",
    "settings['prop_variation'] = float(config['RULES']['variation'][1:])"
   ]
  },
  {
   "cell_type": "code",
   "execution_count": 4,
   "metadata": {},
   "outputs": [],
   "source": [
    "path = r'C:\\DanielBaron\\GenerativeLSTM\\output_files\\20230417_3E8ABBDA_765B_4740_A305_D925CF5DE07C'\n",
    "org_log_path = os.path.join(path, 'parameters', 'original_log.csv')\n",
    "\n",
    "df_org = pd.read_csv(org_log_path)\n",
    "df_org['start_timestamp'] = pd.to_datetime(df_org['start_timestamp'])\n",
    "df_org['end_timestamp'] = pd.to_datetime(df_org['end_timestamp'])\n",
    "df_org['rank'] = df_org.groupby('caseid')['start_timestamp'].rank().astype(int)"
   ]
  },
  {
   "cell_type": "code",
   "execution_count": 5,
   "metadata": {},
   "outputs": [],
   "source": [
    "ac_index = dict(zip(df_org.task, df_org.ac_index))"
   ]
  },
  {
   "cell_type": "code",
   "execution_count": 6,
   "metadata": {},
   "outputs": [],
   "source": [
    "path = r'C:\\DanielBaron\\GenerativeLSTM\\output_files\\20230417_3E8ABBDA_765B_4740_A305_D925CF5DE07C'\n",
    "gen_log_path = os.path.join(path, 'parameters', 'generated_log.csv')\n",
    "\n",
    "df_gen = pd.read_csv(gen_log_path)\n",
    "df_gen['start_timestamp'] = pd.to_datetime(df_gen['start_timestamp'])\n",
    "df_gen['end_timestamp'] = pd.to_datetime(df_gen['end_timestamp'])\n",
    "df_gen['rank'] = df_gen.groupby('caseid')['start_timestamp'].rank().astype(int)"
   ]
  },
  {
   "cell_type": "code",
   "execution_count": 7,
   "metadata": {},
   "outputs": [],
   "source": [
    "act_paths = list(itertools.product(*[x if type(x) is list else [x] for x in [json.loads(x.strip()) for x in settings['path'].split('>>')] ]))\n",
    "act_paths_idx = [(ac_index[x[0]], ac_index[x[1]]) for x in act_paths]"
   ]
  },
  {
   "attachments": {},
   "cell_type": "markdown",
   "metadata": {},
   "source": [
    "## Add edges"
   ]
  },
  {
   "cell_type": "code",
   "execution_count": 11,
   "metadata": {},
   "outputs": [],
   "source": [
    "class GenerateStats:\n",
    "    def __init__(self, log, ac_index, ac_paths) -> None:\n",
    "        self.log = log\n",
    "        self.log['start_timestamp'] = pd.to_datetime(self.log['start_timestamp'])\n",
    "        self.log['end_timestamp'] = pd.to_datetime(self.log['end_timestamp'])\n",
    "        self.log['rank'] = self.log.groupby('caseid')['start_timestamp'].rank().astype(int)\n",
    "        self.ac_index = ac_index\n",
    "        self.ac_paths = ac_paths\n",
    "\n",
    "    def evaluate_condition(self, df_case):\n",
    "        df_case = df_case.sort_values(by='rank')\n",
    "        u_tasks = [self.ac_index[x] for x in df_case['task'].drop_duplicates()]\n",
    "        \n",
    "        G = nx.DiGraph()\n",
    "        for task in u_tasks:\n",
    "            G.add_node(task)\n",
    "\n",
    "        tasks = list(df_case['task'])\n",
    "        if list(df_case['rank']) == list(set(list(df_case['rank']))):\n",
    "            order = [(self.ac_index[x[0]], self.ac_index[x[1]]) for x in [(a, b) for a, b in zip(tasks[:-1], tasks[1:])]]\n",
    "        else:\n",
    "            order = []\n",
    "            for i in range(1, len(df_case['rank'])):\n",
    "                c_task = list(df_case[df_case['rank']==i]['task'])\n",
    "                n_task = list(df_case[df_case['rank']==i+1]['task'])\n",
    "                order += [(self.ac_index[x[0]], self.ac_index[x[1]]) for x in list(itertools.product(c_task, n_task))]\n",
    "\n",
    "        G.add_edges_from(order)\n",
    "        conds = [nx.is_simple_path(G, act_path) for act_path in act_paths_idx]\n",
    "\n",
    "        return min(conds)\n",
    "\n",
    "    def get_stats(self):\n",
    "\n",
    "        pos_cases = 0\n",
    "        total_cases = len(self.log['caseid'].drop_duplicates())\n",
    "        for caseid in self.log['caseid'].drop_duplicates():\n",
    "\n",
    "            df_case = self.log[self.log['caseid']==caseid]\n",
    "            cond = self.evaluate_condition(df_case)\n",
    "            if cond:\n",
    "                pos_cases += 1\n",
    "\n",
    "        return pos_cases, total_cases"
   ]
  },
  {
   "cell_type": "code",
   "execution_count": 12,
   "metadata": {},
   "outputs": [],
   "source": [
    "gs = GenerateStats(df_org, ac_index, act_paths_idx)"
   ]
  }
 ],
 "metadata": {
  "kernelspec": {
   "display_name": "DL",
   "language": "python",
   "name": "python3"
  },
  "language_info": {
   "codemirror_mode": {
    "name": "ipython",
    "version": 3
   },
   "file_extension": ".py",
   "mimetype": "text/x-python",
   "name": "python",
   "nbconvert_exporter": "python",
   "pygments_lexer": "ipython3",
   "version": "3.10.4"
  },
  "orig_nbformat": 4
 },
 "nbformat": 4,
 "nbformat_minor": 2
}
