{
 "cells": [
  {
   "cell_type": "code",
   "execution_count": 2,
   "metadata": {},
   "outputs": [],
   "source": [
    "import pandas as pd\n",
    "import networkx as nx\n",
    "import os\n",
    "import configparser\n",
    "import itertools\n",
    "import json"
   ]
  },
  {
   "cell_type": "code",
   "execution_count": 3,
   "metadata": {},
   "outputs": [],
   "source": [
    "config = configparser.ConfigParser()\n",
    "config.read('rules.ini')\n",
    "\n",
    "settings = {}\n",
    "settings['path'] = config['RULES']['path']\n",
    "settings['variation'] = config['RULES']['variation'][0]\n",
    "settings['prop_variation'] = float(config['RULES']['variation'][1:])"
   ]
  },
  {
   "cell_type": "code",
   "execution_count": 4,
   "metadata": {},
   "outputs": [],
   "source": [
    "path = r'C:\\DanielBaron\\GenerativeLSTM\\output_files\\20230417_3E8ABBDA_765B_4740_A305_D925CF5DE07C'\n",
    "org_log_path = os.path.join(path, 'parameters', 'original_log.csv')\n",
    "\n",
    "df_org = pd.read_csv(org_log_path)\n",
    "df_org['start_timestamp'] = pd.to_datetime(df_org['start_timestamp'])\n",
    "df_org['end_timestamp'] = pd.to_datetime(df_org['end_timestamp'])\n",
    "df_org['rank'] = df_org.groupby('caseid')['start_timestamp'].rank().astype(int)"
   ]
  },
  {
   "cell_type": "code",
   "execution_count": 5,
   "metadata": {},
   "outputs": [],
   "source": [
    "ac_index = dict(zip(df_org.task, df_org.ac_index))"
   ]
  },
  {
   "cell_type": "code",
   "execution_count": 6,
   "metadata": {},
   "outputs": [],
   "source": [
    "path = r'C:\\DanielBaron\\GenerativeLSTM\\output_files\\20230417_3E8ABBDA_765B_4740_A305_D925CF5DE07C'\n",
    "gen_log_path = os.path.join(path, 'parameters', 'generated_log.csv')\n",
    "\n",
    "df_gen = pd.read_csv(gen_log_path)\n",
    "df_gen['start_timestamp'] = pd.to_datetime(df_gen['start_timestamp'])\n",
    "df_gen['end_timestamp'] = pd.to_datetime(df_gen['end_timestamp'])\n",
    "df_gen['rank'] = df_gen.groupby('caseid')['start_timestamp'].rank().astype(int)"
   ]
  },
  {
   "cell_type": "code",
   "execution_count": 7,
   "metadata": {},
   "outputs": [],
   "source": [
    "act_paths = list(itertools.product(*[x if type(x) is list else [x] for x in [json.loads(x.strip()) for x in settings['path'].split('>>')] ]))\n",
    "act_paths_idx = [(ac_index[x[0]], ac_index[x[1]]) for x in act_paths]"
   ]
  },
  {
   "attachments": {},
   "cell_type": "markdown",
   "metadata": {},
   "source": [
    "## Add edges"
   ]
  },
  {
   "cell_type": "code",
   "execution_count": 11,
   "metadata": {},
   "outputs": [],
   "source": [
    "class GenerateStats:\n",
    "    def __init__(self, log, ac_index, ac_paths) -> None:\n",
    "        self.log = log\n",
    "        self.log['start_timestamp'] = pd.to_datetime(self.log['start_timestamp'])\n",
    "        self.log['end_timestamp'] = pd.to_datetime(self.log['end_timestamp'])\n",
    "        self.log['rank'] = self.log.groupby('caseid')['start_timestamp'].rank().astype(int)\n",
    "        self.ac_index = ac_index\n",
    "        self.ac_paths = ac_paths\n",
    "\n",
    "    def evaluate_condition(self, df_case):\n",
    "        df_case = df_case.sort_values(by='rank')\n",
    "        u_tasks = [self.ac_index[x] for x in df_case['task'].drop_duplicates()]\n",
    "        \n",
    "        G = nx.DiGraph()\n",
    "        for task in u_tasks:\n",
    "            G.add_node(task)\n",
    "\n",
    "        tasks = list(df_case['task'])\n",
    "        if list(df_case['rank']) == list(set(list(df_case['rank']))):\n",
    "            order = [(self.ac_index[x[0]], self.ac_index[x[1]]) for x in [(a, b) for a, b in zip(tasks[:-1], tasks[1:])]]\n",
    "        else:\n",
    "            order = []\n",
    "            for i in range(1, len(df_case['rank'])):\n",
    "                c_task = list(df_case[df_case['rank']==i]['task'])\n",
    "                n_task = list(df_case[df_case['rank']==i+1]['task'])\n",
    "                order += [(self.ac_index[x[0]], self.ac_index[x[1]]) for x in list(itertools.product(c_task, n_task))]\n",
    "\n",
    "        G.add_edges_from(order)\n",
    "        conds = [nx.is_simple_path(G, act_path) for act_path in act_paths_idx]\n",
    "\n",
    "        return min(conds)\n",
    "\n",
    "    def get_stats(self):\n",
    "\n",
    "        pos_cases = 0\n",
    "        total_cases = len(self.log['caseid'].drop_duplicates())\n",
    "        for caseid in self.log['caseid'].drop_duplicates():\n",
    "\n",
    "            df_case = self.log[self.log['caseid']==caseid]\n",
    "            cond = self.evaluate_condition(df_case)\n",
    "            if cond:\n",
    "                pos_cases += 1\n",
    "\n",
    "        return pos_cases, total_cases"
   ]
  },
  {
   "cell_type": "code",
   "execution_count": 12,
   "metadata": {},
   "outputs": [],
   "source": [
    "gs = GenerateStats(df_org, ac_index, act_paths_idx)"
   ]
  },
  {
   "cell_type": "code",
   "execution_count": 41,
   "metadata": {},
   "outputs": [],
   "source": [
    "from pandas import Timestamp\n",
    "from support_modules import traces_evaluation as te"
   ]
  },
  {
   "cell_type": "code",
   "execution_count": 57,
   "metadata": {},
   "outputs": [
    {
     "data": {
      "text/plain": [
       "{'path': '\"Final Inspection Q.C.\" >> \"Round Grinding\"',\n",
       " 'variation': '+',\n",
       " 'prop_variation': 0.1,\n",
       " 'act_paths': [('Final Inspection Q.C.', 'Round Grinding')]}"
      ]
     },
     "execution_count": 57,
     "metadata": {},
     "output_type": "execute_result"
    }
   ],
   "source": [
    "settings = te.extract_rules()\n",
    "settings"
   ]
  },
  {
   "cell_type": "code",
   "execution_count": 58,
   "metadata": {},
   "outputs": [],
   "source": [
    "trace = [{'caseid': 'Case43', 'task': 'Turning & Milling', 'role': 'Role 1', 'start_timestamp': Timestamp('2012-03-13 00:00:00'), 'end_timestamp': Timestamp('2012-03-13 02:09:16'), 'dur_raw': 0.09367651, 'dur': 7756.0, 'wait_raw': 0, 'wait': 0.0}, {'caseid': 'Case43', 'task': 'Turning & Milling', 'role': 'Role 1', 'start_timestamp': Timestamp('2012-03-13 02:09:16'), 'end_timestamp': Timestamp('2012-03-13 04:09:57'), 'dur_raw': 0.08744754, 'dur': 7241.0, 'wait_raw': 0, 'wait': 0.0}, {'caseid': 'Case43', 'task': 'Turning & Milling', 'role': 'Role 1', 'start_timestamp': Timestamp('2012-03-13 04:09:57'), 'end_timestamp': Timestamp('2012-03-13 06:00:14'), 'dur_raw': 0.07991026, 'dur': 6617.0, 'wait_raw': 0, 'wait': 0.0}, {'caseid': 'Case43', 'task': 'Turning & Milling Q.C.', 'role': 'Role 3', 'start_timestamp': Timestamp('2012-03-13 06:00:14'), 'end_timestamp': Timestamp('2012-03-13 07:39:38'), 'dur_raw': 0.07202387, 'dur': 5964.0, 'wait_raw': 0, 'wait': 0.0}, {'caseid': 'Case43', 'task': 'Turning & Milling', 'role': 'Role 3', 'start_timestamp': Timestamp('2012-03-13 07:39:38'), 'end_timestamp': Timestamp('2012-03-13 09:10:13'), 'dur_raw': 0.06563606, 'dur': 5435.0, 'wait_raw': 0, 'wait': 0.0}, {'caseid': 'Case43', 'task': 'Turning & Milling Q.C.', 'role': 'Role 3', 'start_timestamp': Timestamp('2012-03-13 09:10:13'), 'end_timestamp': Timestamp('2012-03-13 10:34:54'), 'dur_raw': 0.061369464, 'dur': 5081.0, 'wait_raw': 0, 'wait': 0.0}, {'caseid': 'Case43', 'task': 'Turning & Milling', 'role': 'Role 1', 'start_timestamp': Timestamp('2012-03-13 10:34:54'), 'end_timestamp': Timestamp('2012-03-13 12:01:25'), 'dur_raw': 0.06269527, 'dur': 5191.0, 'wait_raw': 0, 'wait': 0.0}, {'caseid': 'Case43', 'task': 'Turning & Milling', 'role': 'Role 1', 'start_timestamp': Timestamp('2012-03-13 12:01:25'), 'end_timestamp': Timestamp('2012-03-13 13:29:51'), 'dur_raw': 0.06408131, 'dur': 5306.0, 'wait_raw': 0, 'wait': 0.0}, {'caseid': 'Case43', 'task': 'Turning & Milling', 'role': 'Role 1', 'start_timestamp': Timestamp('2012-03-13 13:29:51'), 'end_timestamp': Timestamp('2012-03-13 14:59:43'), 'dur_raw': 0.065124825, 'dur': 5392.0, 'wait_raw': 0, 'wait': 0.0}, {'caseid': 'Case43', 'task': 'Turning & Milling Q.C.', 'role': 'Role 1', 'start_timestamp': Timestamp('2012-03-13 14:59:43'), 'end_timestamp': Timestamp('2012-03-13 16:30:17'), 'dur_raw': 0.06562811, 'dur': 5434.0, 'wait_raw': 0, 'wait': 0.0}, {'caseid': 'Case43', 'task': 'Turning & Milling Q.C.', 'role': 'Role 1', 'start_timestamp': Timestamp('2012-03-13 16:30:17'), 'end_timestamp': Timestamp('2012-03-13 18:00:53'), 'dur_raw': 0.06565593, 'dur': 5436.0, 'wait_raw': 0, 'wait': 0.0}, {'caseid': 'Case43', 'task': 'Turning & Milling', 'role': 'Role 3', 'start_timestamp': Timestamp('2012-03-13 18:00:53'), 'end_timestamp': Timestamp('2012-03-13 19:31:07'), 'dur_raw': 0.06538925, 'dur': 5414.0, 'wait_raw': 0, 'wait': 0.0}, {'caseid': 'Case43', 'task': 'Turning & Milling Q.C.', 'role': 'Role 3', 'start_timestamp': Timestamp('2012-03-13 19:31:07'), 'end_timestamp': Timestamp('2012-03-13 21:01:06'), 'dur_raw': 0.06520532, 'dur': 5399.0, 'wait_raw': 0, 'wait': 0.0}, {'caseid': 'Case43', 'task': 'Turning & Milling Q.C.', 'role': 'Role 2', 'start_timestamp': Timestamp('2012-03-13 21:01:06'), 'end_timestamp': Timestamp('2012-03-13 22:30:58'), 'dur_raw': 0.06512189, 'dur': 5392.0, 'wait_raw': 0, 'wait': 0.0}, {'caseid': 'Case43', 'task': 'Turning & Milling Q.C.', 'role': 'end', 'start_timestamp': Timestamp('2012-03-13 22:30:58'), 'end_timestamp': Timestamp('2012-03-14 00:00:50'), 'dur_raw': 0.065116175, 'dur': 5392.0, 'wait_raw': 0, 'wait': 0.0}, {'caseid': 'Case43', 'task': 'Final Inspection Q.C.', 'role': 'Role 7', 'start_timestamp': Timestamp('2012-03-14 00:00:50'), 'end_timestamp': Timestamp('2012-03-14 01:30:44'), 'dur_raw': 0.065147564, 'dur': 5394.0, 'wait_raw': 0, 'wait': 0.0}, {'caseid': 'Case43', 'task': 'Round Grinding', 'role': 'Role 1', 'start_timestamp': Timestamp('2012-03-14 01:30:44'), 'end_timestamp': Timestamp('2012-03-14 03:00:41'), 'dur_raw': 0.06518093, 'dur': 5397.0, 'wait_raw': 0, 'wait': 0.0}, {'caseid': 'Case43', 'task': 'Round Grinding', 'role': 'Role 2', 'start_timestamp': Timestamp('2012-03-14 03:00:41'), 'end_timestamp': Timestamp('2012-03-14 04:30:39'), 'dur_raw': 0.06519602, 'dur': 5398.0, 'wait_raw': 0, 'wait': 0.0}, {'caseid': 'Case43', 'task': 'Round Grinding', 'role': 'Role 2', 'start_timestamp': Timestamp('2012-03-14 04:30:39'), 'end_timestamp': Timestamp('2012-03-14 06:00:37'), 'dur_raw': 0.065197736, 'dur': 5398.0, 'wait_raw': 0, 'wait': 0.0}, {'caseid': 'Case43', 'task': 'Lapping', 'role': 'Role 7', 'start_timestamp': Timestamp('2012-03-14 06:00:37'), 'end_timestamp': Timestamp('2012-03-14 07:30:35'), 'dur_raw': 0.06519316, 'dur': 5398.0, 'wait_raw': 0, 'wait': 0.0}, {'caseid': 'Case43', 'task': 'Round Grinding', 'role': 'Role 2', 'start_timestamp': Timestamp('2012-03-14 07:30:35'), 'end_timestamp': Timestamp('2012-03-14 09:00:33'), 'dur_raw': 0.06518809, 'dur': 5398.0, 'wait_raw': 0, 'wait': 0.0}, {'caseid': 'Case43', 'task': 'Round Grinding', 'role': 'Role 7', 'start_timestamp': Timestamp('2012-03-14 09:00:33'), 'end_timestamp': Timestamp('2012-03-14 10:30:30'), 'dur_raw': 0.06518525, 'dur': 5397.0, 'wait_raw': 0, 'wait': 0.0}, {'caseid': 'Case43', 'task': 'Round Grinding', 'role': 'Role 2', 'start_timestamp': Timestamp('2012-03-14 10:30:30'), 'end_timestamp': Timestamp('2012-03-14 12:00:27'), 'dur_raw': 0.06518478, 'dur': 5397.0, 'wait_raw': 0, 'wait': 0.0}, {'caseid': 'Case43', 'task': 'Lapping', 'role': 'Role 2', 'start_timestamp': Timestamp('2012-03-14 12:00:27'), 'end_timestamp': Timestamp('2012-03-14 13:30:24'), 'dur_raw': 0.06518542, 'dur': 5397.0, 'wait_raw': 0, 'wait': 0.0}, {'caseid': 'Case43', 'task': 'Flat Grinding', 'role': 'Role 7', 'start_timestamp': Timestamp('2012-03-14 13:30:24'), 'end_timestamp': Timestamp('2012-03-14 15:00:21'), 'dur_raw': 0.06518625, 'dur': 5397.0, 'wait_raw': 0, 'wait': 0.0}, {'caseid': 'Case43', 'task': 'Lapping', 'role': 'Role 2', 'start_timestamp': Timestamp('2012-03-14 15:00:21'), 'end_timestamp': Timestamp('2012-03-14 16:30:18'), 'dur_raw': 0.06518671, 'dur': 5397.0, 'wait_raw': 0, 'wait': 0.0}, {'caseid': 'Case43', 'task': 'Packing', 'role': 'Role 10', 'start_timestamp': Timestamp('2012-03-14 16:30:18'), 'end_timestamp': Timestamp('2012-03-14 18:00:15'), 'dur_raw': 0.065186836, 'dur': 5397.0, 'wait_raw': 0, 'wait': 0.0}, {'caseid': 'Case43', 'task': 'Final Inspection Q.C.', 'role': 'Role 2', 'start_timestamp': Timestamp('2012-03-14 18:00:15'), 'end_timestamp': Timestamp('2012-03-14 19:30:12'), 'dur_raw': 0.06518674, 'dur': 5397.0, 'wait_raw': 0, 'wait': 0.0}, {'caseid': 'Case43', 'task': 'Packing', 'role': 'Role 2', 'start_timestamp': Timestamp('2012-03-14 19:30:12'), 'end_timestamp': Timestamp('2012-03-14 21:00:09'), 'dur_raw': 0.06518663, 'dur': 5397.0, 'wait_raw': 0, 'wait': 0.0}, {'caseid': 'Case43', 'task': 'Turning & Milling', 'role': 'end', 'start_timestamp': Timestamp('2012-03-14 21:00:09'), 'end_timestamp': Timestamp('2012-03-14 22:30:06'), 'dur_raw': 0.06518653, 'dur': 5397.0, 'wait_raw': 0, 'wait': 0.0}]"
   ]
  },
  {
   "cell_type": "code",
   "execution_count": 64,
   "metadata": {},
   "outputs": [
    {
     "data": {
      "text/plain": [
       "{'Turning & Milling': 21,\n",
       " 'Turning & Milling Q.C.': 22,\n",
       " 'Laser Marking': 8,\n",
       " 'Lapping': 7,\n",
       " 'Round Grinding': 15,\n",
       " 'Final Inspection Q.C.': 3,\n",
       " 'Packing': 12,\n",
       " 'Turning Q.C.': 23,\n",
       " 'Flat Grinding': 5,\n",
       " 'Grinding Rework': 6,\n",
       " 'Setup': 17,\n",
       " 'Turning': 20,\n",
       " 'SETUP     Turning & Milling': 16,\n",
       " 'Final Inspection': 2,\n",
       " 'Rework Milling': 13,\n",
       " 'Milling Q.C.': 10,\n",
       " 'Milling': 9,\n",
       " 'Fix': 4,\n",
       " 'Round  Q.C.': 14,\n",
       " 'Stress Relief': 18,\n",
       " 'Turning Rework': 24,\n",
       " 'Change Version': 1,\n",
       " 'Turn & Mill. & Screw Assem': 19,\n",
       " 'Nitration Q.C.': 11}"
      ]
     },
     "execution_count": 64,
     "metadata": {},
     "output_type": "execute_result"
    }
   ],
   "source": [
    "ac_index"
   ]
  },
  {
   "cell_type": "code",
   "execution_count": 63,
   "metadata": {},
   "outputs": [
    {
     "data": {
      "text/plain": [
       "[(3, 15)]"
      ]
     },
     "execution_count": 63,
     "metadata": {},
     "output_type": "execute_result"
    }
   ],
   "source": [
    "act_paths_idx = [(ac_index[x[0]], ac_index[x[1]]) for x in settings['act_paths']]\n",
    "act_paths_idx"
   ]
  },
  {
   "cell_type": "code",
   "execution_count": 60,
   "metadata": {},
   "outputs": [
    {
     "data": {
      "text/html": [
       "<div>\n",
       "<style scoped>\n",
       "    .dataframe tbody tr th:only-of-type {\n",
       "        vertical-align: middle;\n",
       "    }\n",
       "\n",
       "    .dataframe tbody tr th {\n",
       "        vertical-align: top;\n",
       "    }\n",
       "\n",
       "    .dataframe thead th {\n",
       "        text-align: right;\n",
       "    }\n",
       "</style>\n",
       "<table border=\"1\" class=\"dataframe\">\n",
       "  <thead>\n",
       "    <tr style=\"text-align: right;\">\n",
       "      <th></th>\n",
       "      <th>caseid</th>\n",
       "      <th>task</th>\n",
       "      <th>role</th>\n",
       "      <th>start_timestamp</th>\n",
       "      <th>end_timestamp</th>\n",
       "      <th>dur_raw</th>\n",
       "      <th>dur</th>\n",
       "      <th>wait_raw</th>\n",
       "      <th>wait</th>\n",
       "      <th>rank</th>\n",
       "    </tr>\n",
       "  </thead>\n",
       "  <tbody>\n",
       "    <tr>\n",
       "      <th>0</th>\n",
       "      <td>Case43</td>\n",
       "      <td>Turning &amp; Milling</td>\n",
       "      <td>Role 1</td>\n",
       "      <td>2012-03-13 00:00:00</td>\n",
       "      <td>2012-03-13 02:09:16</td>\n",
       "      <td>0.093677</td>\n",
       "      <td>7756.0</td>\n",
       "      <td>0</td>\n",
       "      <td>0.0</td>\n",
       "      <td>1</td>\n",
       "    </tr>\n",
       "    <tr>\n",
       "      <th>1</th>\n",
       "      <td>Case43</td>\n",
       "      <td>Turning &amp; Milling</td>\n",
       "      <td>Role 1</td>\n",
       "      <td>2012-03-13 02:09:16</td>\n",
       "      <td>2012-03-13 04:09:57</td>\n",
       "      <td>0.087448</td>\n",
       "      <td>7241.0</td>\n",
       "      <td>0</td>\n",
       "      <td>0.0</td>\n",
       "      <td>2</td>\n",
       "    </tr>\n",
       "    <tr>\n",
       "      <th>2</th>\n",
       "      <td>Case43</td>\n",
       "      <td>Turning &amp; Milling</td>\n",
       "      <td>Role 1</td>\n",
       "      <td>2012-03-13 04:09:57</td>\n",
       "      <td>2012-03-13 06:00:14</td>\n",
       "      <td>0.079910</td>\n",
       "      <td>6617.0</td>\n",
       "      <td>0</td>\n",
       "      <td>0.0</td>\n",
       "      <td>3</td>\n",
       "    </tr>\n",
       "    <tr>\n",
       "      <th>3</th>\n",
       "      <td>Case43</td>\n",
       "      <td>Turning &amp; Milling Q.C.</td>\n",
       "      <td>Role 3</td>\n",
       "      <td>2012-03-13 06:00:14</td>\n",
       "      <td>2012-03-13 07:39:38</td>\n",
       "      <td>0.072024</td>\n",
       "      <td>5964.0</td>\n",
       "      <td>0</td>\n",
       "      <td>0.0</td>\n",
       "      <td>4</td>\n",
       "    </tr>\n",
       "    <tr>\n",
       "      <th>4</th>\n",
       "      <td>Case43</td>\n",
       "      <td>Turning &amp; Milling</td>\n",
       "      <td>Role 3</td>\n",
       "      <td>2012-03-13 07:39:38</td>\n",
       "      <td>2012-03-13 09:10:13</td>\n",
       "      <td>0.065636</td>\n",
       "      <td>5435.0</td>\n",
       "      <td>0</td>\n",
       "      <td>0.0</td>\n",
       "      <td>5</td>\n",
       "    </tr>\n",
       "    <tr>\n",
       "      <th>5</th>\n",
       "      <td>Case43</td>\n",
       "      <td>Turning &amp; Milling Q.C.</td>\n",
       "      <td>Role 3</td>\n",
       "      <td>2012-03-13 09:10:13</td>\n",
       "      <td>2012-03-13 10:34:54</td>\n",
       "      <td>0.061369</td>\n",
       "      <td>5081.0</td>\n",
       "      <td>0</td>\n",
       "      <td>0.0</td>\n",
       "      <td>6</td>\n",
       "    </tr>\n",
       "    <tr>\n",
       "      <th>6</th>\n",
       "      <td>Case43</td>\n",
       "      <td>Turning &amp; Milling</td>\n",
       "      <td>Role 1</td>\n",
       "      <td>2012-03-13 10:34:54</td>\n",
       "      <td>2012-03-13 12:01:25</td>\n",
       "      <td>0.062695</td>\n",
       "      <td>5191.0</td>\n",
       "      <td>0</td>\n",
       "      <td>0.0</td>\n",
       "      <td>7</td>\n",
       "    </tr>\n",
       "    <tr>\n",
       "      <th>7</th>\n",
       "      <td>Case43</td>\n",
       "      <td>Turning &amp; Milling</td>\n",
       "      <td>Role 1</td>\n",
       "      <td>2012-03-13 12:01:25</td>\n",
       "      <td>2012-03-13 13:29:51</td>\n",
       "      <td>0.064081</td>\n",
       "      <td>5306.0</td>\n",
       "      <td>0</td>\n",
       "      <td>0.0</td>\n",
       "      <td>8</td>\n",
       "    </tr>\n",
       "    <tr>\n",
       "      <th>8</th>\n",
       "      <td>Case43</td>\n",
       "      <td>Turning &amp; Milling</td>\n",
       "      <td>Role 1</td>\n",
       "      <td>2012-03-13 13:29:51</td>\n",
       "      <td>2012-03-13 14:59:43</td>\n",
       "      <td>0.065125</td>\n",
       "      <td>5392.0</td>\n",
       "      <td>0</td>\n",
       "      <td>0.0</td>\n",
       "      <td>9</td>\n",
       "    </tr>\n",
       "    <tr>\n",
       "      <th>9</th>\n",
       "      <td>Case43</td>\n",
       "      <td>Turning &amp; Milling Q.C.</td>\n",
       "      <td>Role 1</td>\n",
       "      <td>2012-03-13 14:59:43</td>\n",
       "      <td>2012-03-13 16:30:17</td>\n",
       "      <td>0.065628</td>\n",
       "      <td>5434.0</td>\n",
       "      <td>0</td>\n",
       "      <td>0.0</td>\n",
       "      <td>10</td>\n",
       "    </tr>\n",
       "    <tr>\n",
       "      <th>10</th>\n",
       "      <td>Case43</td>\n",
       "      <td>Turning &amp; Milling Q.C.</td>\n",
       "      <td>Role 1</td>\n",
       "      <td>2012-03-13 16:30:17</td>\n",
       "      <td>2012-03-13 18:00:53</td>\n",
       "      <td>0.065656</td>\n",
       "      <td>5436.0</td>\n",
       "      <td>0</td>\n",
       "      <td>0.0</td>\n",
       "      <td>11</td>\n",
       "    </tr>\n",
       "    <tr>\n",
       "      <th>11</th>\n",
       "      <td>Case43</td>\n",
       "      <td>Turning &amp; Milling</td>\n",
       "      <td>Role 3</td>\n",
       "      <td>2012-03-13 18:00:53</td>\n",
       "      <td>2012-03-13 19:31:07</td>\n",
       "      <td>0.065389</td>\n",
       "      <td>5414.0</td>\n",
       "      <td>0</td>\n",
       "      <td>0.0</td>\n",
       "      <td>12</td>\n",
       "    </tr>\n",
       "    <tr>\n",
       "      <th>12</th>\n",
       "      <td>Case43</td>\n",
       "      <td>Turning &amp; Milling Q.C.</td>\n",
       "      <td>Role 3</td>\n",
       "      <td>2012-03-13 19:31:07</td>\n",
       "      <td>2012-03-13 21:01:06</td>\n",
       "      <td>0.065205</td>\n",
       "      <td>5399.0</td>\n",
       "      <td>0</td>\n",
       "      <td>0.0</td>\n",
       "      <td>13</td>\n",
       "    </tr>\n",
       "    <tr>\n",
       "      <th>13</th>\n",
       "      <td>Case43</td>\n",
       "      <td>Turning &amp; Milling Q.C.</td>\n",
       "      <td>Role 2</td>\n",
       "      <td>2012-03-13 21:01:06</td>\n",
       "      <td>2012-03-13 22:30:58</td>\n",
       "      <td>0.065122</td>\n",
       "      <td>5392.0</td>\n",
       "      <td>0</td>\n",
       "      <td>0.0</td>\n",
       "      <td>14</td>\n",
       "    </tr>\n",
       "    <tr>\n",
       "      <th>14</th>\n",
       "      <td>Case43</td>\n",
       "      <td>Turning &amp; Milling Q.C.</td>\n",
       "      <td>end</td>\n",
       "      <td>2012-03-13 22:30:58</td>\n",
       "      <td>2012-03-14 00:00:50</td>\n",
       "      <td>0.065116</td>\n",
       "      <td>5392.0</td>\n",
       "      <td>0</td>\n",
       "      <td>0.0</td>\n",
       "      <td>15</td>\n",
       "    </tr>\n",
       "    <tr>\n",
       "      <th>15</th>\n",
       "      <td>Case43</td>\n",
       "      <td>Final Inspection Q.C.</td>\n",
       "      <td>Role 7</td>\n",
       "      <td>2012-03-14 00:00:50</td>\n",
       "      <td>2012-03-14 01:30:44</td>\n",
       "      <td>0.065148</td>\n",
       "      <td>5394.0</td>\n",
       "      <td>0</td>\n",
       "      <td>0.0</td>\n",
       "      <td>16</td>\n",
       "    </tr>\n",
       "    <tr>\n",
       "      <th>16</th>\n",
       "      <td>Case43</td>\n",
       "      <td>Round Grinding</td>\n",
       "      <td>Role 1</td>\n",
       "      <td>2012-03-14 01:30:44</td>\n",
       "      <td>2012-03-14 03:00:41</td>\n",
       "      <td>0.065181</td>\n",
       "      <td>5397.0</td>\n",
       "      <td>0</td>\n",
       "      <td>0.0</td>\n",
       "      <td>17</td>\n",
       "    </tr>\n",
       "    <tr>\n",
       "      <th>17</th>\n",
       "      <td>Case43</td>\n",
       "      <td>Round Grinding</td>\n",
       "      <td>Role 2</td>\n",
       "      <td>2012-03-14 03:00:41</td>\n",
       "      <td>2012-03-14 04:30:39</td>\n",
       "      <td>0.065196</td>\n",
       "      <td>5398.0</td>\n",
       "      <td>0</td>\n",
       "      <td>0.0</td>\n",
       "      <td>18</td>\n",
       "    </tr>\n",
       "    <tr>\n",
       "      <th>18</th>\n",
       "      <td>Case43</td>\n",
       "      <td>Round Grinding</td>\n",
       "      <td>Role 2</td>\n",
       "      <td>2012-03-14 04:30:39</td>\n",
       "      <td>2012-03-14 06:00:37</td>\n",
       "      <td>0.065198</td>\n",
       "      <td>5398.0</td>\n",
       "      <td>0</td>\n",
       "      <td>0.0</td>\n",
       "      <td>19</td>\n",
       "    </tr>\n",
       "    <tr>\n",
       "      <th>19</th>\n",
       "      <td>Case43</td>\n",
       "      <td>Lapping</td>\n",
       "      <td>Role 7</td>\n",
       "      <td>2012-03-14 06:00:37</td>\n",
       "      <td>2012-03-14 07:30:35</td>\n",
       "      <td>0.065193</td>\n",
       "      <td>5398.0</td>\n",
       "      <td>0</td>\n",
       "      <td>0.0</td>\n",
       "      <td>20</td>\n",
       "    </tr>\n",
       "    <tr>\n",
       "      <th>20</th>\n",
       "      <td>Case43</td>\n",
       "      <td>Round Grinding</td>\n",
       "      <td>Role 2</td>\n",
       "      <td>2012-03-14 07:30:35</td>\n",
       "      <td>2012-03-14 09:00:33</td>\n",
       "      <td>0.065188</td>\n",
       "      <td>5398.0</td>\n",
       "      <td>0</td>\n",
       "      <td>0.0</td>\n",
       "      <td>21</td>\n",
       "    </tr>\n",
       "    <tr>\n",
       "      <th>21</th>\n",
       "      <td>Case43</td>\n",
       "      <td>Round Grinding</td>\n",
       "      <td>Role 7</td>\n",
       "      <td>2012-03-14 09:00:33</td>\n",
       "      <td>2012-03-14 10:30:30</td>\n",
       "      <td>0.065185</td>\n",
       "      <td>5397.0</td>\n",
       "      <td>0</td>\n",
       "      <td>0.0</td>\n",
       "      <td>22</td>\n",
       "    </tr>\n",
       "    <tr>\n",
       "      <th>22</th>\n",
       "      <td>Case43</td>\n",
       "      <td>Round Grinding</td>\n",
       "      <td>Role 2</td>\n",
       "      <td>2012-03-14 10:30:30</td>\n",
       "      <td>2012-03-14 12:00:27</td>\n",
       "      <td>0.065185</td>\n",
       "      <td>5397.0</td>\n",
       "      <td>0</td>\n",
       "      <td>0.0</td>\n",
       "      <td>23</td>\n",
       "    </tr>\n",
       "    <tr>\n",
       "      <th>23</th>\n",
       "      <td>Case43</td>\n",
       "      <td>Lapping</td>\n",
       "      <td>Role 2</td>\n",
       "      <td>2012-03-14 12:00:27</td>\n",
       "      <td>2012-03-14 13:30:24</td>\n",
       "      <td>0.065185</td>\n",
       "      <td>5397.0</td>\n",
       "      <td>0</td>\n",
       "      <td>0.0</td>\n",
       "      <td>24</td>\n",
       "    </tr>\n",
       "    <tr>\n",
       "      <th>24</th>\n",
       "      <td>Case43</td>\n",
       "      <td>Flat Grinding</td>\n",
       "      <td>Role 7</td>\n",
       "      <td>2012-03-14 13:30:24</td>\n",
       "      <td>2012-03-14 15:00:21</td>\n",
       "      <td>0.065186</td>\n",
       "      <td>5397.0</td>\n",
       "      <td>0</td>\n",
       "      <td>0.0</td>\n",
       "      <td>25</td>\n",
       "    </tr>\n",
       "    <tr>\n",
       "      <th>25</th>\n",
       "      <td>Case43</td>\n",
       "      <td>Lapping</td>\n",
       "      <td>Role 2</td>\n",
       "      <td>2012-03-14 15:00:21</td>\n",
       "      <td>2012-03-14 16:30:18</td>\n",
       "      <td>0.065187</td>\n",
       "      <td>5397.0</td>\n",
       "      <td>0</td>\n",
       "      <td>0.0</td>\n",
       "      <td>26</td>\n",
       "    </tr>\n",
       "    <tr>\n",
       "      <th>26</th>\n",
       "      <td>Case43</td>\n",
       "      <td>Packing</td>\n",
       "      <td>Role 10</td>\n",
       "      <td>2012-03-14 16:30:18</td>\n",
       "      <td>2012-03-14 18:00:15</td>\n",
       "      <td>0.065187</td>\n",
       "      <td>5397.0</td>\n",
       "      <td>0</td>\n",
       "      <td>0.0</td>\n",
       "      <td>27</td>\n",
       "    </tr>\n",
       "    <tr>\n",
       "      <th>27</th>\n",
       "      <td>Case43</td>\n",
       "      <td>Final Inspection Q.C.</td>\n",
       "      <td>Role 2</td>\n",
       "      <td>2012-03-14 18:00:15</td>\n",
       "      <td>2012-03-14 19:30:12</td>\n",
       "      <td>0.065187</td>\n",
       "      <td>5397.0</td>\n",
       "      <td>0</td>\n",
       "      <td>0.0</td>\n",
       "      <td>28</td>\n",
       "    </tr>\n",
       "    <tr>\n",
       "      <th>28</th>\n",
       "      <td>Case43</td>\n",
       "      <td>Packing</td>\n",
       "      <td>Role 2</td>\n",
       "      <td>2012-03-14 19:30:12</td>\n",
       "      <td>2012-03-14 21:00:09</td>\n",
       "      <td>0.065187</td>\n",
       "      <td>5397.0</td>\n",
       "      <td>0</td>\n",
       "      <td>0.0</td>\n",
       "      <td>29</td>\n",
       "    </tr>\n",
       "    <tr>\n",
       "      <th>29</th>\n",
       "      <td>Case43</td>\n",
       "      <td>Turning &amp; Milling</td>\n",
       "      <td>end</td>\n",
       "      <td>2012-03-14 21:00:09</td>\n",
       "      <td>2012-03-14 22:30:06</td>\n",
       "      <td>0.065187</td>\n",
       "      <td>5397.0</td>\n",
       "      <td>0</td>\n",
       "      <td>0.0</td>\n",
       "      <td>30</td>\n",
       "    </tr>\n",
       "  </tbody>\n",
       "</table>\n",
       "</div>"
      ],
      "text/plain": [
       "    caseid                    task     role     start_timestamp  \\\n",
       "0   Case43       Turning & Milling   Role 1 2012-03-13 00:00:00   \n",
       "1   Case43       Turning & Milling   Role 1 2012-03-13 02:09:16   \n",
       "2   Case43       Turning & Milling   Role 1 2012-03-13 04:09:57   \n",
       "3   Case43  Turning & Milling Q.C.   Role 3 2012-03-13 06:00:14   \n",
       "4   Case43       Turning & Milling   Role 3 2012-03-13 07:39:38   \n",
       "5   Case43  Turning & Milling Q.C.   Role 3 2012-03-13 09:10:13   \n",
       "6   Case43       Turning & Milling   Role 1 2012-03-13 10:34:54   \n",
       "7   Case43       Turning & Milling   Role 1 2012-03-13 12:01:25   \n",
       "8   Case43       Turning & Milling   Role 1 2012-03-13 13:29:51   \n",
       "9   Case43  Turning & Milling Q.C.   Role 1 2012-03-13 14:59:43   \n",
       "10  Case43  Turning & Milling Q.C.   Role 1 2012-03-13 16:30:17   \n",
       "11  Case43       Turning & Milling   Role 3 2012-03-13 18:00:53   \n",
       "12  Case43  Turning & Milling Q.C.   Role 3 2012-03-13 19:31:07   \n",
       "13  Case43  Turning & Milling Q.C.   Role 2 2012-03-13 21:01:06   \n",
       "14  Case43  Turning & Milling Q.C.      end 2012-03-13 22:30:58   \n",
       "15  Case43   Final Inspection Q.C.   Role 7 2012-03-14 00:00:50   \n",
       "16  Case43          Round Grinding   Role 1 2012-03-14 01:30:44   \n",
       "17  Case43          Round Grinding   Role 2 2012-03-14 03:00:41   \n",
       "18  Case43          Round Grinding   Role 2 2012-03-14 04:30:39   \n",
       "19  Case43                 Lapping   Role 7 2012-03-14 06:00:37   \n",
       "20  Case43          Round Grinding   Role 2 2012-03-14 07:30:35   \n",
       "21  Case43          Round Grinding   Role 7 2012-03-14 09:00:33   \n",
       "22  Case43          Round Grinding   Role 2 2012-03-14 10:30:30   \n",
       "23  Case43                 Lapping   Role 2 2012-03-14 12:00:27   \n",
       "24  Case43           Flat Grinding   Role 7 2012-03-14 13:30:24   \n",
       "25  Case43                 Lapping   Role 2 2012-03-14 15:00:21   \n",
       "26  Case43                 Packing  Role 10 2012-03-14 16:30:18   \n",
       "27  Case43   Final Inspection Q.C.   Role 2 2012-03-14 18:00:15   \n",
       "28  Case43                 Packing   Role 2 2012-03-14 19:30:12   \n",
       "29  Case43       Turning & Milling      end 2012-03-14 21:00:09   \n",
       "\n",
       "         end_timestamp   dur_raw     dur  wait_raw  wait  rank  \n",
       "0  2012-03-13 02:09:16  0.093677  7756.0         0   0.0     1  \n",
       "1  2012-03-13 04:09:57  0.087448  7241.0         0   0.0     2  \n",
       "2  2012-03-13 06:00:14  0.079910  6617.0         0   0.0     3  \n",
       "3  2012-03-13 07:39:38  0.072024  5964.0         0   0.0     4  \n",
       "4  2012-03-13 09:10:13  0.065636  5435.0         0   0.0     5  \n",
       "5  2012-03-13 10:34:54  0.061369  5081.0         0   0.0     6  \n",
       "6  2012-03-13 12:01:25  0.062695  5191.0         0   0.0     7  \n",
       "7  2012-03-13 13:29:51  0.064081  5306.0         0   0.0     8  \n",
       "8  2012-03-13 14:59:43  0.065125  5392.0         0   0.0     9  \n",
       "9  2012-03-13 16:30:17  0.065628  5434.0         0   0.0    10  \n",
       "10 2012-03-13 18:00:53  0.065656  5436.0         0   0.0    11  \n",
       "11 2012-03-13 19:31:07  0.065389  5414.0         0   0.0    12  \n",
       "12 2012-03-13 21:01:06  0.065205  5399.0         0   0.0    13  \n",
       "13 2012-03-13 22:30:58  0.065122  5392.0         0   0.0    14  \n",
       "14 2012-03-14 00:00:50  0.065116  5392.0         0   0.0    15  \n",
       "15 2012-03-14 01:30:44  0.065148  5394.0         0   0.0    16  \n",
       "16 2012-03-14 03:00:41  0.065181  5397.0         0   0.0    17  \n",
       "17 2012-03-14 04:30:39  0.065196  5398.0         0   0.0    18  \n",
       "18 2012-03-14 06:00:37  0.065198  5398.0         0   0.0    19  \n",
       "19 2012-03-14 07:30:35  0.065193  5398.0         0   0.0    20  \n",
       "20 2012-03-14 09:00:33  0.065188  5398.0         0   0.0    21  \n",
       "21 2012-03-14 10:30:30  0.065185  5397.0         0   0.0    22  \n",
       "22 2012-03-14 12:00:27  0.065185  5397.0         0   0.0    23  \n",
       "23 2012-03-14 13:30:24  0.065185  5397.0         0   0.0    24  \n",
       "24 2012-03-14 15:00:21  0.065186  5397.0         0   0.0    25  \n",
       "25 2012-03-14 16:30:18  0.065187  5397.0         0   0.0    26  \n",
       "26 2012-03-14 18:00:15  0.065187  5397.0         0   0.0    27  \n",
       "27 2012-03-14 19:30:12  0.065187  5397.0         0   0.0    28  \n",
       "28 2012-03-14 21:00:09  0.065187  5397.0         0   0.0    29  \n",
       "29 2012-03-14 22:30:06  0.065187  5397.0         0   0.0    30  "
      ]
     },
     "execution_count": 60,
     "metadata": {},
     "output_type": "execute_result"
    }
   ],
   "source": [
    "df_case = pd.DataFrame.from_records(trace, index=list(trace[0].keys())).reset_index()\n",
    "df_case['rank'] = df_case.groupby('caseid')['start_timestamp'].rank().astype(int)\n",
    "df_case"
   ]
  },
  {
   "cell_type": "code",
   "execution_count": 61,
   "metadata": {},
   "outputs": [
    {
     "name": "stdout",
     "output_type": "stream",
     "text": [
      "1\n"
     ]
    }
   ],
   "source": [
    "df_case = df_case.sort_values(by='rank')\n",
    "u_tasks = [ac_index[x] for x in df_case['task'].drop_duplicates()]\n",
    "\n",
    "G = nx.DiGraph()\n",
    "for task in u_tasks:\n",
    "    G.add_node(task)\n",
    "\n",
    "tasks = list(df_case['task'])\n",
    "if list(df_case['rank']) == list(set(list(df_case['rank']))):\n",
    "    order = [(ac_index[x[0]], ac_index[x[1]]) for x in [(a, b) for a, b in zip(tasks[:-1], tasks[1:])]]\n",
    "    print(1)\n",
    "else:\n",
    "    order = []\n",
    "    for i in range(1, len(df_case['rank'])):\n",
    "        c_task = list(df_case[df_case['rank']==i]['task'])\n",
    "        n_task = list(df_case[df_case['rank']==i+1]['task'])\n",
    "        order += [(ac_index[x[0]], ac_index[x[1]]) for x in list(itertools.product(c_task, n_task))]\n",
    "    print(2)\n",
    "G.add_edges_from(order)\n",
    "conds = [nx.is_simple_path(G, act_path) for act_path in act_paths_idx]"
   ]
  },
  {
   "attachments": {},
   "cell_type": "markdown",
   "metadata": {},
   "source": [
    "## Prueba Union Simod"
   ]
  },
  {
   "cell_type": "code",
   "execution_count": 18,
   "metadata": {},
   "outputs": [],
   "source": [
    "from bs4 import BeautifulSoup\n",
    "\n",
    "path_asis = r'Simod-Coral-Version\\outputs\\20230417_84C5DFCD_FF3E_415F_A9ED_104A01FFB164\\Production_ASIS.bpmn'\n",
    "\n",
    "with open(path_asis, 'r') as f:\n",
    "    data_asis = f.read()\n",
    "\n",
    "bpmn_asis = BeautifulSoup(data_asis, \"xml\") \n",
    "sim_info_asis = str(bpmn_asis.find_all('qbp:processSimulationInfo')[0])\n",
    "att_info_asis = data_asis.replace(sim_info_asis, '')"
   ]
  },
  {
   "cell_type": "code",
   "execution_count": 19,
   "metadata": {},
   "outputs": [],
   "source": [
    "path_tobe = r'Simod-Coral-Version\\outputs\\20230417_84C5DFCD_FF3E_415F_A9ED_104A01FFB164\\Production_TOBE.bpmn'\n",
    "\n",
    "with open(path_tobe, 'r') as f:\n",
    "    data_tobe = f.read()\n",
    "\n",
    "bpmn_tobe = BeautifulSoup(data_tobe, \"xml\") \n",
    "sim_info_tobe = str(bpmn_tobe.find_all('qbp:processSimulationInfo')[0])\n",
    "att_info_tobe = data_asis.replace(sim_info_tobe, '')"
   ]
  },
  {
   "cell_type": "code",
   "execution_count": 23,
   "metadata": {},
   "outputs": [],
   "source": [
    "bpmn_rules_based = '{}\\n{}'.format(att_info_tobe, sim_info_asis)"
   ]
  },
  {
   "cell_type": "code",
   "execution_count": 26,
   "metadata": {},
   "outputs": [],
   "source": [
    "output_path_files = r'Simod-Coral-Version\\outputs\\20230417_84C5DFCD_FF3E_415F_A9ED_104A01FFB164\\Production_RULE_BASED.bpmn'\n",
    "with open(output_path_files, 'w') as file:\n",
    "    file.write(bpmn_rules_based)"
   ]
  },
  {
   "cell_type": "code",
   "execution_count": null,
   "metadata": {},
   "outputs": [],
   "source": [
    "def combine_models(model_asis_path, model_tobe_path, rules_model_path):\n",
    "\n",
    "    with open(model_asis_path, 'r') as f:\n",
    "        data_asis = f.read()\n",
    "\n",
    "    bpmn_asis = BeautifulSoup(data_asis, \"xml\") \n",
    "    sim_info_asis = str(bpmn_asis.find_all('qbp:processSimulationInfo')[0])\n",
    "\n",
    "    with open(model_tobe_path, 'r') as f:\n",
    "        data_tobe = f.read()\n",
    "\n",
    "    bpmn_tobe = BeautifulSoup(data_tobe, \"xml\") \n",
    "    sim_info_tobe = str(bpmn_tobe.find_all('qbp:processSimulationInfo')[0])\n",
    "    att_info_tobe = data_asis.replace(sim_info_tobe, '')\n",
    "\n",
    "    bpmn_rules_based = '{}\\n{}'.format(att_info_tobe, sim_info_asis)\n",
    "\n",
    "    with open(output_path_files, 'w') as file:\n",
    "        file.write(rules_model_path)"
   ]
  },
  {
   "attachments": {},
   "cell_type": "markdown",
   "metadata": {},
   "source": [
    "## Extract rules"
   ]
  },
  {
   "cell_type": "code",
   "execution_count": 1,
   "metadata": {},
   "outputs": [],
   "source": [
    "import pandas as pd\n",
    "import networkx as nx\n",
    "import os\n",
    "import configparser\n",
    "import itertools\n",
    "import json"
   ]
  },
  {
   "cell_type": "code",
   "execution_count": 41,
   "metadata": {},
   "outputs": [],
   "source": [
    "config = configparser.ConfigParser()\n",
    "config.read('rules.ini')\n",
    "\n",
    "settings = {}\n",
    "settings['path'] = [x.strip() for x in config['RULES']['path'].split('>>')]\n",
    "settings['variation'] = config['RULES']['variation'][0] if 'variation' in config.options('RULES') else None\n",
    "settings['prop_variation'] = float(config['RULES']['variation'][1:]) if 'variation' in config.options('RULES') else None\n",
    "\n",
    "if '*' in settings['path']:\n",
    "    settings['rule'] = 'eventually'\n",
    "elif '^' in settings['path']:\n",
    "    settings['rule'] = 'not_allowed'\n",
    "elif '>>' in settings['path'] and '*' not in settings['path'] and '^' not in settings['path']:\n",
    "    settings['rule'] = 'directly'\n",
    "elif '>>' not in settings['path'] and '*' not in settings['path'] and '^' not in settings['path']:\n",
    "    settings['rule'] = 'required'"
   ]
  },
  {
   "cell_type": "code",
   "execution_count": 42,
   "metadata": {},
   "outputs": [
    {
     "data": {
      "text/plain": [
       "['Turning & Milling Q.C.', '*', 'Lapping']"
      ]
     },
     "execution_count": 42,
     "metadata": {},
     "output_type": "execute_result"
    }
   ],
   "source": [
    "settings['path'] "
   ]
  },
  {
   "cell_type": "code",
   "execution_count": 24,
   "metadata": {},
   "outputs": [
    {
     "data": {
      "image/png": "[encoded data removed]",
      "text/plain": [
       "<Figure size 640x480 with 1 Axes>"
      ]
     },
     "metadata": {},
     "output_type": "display_data"
    }
   ],
   "source": [
    "import networkx as nx\n",
    "import matplotlib.pyplot as plt\n",
    "\n",
    "# create an empty directed graph\n",
    "G = nx.DiGraph()\n",
    "\n",
    "# add nodes to the graph\n",
    "G.add_node('Start')\n",
    "G.add_node('Task1')\n",
    "G.add_node('Task2')\n",
    "G.add_node('Task3')\n",
    "G.add_node('Task4')\n",
    "G.add_node('Split1')\n",
    "G.add_node('Task5')\n",
    "G.add_node('Join1')\n",
    "G.add_node('Task6')\n",
    "G.add_node('Task7')\n",
    "G.add_node('Split2')\n",
    "G.add_node('Task8')\n",
    "G.add_node('Join2')\n",
    "G.add_node('Task9')\n",
    "G.add_node('End')\n",
    "\n",
    "# add edges to the graph\n",
    "G.add_edge('Start', 'Task1')\n",
    "G.add_edge('Task1', 'Task2')\n",
    "G.add_edge('Task2', 'Task3')\n",
    "G.add_edge('Task3', 'Task4')\n",
    "G.add_edge('Task4', 'Split1')\n",
    "G.add_edge('Split1', 'Task5')\n",
    "G.add_edge('Split1', 'Join1')\n",
    "G.add_edge('Task5', 'Join1')\n",
    "G.add_edge('Join1', 'Task6')\n",
    "G.add_edge('Task6', 'Task7')\n",
    "G.add_edge('Task7', 'Split2')\n",
    "G.add_edge('Split2', 'Task8')\n",
    "G.add_edge('Split2', 'Join2')\n",
    "G.add_edge('Task8', 'Join2')\n",
    "G.add_edge('Join2', 'Task9')\n",
    "G.add_edge('Task9', 'End')\n",
    "\n",
    "# draw the graph with node labels\n",
    "nx.draw(G, with_labels=True)\n",
    "plt.show()"
   ]
  },
  {
   "cell_type": "code",
   "execution_count": 2,
   "metadata": {},
   "outputs": [
    {
     "data": {
      "text/plain": [
       "'input_files\\\\bpmn_models\\\\PurchasingExample.bpmn'"
      ]
     },
     "execution_count": 2,
     "metadata": {},
     "output_type": "execute_result"
    }
   ],
   "source": [
    "settings['bpmn_path']"
   ]
  },
  {
   "cell_type": "code",
   "execution_count": 1,
   "metadata": {},
   "outputs": [
    {
     "data": {
      "application/vnd.jupyter.widget-view+json": {
       "model_id": "19a2829bbea44fd28c667f385f0b6f54",
       "version_major": 2,
       "version_minor": 0
      },
      "text/plain": [
       "parsing log, completed traces ::   0%|          | 0/608 [00:00<?, ?it/s]"
      ]
     },
     "metadata": {},
     "output_type": "display_data"
    },
    {
     "name": "stdout",
     "output_type": "stream",
     "text": [
      "Rearranging log traces ...      [DONE]\n",
      " -- Mining Process Structure --\n",
      "Loading of bpmn structure from file 100.0%...      [DONE]\n",
      "Counting branch cases...\n"
     ]
    },
    {
     "name": "stderr",
     "output_type": "stream",
     "text": [
      "100%|██████████| 608/608 [00:00<00:00, 86822.04it/s]\n"
     ]
    }
   ],
   "source": [
    "import os\n",
    "from support_modules import stochastic_model as sm\n",
    "\n",
    "settings = dict()\n",
    "settings['timeformat'] = \"%Y-%m-%dT%H:%M:%S.%f\"\n",
    "settings['column_names'] = {'Case ID': 'caseid',\n",
    "                            'Activity': 'task',\n",
    "                            'lifecycle:transition': 'event_type',\n",
    "                            'Resource': 'user'}\n",
    "settings['one_timestamp'] = False\n",
    "settings['filter_d_attrib'] = True\n",
    "\n",
    "settings['file'] = 'PurchasingExample'\n",
    "settings['sm3_path'] = os.path.join('external_tools', 'splitminer3', 'bpmtk.jar')\n",
    "settings['concurrency'] = 0.0\n",
    "settings['epsilon'] = 0.5\n",
    "settings['eta'] = 0.7\n",
    "\n",
    "settings['log_path'] = os.path.join('input_files', 'event_logs', settings['file'] + '.xes')\n",
    "settings['tobe_bpmn_path'] = os.path.join('input_files', 'spmd', settings['file'] + '.bpmn')\n",
    "\n",
    "spmd = sm.StochasticModel(settings)"
   ]
  },
  {
   "cell_type": "code",
   "execution_count": 2,
   "metadata": {},
   "outputs": [
    {
     "name": "stdout",
     "output_type": "stream",
     "text": [
      "Execution failed : Maximum allowed cycle time exceeded, maximum is 1095 days\n"
     ]
    }
   ],
   "source": [
    "from support_modules import models_merger as mm\n",
    "\n",
    "\n",
    "settings['bimp_path'] = os.path.join('external_tools', 'bimp', 'qbp-simulator-engine_with_csv_statistics.jar')\n",
    "settings['asis_bpmn_path'] = os.path.join('input_files', 'simod', settings['file'] + '.bpmn')\n",
    "settings['csv_output_path'] = os.path.join('output_files', 'simulation_stats', settings['file'] + '.csv')\n",
    "settings['output_path'] = os.path.join('output_files', 'simulation_files', settings['file'] + '.bpmn')\n",
    "settings['lrs'] = spmd.lrs\n",
    "\n",
    "mod_mer = mm.MergeModels(settings)"
   ]
  },
  {
   "cell_type": "code",
   "execution_count": 39,
   "metadata": {},
   "outputs": [],
   "source": [
    "import xml.etree.ElementTree as ET\n",
    "from bs4 import BeautifulSoup\n",
    "import subprocess\n",
    "\n",
    "asis_bpmn_path = os.path.join('input_files', 'simod', 'PurchasingExample.bpmn')\n",
    "tobe_bpmn_path = os.path.join('input_files', 'spmd', 'PurchasingExample.bpmn')\n",
    "\n",
    "asis_tree = ET.parse(asis_bpmn_path)\n",
    "asis_root = asis_tree.getroot()\n",
    "tobe_tree = ET.parse(tobe_bpmn_path)\n",
    "tobe_root = tobe_tree.getroot()\n",
    "        \n",
    "namespace = {'bpmn': 'http://www.omg.org/spec/BPMN/20100524/MODEL'}\n",
    "\n",
    "asis_tasks = asis_root.findall('.//bpmn:task', namespace)\n",
    "asis_tasks_data = {task.get('id'):task.get('name') for task in asis_tasks}\n",
    "\n",
    "tobe_tasks = tobe_root.findall('.//bpmn:task', namespace)\n",
    "tobe_tasks_data = {task.get('name'):task.get('id') for task in tobe_tasks}"
   ]
  },
  {
   "cell_type": "code",
   "execution_count": 40,
   "metadata": {},
   "outputs": [],
   "source": [
    "with open(asis_bpmn_path, 'r') as f:\n",
    "    data_asis = f.read()\n",
    "\n",
    "asis_bpmn_xml = BeautifulSoup(data_asis, \"xml\") \n",
    "asis_sim_info = asis_bpmn_xml.find_all('qbp:processSimulationInfo')[0]\n",
    "asis_elements = asis_sim_info.findAll('element')\n",
    "\n",
    "for element in asis_elements:\n",
    "    element_id_asis = element.get('elementId')\n",
    "    task_asis = asis_tasks_data[element_id_asis]\n",
    "    if task_asis in tobe_tasks_data.keys():\n",
    "        element_id_tobe = tobe_tasks_data[task_asis]\n",
    "        element['elementId'] = element_id_tobe\n",
    "\n",
    "tobe_root.append(ET.fromstring(str(asis_sim_info)))"
   ]
  },
  {
   "cell_type": "code",
   "execution_count": 41,
   "metadata": {},
   "outputs": [],
   "source": [
    "# Find the <sequenceFlows> section within <processSimulationInfo>\n",
    "sequence_flows = asis_sim_info.find('qbp:sequenceFlows')\n",
    "sequence_flows.decompose()\n",
    "\n",
    "new_sequence_flows = asis_bpmn_xml.new_tag('qbp:sequenceFlows')"
   ]
  },
  {
   "cell_type": "code",
   "execution_count": 43,
   "metadata": {},
   "outputs": [],
   "source": [
    "for key_node in spmd.lrs.branching_probs.keys():\n",
    "    for key_task, value_task in spmd.lrs.branching_probs[key_node].items():\n",
    "        new_seq_flow = asis_bpmn_xml.new_tag('qbp:sequenceFlow', elementId=key_task, executionProbability=value_task)\n",
    "        new_sequence_flows.append(new_seq_flow)"
   ]
  },
  {
   "cell_type": "code",
   "execution_count": 54,
   "metadata": {},
   "outputs": [],
   "source": [
    "output_path = os.path.join('output_files', 'simulation_files', 'PurchasingExample.bpmn')\n",
    "tobe_tree.write(output_path, encoding='utf-8', xml_declaration=True)"
   ]
  },
  {
   "cell_type": "code",
   "execution_count": 56,
   "metadata": {},
   "outputs": [],
   "source": [
    "bimp_sim_path = os.path.join('external_tools', 'bimp', 'qbp-simulator-engine_with_csv_statistics.jar')\n",
    "csv_output = os.path.join('output_files', 'simulation_stats', 'PurchasingExample.csv')\n",
    "\n",
    "def execute_simulator_simple(bimp_path, model_path, csv_output_path):\n",
    "    args = ['java', '-jar', bimp_path, model_path, '-csv', csv_output_path]\n",
    "    subprocess.run(args, stdout=open(os.devnull, 'wb'))\n",
    "\n",
    "execute_simulator_simple(bimp_sim_path, output_path, csv_output)"
   ]
  },
  {
   "cell_type": "code",
   "execution_count": 1,
   "metadata": {},
   "outputs": [
    {
     "data": {
      "text/plain": [
       "CompletedProcess(args=['bash.sh', 'Production.xes'], returncode=0)"
      ]
     },
     "execution_count": 1,
     "metadata": {},
     "output_type": "execute_result"
    }
   ],
   "source": [
    "import subprocess\n",
    "import os\n",
    "\n",
    "os.chdir('../Simod-2.3.1/')\n",
    "bash_command = 'bash.sh'\n",
    "file = \"Production.xes\"\n",
    "\n",
    "subprocess.run([bash_command, file], shell=True)"
   ]
  },
  {
   "cell_type": "code",
   "execution_count": 12,
   "metadata": {},
   "outputs": [
    {
     "data": {
      "text/html": [
       "<div>\n",
       "<style scoped>\n",
       "    .dataframe tbody tr th:only-of-type {\n",
       "        vertical-align: middle;\n",
       "    }\n",
       "\n",
       "    .dataframe tbody tr th {\n",
       "        vertical-align: top;\n",
       "    }\n",
       "\n",
       "    .dataframe thead th {\n",
       "        text-align: right;\n",
       "    }\n",
       "</style>\n",
       "<table border=\"1\" class=\"dataframe\">\n",
       "  <thead>\n",
       "    <tr style=\"text-align: right;\">\n",
       "      <th></th>\n",
       "      <th>caseid</th>\n",
       "      <th>task</th>\n",
       "      <th>user</th>\n",
       "      <th>start_timestamp</th>\n",
       "      <th>end_timestamp</th>\n",
       "    </tr>\n",
       "  </thead>\n",
       "  <tbody>\n",
       "    <tr>\n",
       "      <th>0</th>\n",
       "      <td>gen-Case00</td>\n",
       "      <td>Lapping</td>\n",
       "      <td>Role 1</td>\n",
       "      <td>2012-03-13 05:23:18+0000</td>\n",
       "      <td>2012-03-13 08:10:32+0000</td>\n",
       "    </tr>\n",
       "    <tr>\n",
       "      <th>1</th>\n",
       "      <td>gen-Case00</td>\n",
       "      <td>Flat Grinding</td>\n",
       "      <td>Role 1</td>\n",
       "      <td>2012-03-14 01:54:15+0000</td>\n",
       "      <td>2012-03-14 03:28:46+0000</td>\n",
       "    </tr>\n",
       "    <tr>\n",
       "      <th>2</th>\n",
       "      <td>gen-Case00</td>\n",
       "      <td>Lapping</td>\n",
       "      <td>Role 2</td>\n",
       "      <td>2012-03-14 21:56:48+0000</td>\n",
       "      <td>2012-03-14 23:32:04+0000</td>\n",
       "    </tr>\n",
       "    <tr>\n",
       "      <th>3</th>\n",
       "      <td>gen-Case00</td>\n",
       "      <td>Laser Marking</td>\n",
       "      <td>Role 3</td>\n",
       "      <td>2012-03-15 17:58:15+0000</td>\n",
       "      <td>2012-03-15 19:22:00+0000</td>\n",
       "    </tr>\n",
       "    <tr>\n",
       "      <th>4</th>\n",
       "      <td>gen-Case00</td>\n",
       "      <td>Grinding Rework</td>\n",
       "      <td>Role 3</td>\n",
       "      <td>2012-03-16 12:39:48+0000</td>\n",
       "      <td>2012-03-16 14:03:15+0000</td>\n",
       "    </tr>\n",
       "    <tr>\n",
       "      <th>...</th>\n",
       "      <td>...</td>\n",
       "      <td>...</td>\n",
       "      <td>...</td>\n",
       "      <td>...</td>\n",
       "      <td>...</td>\n",
       "    </tr>\n",
       "    <tr>\n",
       "      <th>2431</th>\n",
       "      <td>gen-Case136</td>\n",
       "      <td>Final Inspection Q.C.</td>\n",
       "      <td>Role 5</td>\n",
       "      <td>2012-03-23 19:24:07+0000</td>\n",
       "      <td>2012-03-23 20:19:29+0000</td>\n",
       "    </tr>\n",
       "    <tr>\n",
       "      <th>2432</th>\n",
       "      <td>gen-Case144</td>\n",
       "      <td>Turning Q.C.</td>\n",
       "      <td>Role 2</td>\n",
       "      <td>2012-03-13 05:23:18+0000</td>\n",
       "      <td>2012-03-13 08:10:32+0000</td>\n",
       "    </tr>\n",
       "    <tr>\n",
       "      <th>2433</th>\n",
       "      <td>gen-Case144</td>\n",
       "      <td>Final Inspection Q.C.</td>\n",
       "      <td>Role 2</td>\n",
       "      <td>2012-03-13 18:38:07+0000</td>\n",
       "      <td>2012-03-13 20:04:51+0000</td>\n",
       "    </tr>\n",
       "    <tr>\n",
       "      <th>2434</th>\n",
       "      <td>gen-Case144</td>\n",
       "      <td>Final Inspection Q.C.</td>\n",
       "      <td>Role 3</td>\n",
       "      <td>2012-03-14 05:45:02+0000</td>\n",
       "      <td>2012-03-14 07:03:25+0000</td>\n",
       "    </tr>\n",
       "    <tr>\n",
       "      <th>2435</th>\n",
       "      <td>gen-Case144</td>\n",
       "      <td>Flat Grinding</td>\n",
       "      <td>Role 5</td>\n",
       "      <td>2012-03-14 16:28:24+0000</td>\n",
       "      <td>2012-03-14 17:29:34+0000</td>\n",
       "    </tr>\n",
       "  </tbody>\n",
       "</table>\n",
       "<p>2436 rows × 5 columns</p>\n",
       "</div>"
      ],
      "text/plain": [
       "           caseid                   task    user           start_timestamp  \\\n",
       "0      gen-Case00                Lapping  Role 1  2012-03-13 05:23:18+0000   \n",
       "1      gen-Case00          Flat Grinding  Role 1  2012-03-14 01:54:15+0000   \n",
       "2      gen-Case00                Lapping  Role 2  2012-03-14 21:56:48+0000   \n",
       "3      gen-Case00          Laser Marking  Role 3  2012-03-15 17:58:15+0000   \n",
       "4      gen-Case00        Grinding Rework  Role 3  2012-03-16 12:39:48+0000   \n",
       "...           ...                    ...     ...                       ...   \n",
       "2431  gen-Case136  Final Inspection Q.C.  Role 5  2012-03-23 19:24:07+0000   \n",
       "2432  gen-Case144           Turning Q.C.  Role 2  2012-03-13 05:23:18+0000   \n",
       "2433  gen-Case144  Final Inspection Q.C.  Role 2  2012-03-13 18:38:07+0000   \n",
       "2434  gen-Case144  Final Inspection Q.C.  Role 3  2012-03-14 05:45:02+0000   \n",
       "2435  gen-Case144          Flat Grinding  Role 5  2012-03-14 16:28:24+0000   \n",
       "\n",
       "                 end_timestamp  \n",
       "0     2012-03-13 08:10:32+0000  \n",
       "1     2012-03-14 03:28:46+0000  \n",
       "2     2012-03-14 23:32:04+0000  \n",
       "3     2012-03-15 19:22:00+0000  \n",
       "4     2012-03-16 14:03:15+0000  \n",
       "...                        ...  \n",
       "2431  2012-03-23 20:19:29+0000  \n",
       "2432  2012-03-13 08:10:32+0000  \n",
       "2433  2012-03-13 20:04:51+0000  \n",
       "2434  2012-03-14 07:03:25+0000  \n",
       "2435  2012-03-14 17:29:34+0000  \n",
       "\n",
       "[2436 rows x 5 columns]"
      ]
     },
     "execution_count": 12,
     "metadata": {},
     "output_type": "execute_result"
    }
   ],
   "source": [
    "log"
   ]
  },
  {
   "cell_type": "code",
   "execution_count": 14,
   "metadata": {},
   "outputs": [
    {
     "name": "stdout",
     "output_type": "stream",
     "text": [
      "Importance: DEBUG\n",
      "Message: Start serializing log to XES.XML\n",
      "\n",
      "Importance: DEBUG\n",
      "Message: finished serializing log (325.01220703125 msec.)\n",
      "\n"
     ]
    },
    {
     "data": {
      "text/plain": [
       "<support_modules.xes_writer.XesWriter at 0x1cb91f597d0>"
      ]
     },
     "execution_count": 14,
     "metadata": {},
     "output_type": "execute_result"
    }
   ],
   "source": [
    "import pandas as pd\n",
    "from support_modules import xes_writer as xw\n",
    "\n",
    "path = r'C:\\DanielBaron\\GenerativeLSTM\\input_files\\spmd\\Production.csv'\n",
    "log = pd.read_csv(path)\n",
    "\n",
    "parameters = dict()\n",
    "column_names = {'Case ID': 'caseid',\n",
    "                'Activity': 'task',\n",
    "                'lifecycle:transition': 'event_type',\n",
    "                'Resource': 'user'}\n",
    "parameters['one_timestamp'] = False  # Only one timestamp in the log\n",
    "parameters['include_org_log'] = False\n",
    "parameters['read_options'] = {\n",
    "    'timeformat': \"%Y-%m-%d %H:%M:%S%z\",\n",
    "    'column_names': column_names,\n",
    "    'one_timestamp': parameters['one_timestamp'],\n",
    "    'filter_d_attrib': False}\n",
    "\n",
    "parameters['output_file'] = os.path.join('input_files', 'spmd', 'Production' + '.xes')\n",
    "\n",
    "xw.XesWriter(log, parameters)"
   ]
  },
  {
   "cell_type": "code",
   "execution_count": 8,
   "metadata": {},
   "outputs": [],
   "source": [
    "os.chdir('../GenerativeLSTM/')"
   ]
  },
  {
   "cell_type": "code",
   "execution_count": 36,
   "metadata": {},
   "outputs": [],
   "source": [
    "a = {'node_8adc1df9-5391-4f59-a1b9-180c76b99301': {'node_b0179fbc-4f2c-4140-8b49-a232617b7f70': 0.26, 'node_5b2b98ee-2024-4cff-9825-04410fce5ebe': 0.3, 'node_f3e698b7-3a4d-41b4-9711-ac13475a5592': 0.14, 'node_8e485a88-d2b6-4732-b3c9-0aa7f61432c3': 0.3}, 'node_489fe063-1003-479f-8116-33ca5d7212bc': {'node_393551df-43c0-4051-b2db-22f34679be1d': 0.12, 'node_284b72c5-09cc-4cc7-b68c-f74fb0b28b8a': 0.88, 'node_178d91f6-4f4e-451e-948c-7b88441e7926': 0.0, 'node_4329cc2f-2e6c-409d-baad-6004c322a2b3': 0.0, 'node_f1263197-6d9c-4210-bb9e-b359ccf5c226': 0.0, 'node_76e23d82-9c44-49e9-baf3-9384e0246e55': 0.0, 'node_1956d023-de76-4111-b78d-eb27328cb0b3': 0.0, 'node_9b4ebe35-3708-49f4-a7cc-014768a862ec': 0.0, 'node_e07822d8-8f52-4fb2-9a95-33177ea3a3d8': 0.0}, 'node_1934f92a-30a6-4cdc-90ff-0e3ac7922667': {'node_e3618a82-acc8-4d60-b387-473bb9a05b01': 0.0, 'node_d18078bb-3372-43f8-8da9-b97478562541': 0.2399999999999999, 'node_d5eae97e-173d-42c6-ac9a-872b13237705': 0.12, 'node_9106eeda-6e8c-429d-9137-02ec40e81b69': 0.03, 'node_5b2b98ee-2024-4cff-9825-04410fce5ebe': 0.19, 'node_f3e698b7-3a4d-41b4-9711-ac13475a5592': 0.02, 'node_774dd6d1-b4c1-4cbb-9149-9c94cf879f6f': 0.05, 'node_8e485a88-d2b6-4732-b3c9-0aa7f61432c3': 0.2, 'node_2791527c-4da9-4e33-895a-ce32c346557b': 0.15, 'node_178d91f6-4f4e-451e-948c-7b88441e7926': 0.0, 'node_4329cc2f-2e6c-409d-baad-6004c322a2b3': 0.0, 'node_f1263197-6d9c-4210-bb9e-b359ccf5c226': 0.0, 'node_76e23d82-9c44-49e9-baf3-9384e0246e55': 0.0, 'node_1956d023-de76-4111-b78d-eb27328cb0b3': 0.0, 'node_9b4ebe35-3708-49f4-a7cc-014768a862ec': 0.0, 'node_e07822d8-8f52-4fb2-9a95-33177ea3a3d8': 0.0}, 'node_a3dcdee9-d426-446a-be43-9dcb2b314784': {'node_a5e902d4-9c36-4b71-8d7d-477b55de3de7': 0.01, 'node_4d0cfe75-63f6-4dc5-acc8-7f4a5bf45f66': 0.02, 'node_49ff5d15-db2c-4142-82bd-d9b90948342b': 0.01, 'node_156de982-f2ac-404a-b881-7e92d53c5851': 0.01, 'node_cebf4f0e-21c7-4add-a5da-1b6a7e9cd0b9': 0.05, 'node_d5eae97e-173d-42c6-ac9a-872b13237705': 0.74, 'node_284b72c5-09cc-4cc7-b68c-f74fb0b28b8a': 0.16, 'node_178d91f6-4f4e-451e-948c-7b88441e7926': 0.0, 'node_4329cc2f-2e6c-409d-baad-6004c322a2b3': 0.0, 'node_f1263197-6d9c-4210-bb9e-b359ccf5c226': 0.0, 'node_76e23d82-9c44-49e9-baf3-9384e0246e55': 0.0, 'node_1956d023-de76-4111-b78d-eb27328cb0b3': 0.0, 'node_9b4ebe35-3708-49f4-a7cc-014768a862ec': 0.0, 'node_e07822d8-8f52-4fb2-9a95-33177ea3a3d8': 0.0}, 'node_11224572-1fe6-4ceb-b268-d4a049b643e4': {'node_77c09226-b3ee-44ad-82ff-835da7890e3e': 0.0, 'node_d18078bb-3372-43f8-8da9-b97478562541': 0.33999999999999997, 'node_9106eeda-6e8c-429d-9137-02ec40e81b69': 0.07, 'node_5b2b98ee-2024-4cff-9825-04410fce5ebe': 0.3, 'node_f3e698b7-3a4d-41b4-9711-ac13475a5592': 0.02, 'node_19e6235b-0c22-4f95-8a9b-1a5997011d3e': 0.06, 'node_a2ee8eaf-406e-41c1-8f4f-18dcd2456ce3': 0.08, 'node_774dd6d1-b4c1-4cbb-9149-9c94cf879f6f': 0.02, 'node_2791527c-4da9-4e33-895a-ce32c346557b': 0.11, 'node_178d91f6-4f4e-451e-948c-7b88441e7926': 0.0, 'node_4329cc2f-2e6c-409d-baad-6004c322a2b3': 0.0, 'node_f1263197-6d9c-4210-bb9e-b359ccf5c226': 0.0, 'node_76e23d82-9c44-49e9-baf3-9384e0246e55': 0.0, 'node_1956d023-de76-4111-b78d-eb27328cb0b3': 0.0, 'node_9b4ebe35-3708-49f4-a7cc-014768a862ec': 0.0, 'node_e07822d8-8f52-4fb2-9a95-33177ea3a3d8': 0.0}, 'node_9c792d2e-400f-4aae-91eb-58b6e70ce569': {'node_75940595-1cca-4906-9826-cda66c82951a': 0.0, 'node_d18078bb-3372-43f8-8da9-b97478562541': 0.77, 'node_d5eae97e-173d-42c6-ac9a-872b13237705': 0.14, 'node_9106eeda-6e8c-429d-9137-02ec40e81b69': 0.08, 'node_284b72c5-09cc-4cc7-b68c-f74fb0b28b8a': 0.01, 'node_178d91f6-4f4e-451e-948c-7b88441e7926': 0.0, 'node_4329cc2f-2e6c-409d-baad-6004c322a2b3': 0.0, 'node_f1263197-6d9c-4210-bb9e-b359ccf5c226': 0.0, 'node_76e23d82-9c44-49e9-baf3-9384e0246e55': 0.0, 'node_1956d023-de76-4111-b78d-eb27328cb0b3': 0.0, 'node_9b4ebe35-3708-49f4-a7cc-014768a862ec': 0.0, 'node_e07822d8-8f52-4fb2-9a95-33177ea3a3d8': 0.0}, 'node_44c3acfc-6c9b-4897-bc8f-fe27cee81c1f': {'node_5b2b98ee-2024-4cff-9825-04410fce5ebe': 0.38, 'node_8e485a88-d2b6-4732-b3c9-0aa7f61432c3': 0.39, 'node_2791527c-4da9-4e33-895a-ce32c346557b': 0.23}, 'node_2a142494-95da-40e6-9534-bacbc96eb41a': {'node_4adb9ab6-f649-4ef0-96c2-ab5d57a2b58a': 0.03, 'node_d1973084-fe61-40ca-81bd-51032730bd44': 0.05, 'node_d5eae97e-173d-42c6-ac9a-872b13237705': 0.58, 'node_9106eeda-6e8c-429d-9137-02ec40e81b69': 0.34, 'node_178d91f6-4f4e-451e-948c-7b88441e7926': 0.0, 'node_4329cc2f-2e6c-409d-baad-6004c322a2b3': 0.0, 'node_f1263197-6d9c-4210-bb9e-b359ccf5c226': 0.0, 'node_76e23d82-9c44-49e9-baf3-9384e0246e55': 0.0, 'node_1956d023-de76-4111-b78d-eb27328cb0b3': 0.0, 'node_9b4ebe35-3708-49f4-a7cc-014768a862ec': 0.0, 'node_e07822d8-8f52-4fb2-9a95-33177ea3a3d8': 0.0}, 'node_022bf638-8ecf-420d-afc9-41490b01e78e': {'node_d18078bb-3372-43f8-8da9-b97478562541': 0.24999999999999978, 'node_d5eae97e-173d-42c6-ac9a-872b13237705': 0.17, 'node_9106eeda-6e8c-429d-9137-02ec40e81b69': 0.04, 'node_5b2b98ee-2024-4cff-9825-04410fce5ebe': 0.22, 'node_f3e698b7-3a4d-41b4-9711-ac13475a5592': 0.02, 'node_19e6235b-0c22-4f95-8a9b-1a5997011d3e': 0.05, 'node_774dd6d1-b4c1-4cbb-9149-9c94cf879f6f': 0.02, 'node_8e485a88-d2b6-4732-b3c9-0aa7f61432c3': 0.23, 'node_178d91f6-4f4e-451e-948c-7b88441e7926': 0.0, 'node_4329cc2f-2e6c-409d-baad-6004c322a2b3': 0.0, 'node_f1263197-6d9c-4210-bb9e-b359ccf5c226': 0.0, 'node_76e23d82-9c44-49e9-baf3-9384e0246e55': 0.0, 'node_1956d023-de76-4111-b78d-eb27328cb0b3': 0.0, 'node_9b4ebe35-3708-49f4-a7cc-014768a862ec': 0.0, 'node_e07822d8-8f52-4fb2-9a95-33177ea3a3d8': 0.0}, 'node_6fbf3437-7f61-4b35-be8f-818d9003a000': {'node_d5eae97e-173d-42c6-ac9a-872b13237705': 0.3, 'node_19e6235b-0c22-4f95-8a9b-1a5997011d3e': 0.14, 'node_8e485a88-d2b6-4732-b3c9-0aa7f61432c3': 0.56, 'node_178d91f6-4f4e-451e-948c-7b88441e7926': 0.0, 'node_4329cc2f-2e6c-409d-baad-6004c322a2b3': 0.0, 'node_f1263197-6d9c-4210-bb9e-b359ccf5c226': 0.0, 'node_76e23d82-9c44-49e9-baf3-9384e0246e55': 0.0, 'node_1956d023-de76-4111-b78d-eb27328cb0b3': 0.0, 'node_9b4ebe35-3708-49f4-a7cc-014768a862ec': 0.0, 'node_e07822d8-8f52-4fb2-9a95-33177ea3a3d8': 0.0}, 'node_609717b3-0ccc-4704-9afa-2cd3db773794': {'node_f81b80f0-6452-4425-9907-a71dd02a26c8': 0.01, 'node_1001b138-91f8-4ce9-9074-8d6a66ed9be0': 0.01, 'node_d18078bb-3372-43f8-8da9-b97478562541': 0.31, 'node_d5eae97e-173d-42c6-ac9a-872b13237705': 0.17, 'node_284b72c5-09cc-4cc7-b68c-f74fb0b28b8a': 0.01, 'node_5b2b98ee-2024-4cff-9825-04410fce5ebe': 0.24, 'node_8e485a88-d2b6-4732-b3c9-0aa7f61432c3': 0.25, 'node_178d91f6-4f4e-451e-948c-7b88441e7926': 0.0, 'node_4329cc2f-2e6c-409d-baad-6004c322a2b3': 0.0, 'node_f1263197-6d9c-4210-bb9e-b359ccf5c226': 0.0, 'node_76e23d82-9c44-49e9-baf3-9384e0246e55': 0.0, 'node_1956d023-de76-4111-b78d-eb27328cb0b3': 0.0, 'node_9b4ebe35-3708-49f4-a7cc-014768a862ec': 0.0, 'node_e07822d8-8f52-4fb2-9a95-33177ea3a3d8': 0.0}, 'node_725ed8a7-12dd-480a-8081-be9450e68ebd': {'node_d18078bb-3372-43f8-8da9-b97478562541': 0.24, 'node_b0179fbc-4f2c-4140-8b49-a232617b7f70': 0.01, 'node_cebf4f0e-21c7-4add-a5da-1b6a7e9cd0b9': 0.0, 'node_d5eae97e-173d-42c6-ac9a-872b13237705': 0.13, 'node_9106eeda-6e8c-429d-9137-02ec40e81b69': 0.04, 'node_5b2b98ee-2024-4cff-9825-04410fce5ebe': 0.18, 'node_19e6235b-0c22-4f95-8a9b-1a5997011d3e': 0.22, 'node_8e485a88-d2b6-4732-b3c9-0aa7f61432c3': 0.18, 'node_178d91f6-4f4e-451e-948c-7b88441e7926': 0.0, 'node_4329cc2f-2e6c-409d-baad-6004c322a2b3': 0.0, 'node_f1263197-6d9c-4210-bb9e-b359ccf5c226': 0.0, 'node_76e23d82-9c44-49e9-baf3-9384e0246e55': 0.0, 'node_1956d023-de76-4111-b78d-eb27328cb0b3': 0.0, 'node_9b4ebe35-3708-49f4-a7cc-014768a862ec': 0.0, 'node_e07822d8-8f52-4fb2-9a95-33177ea3a3d8': 0.0}}"
   ]
  },
  {
   "cell_type": "code",
   "execution_count": 37,
   "metadata": {},
   "outputs": [
    {
     "name": "stdout",
     "output_type": "stream",
     "text": [
      "1.1102230246251565e-16\n",
      "1.1102230246251565e-16\n"
     ]
    }
   ],
   "source": [
    "for key in a:\n",
    "    inner_dict = a[key]\n",
    "    sum_probabilities = sum(inner_dict.values())\n",
    "    if sum_probabilities != 1:\n",
    "        adjustment = 1 - sum_probabilities\n",
    "        print(adjustment)\n",
    "        max_value_key = max(inner_dict, key=inner_dict.get)\n",
    "        inner_dict[max_value_key] += adjustment"
   ]
  },
  {
   "cell_type": "code",
   "execution_count": 43,
   "metadata": {},
   "outputs": [
    {
     "name": "stdout",
     "output_type": "stream",
     "text": [
      "1.0\n",
      "1.0\n",
      "1.0\n",
      "1.0\n",
      "1.0\n",
      "1.0\n",
      "1.0\n",
      "1.0\n",
      "1.0000000000000002\n",
      "1.0\n",
      "1.0\n",
      "1.0\n"
     ]
    }
   ],
   "source": [
    "for key in a.keys():\n",
    "    print(sum(a[key].values()))"
   ]
  },
  {
   "attachments": {},
   "cell_type": "markdown",
   "metadata": {},
   "source": [
    "# Join files"
   ]
  },
  {
   "cell_type": "code",
   "execution_count": 2,
   "metadata": {},
   "outputs": [],
   "source": [
    "from glob import glob\n",
    "import os\n",
    "import subprocess\n",
    "import pandas as pd"
   ]
  },
  {
   "cell_type": "code",
   "execution_count": 3,
   "metadata": {},
   "outputs": [],
   "source": [
    "def simulate(bimp_path, output_path, csv_output_path):\n",
    "    args = ['java', '-jar', bimp_path, output_path, '-csv', csv_output_path]\n",
    "    result = subprocess.run(args, stdout=subprocess.PIPE, text=True)\n",
    "    print(result.returncode)\n",
    "    if result.returncode == 0:\n",
    "        print(\"Simulation was successfully executed\")\n",
    "        print(result.stdout.split('\\n'))\n",
    "    elif result.returncode == 1:\n",
    "        execption_output = [result.stdout.split('\\n')[i-1] for i in range(len(result.stdout.split('\\n'))) if 'BPSimulatorException' in result.stdout.split('\\n')[i]]\n",
    "        print(\"Execution failed :\", ' '.join(execption_output))\n",
    "\n",
    "def extract_text(model_path, ptt_s, ptt_e):\n",
    "    with open(model_path) as file:\n",
    "        model= file.read()\n",
    "    lines = model.split('\\n')\n",
    "    start, end = None, None\n",
    "    for idx, line in enumerate(lines):\n",
    "        if ptt_s in line and start == None:\n",
    "            start = idx\n",
    "        if ptt_e in line and end == None:\n",
    "            end = idx\n",
    "        if start != None and end != None:\n",
    "            break\n",
    "    return '\\n'.join(lines[start+1:end])\n",
    "\n",
    "def standarize_metric(value, kpi):\n",
    "    if 'cost' not in kpi.lower():\n",
    "        if (value <= 60*1.5):\n",
    "            return value, 'seconds'\n",
    "        elif (value > 60*1.5) and (value <= 60*60*1.5):\n",
    "            return value/(60), 'minutes'\n",
    "        elif (value > 60*60*1.5) and (value <= 60*60*24*1.5):\n",
    "            return value/(60*60), 'hours'\n",
    "        elif (value > 60*60*24*1.5) and (value <= 60*60*24*7*1.5):\n",
    "            return value/(60*60*24), 'days'\n",
    "        elif (value > 60*60*24*7*1.5):\n",
    "            return value/(60*60*24*7), 'weeks'\n",
    "    else:\n",
    "        return value, ''\n",
    "    \n",
    "def extract_stats(csv_output_path, event_log, rule, event_log_class):\n",
    "\n",
    "    ptt_s = 'Scenario statistics'\n",
    "    ptt_e = 'Process Cycle Time (s) distribution' \n",
    "    text = extract_text(csv_output_path, ptt_s, ptt_e)\n",
    "\n",
    "    data = [x.split(',') for x in text.split('\\n') if x != '']\n",
    "    df = pd.DataFrame(data = data[1:], columns=data[0])\n",
    "\n",
    "    df['Average'] = df['Average'].astype(float).astype(str).apply(lambda x: format(float(x),\".2f\")).astype(float)\n",
    "    df['Average'], df['Units'] = zip(*df.apply(lambda x: (x['Average'], x['KPI']), axis=1))\n",
    "    df['Average'] = df['Average'].round(2)\n",
    "    df['Metric'] = df.apply(lambda x: x['KPI'].replace(' (s)', ''), axis=1)\n",
    "    df['Event Log'] = event_log\n",
    "    df['Rule'] = rule\n",
    "    df['Event Log Type'] = event_log_class\n",
    "    df = df[['Event Log', 'Event Log Type', 'Rule', 'Metric', 'Min', 'Average', 'Max', 'Units']]\n",
    "\n",
    "    return df"
   ]
  },
  {
   "cell_type": "code",
   "execution_count": 4,
   "metadata": {},
   "outputs": [
    {
     "name": "stdout",
     "output_type": "stream",
     "text": [
      "0\n",
      "Simulation was successfully executed\n",
      "['Running input_files\\\\tests\\\\simulation_files\\\\RunningExample A eventually follows C.bpmn', '1 - EVENT START id: proc_33176221.node_9212433d-5f6b-4163-b1ba-7ade72baaa40 index: 1 ', '7 - TASK (Start) id: proc_33176221.node_6dca319c-443a-4f4e-80f7-2d823422f246 index: 7 ', '4 - TASK (Task C) id: proc_33176221.node_fcfcf01f-ae3e-4d7c-a01a-4979dc1a372c index: 4 ', '11 - TASK (Task B) id: proc_33176221.node_62424f04-de60-4fe0-8ff8-8d0b56fc8380 index: 11 ', '9 - TASK (Task A) id: proc_33176221.node_bdddfdbd-8249-478d-aa7f-030f8477d0fd index: 9 ', '12 - GATEWAY gw: OR id: proc_33176221.node_6a681fe8-b85f-46f1-9a5f-39d5334db7d9 index: 12 ', '10 - TASK (Task D) id: proc_33176221.node_44266230-66aa-44f0-a5a3-ed21e641989b index: 10 ', '13 - GATEWAY gw: OR id: proc_33176221.node_d1a991e6-0159-4f27-b1ee-f3a0ec8fe299 index: 13 ', '6 - TASK (Task F) id: proc_33176221.node_2e926831-d1d0-4cb0-a7f3-8dda558fbca4 index: 6 ', '3 - TASK (Task G) id: proc_33176221.node_88442fec-6919-483e-9e88-4966349a3c41 index: 3 ', '5 - TASK (End) id: proc_33176221.node_5a9ba34f-a794-47ab-a863-7f7276649b73 index: 5 ', '2 - EVENT END id: proc_33176221.node_42f5798c-9ba6-4598-99b6-d257680e6f9b index: 2 ', 'flow: 12 from 5-2', 'flow: 11 from 3-5', 'flow: 10 from 6-3', 'flow: 9 from 13-6', 'flow: 8 from 10-13', 'flow: 7 from 12-10', '8 - TASK (Task E) id: proc_33176221.node_f280b921-8da5-4cde-bfeb-92fffe0f8834 index: 8 ', 'flow: 14 from 8-13', 'flow: 13 from 12-8', 'flow: 6 from 9-12', 'flow: 5 from 11-9', 'flow: 4 from 4-11', 'flow: 3 from 7-4', 'flow: 2 from 1-7', 'Process instances: 35', 'Average process time: 190893.65392537118', 'Minimum process time: 159393.36778640747', 'Maximum process time: 770443.2750716209', '', 'Average process cost: 40.363385073835886', 'Minimum process cost: 3.880899291568332', 'Maximum process cost: 252.69616639216738', '', 'Average process waiting time: 3671.29148346356', 'Minimum process waiting time: 0.0', 'Maximum process waiting time: 6088.293142557144', '', 'Total cycle time: 218,98 h', 'Average cycle time: 53,03 h', 'Average cycle time in timetable: 3,04 h', '', 'Simulation engine performance data:', 'Enabled elements: 350', 'Started elements: 213', 'Completed elements: 420', '', 'Individual task statistics:', '-----------------------------------------------------------------------------------------------------------------------------------------------------------', '| Element                       | Avg Duration | Avg waiting time    | Avg Idle time  | Avg Cost  | Avg Cost over thresh| Avg Dur over thresho| Count     |', '-----------------------------------------------------------------------------------------------------------------------------------------------------------', '| EVENT 1 START                 | n/a          | n/a                 | n/a            | n/a       | n/a                 | n/a                 | 35        |', '| EVENT 2 END                   | n/a          | n/a                 | n/a            | n/a       | n/a                 | n/a                 | 35        |', '| End                           | n/a          | n/a                 | n/a            | n/a       | n/a                 | n/a                 | 35        |', '| GATEWAY 12 OR                 | n/a          | n/a                 | n/a            | n/a       | n/a                 | n/a                 | 35        |', '| GATEWAY 13 OR                 | n/a          | n/a                 | n/a            | n/a       | n/a                 | n/a                 | 35        |', '| Start                         | n/a          | n/a                 | n/a            | n/a       | n/a                 | n/a                 | 35        |', '| Task A                        | 249,21       | n/a                 | n/a            | 1,38      | n/a                 | n/a                 | 35        |', '| Task B                        | 5025,74      | 983,01              | 17902,29       | 22,46     | n/a                 | n/a                 | 35        |', '| Task C                        | 557,61       | 15,5                | 162054,67      | 3,01      | n/a                 | n/a                 | 35        |', '| Task E                        | 1172,94      | n/a                 | n/a            | 6,52      | n/a                 | n/a                 | 35        |', '| Task F                        | 3797,03      | 2672,78             | n/a            | 6,25      | n/a                 | n/a                 | 35        |', '| Task G                        | 134,17       | n/a                 | n/a            | 0,75      | n/a                 | n/a                 | 35        |', '-----------------------------------------------------------------------------------------------------------------------------------------------------------', '', 'Resource utilizations:', 'SYSTEM: 0%', 'Role 2: 38%', 'Role 1: 8%', '', 'Duration distribution: ', '159393 - 220497: 33', '220498 - 281602: 1', '281603 - 342707: 0', '342708 - 403812: 0', '403813 - 464917: 0', '464918 - 526022: 0', '526023 - 587127: 0', '587128 - 648232: 0', '648233 - 709337: 0', '709338 - 770442: 1', '', 'Waiting time distribution: ', '0 - 608: 4', '609 - 1217: 1', '1218 - 1826: 3', '1827 - 2435: 0', '2436 - 3044: 2', '3045 - 3653: 7', '3654 - 4262: 2', '4263 - 4871: 4', '4872 - 5480: 3', '5481 - 6089: 9', '', 'Process cost distribution: ', '3 - 27: 23', '28 - 52: 4', '53 - 77: 3', '78 - 102: 1', '103 - 127: 1', '128 - 152: 1', '153 - 177: 0', '178 - 202: 1', '203 - 227: 0', '228 - 252: 1', '', 'Cycle time distribution: ', '159393 - 220497: 33', '220498 - 281602: 1', '281603 - 342707: 0', '342708 - 403812: 0', '403813 - 464917: 0', '464918 - 526022: 0', '526023 - 587127: 0', '587128 - 648232: 0', '648233 - 709337: 0', '709338 - 770442: 1', '', 'In timetable cycle time distribution: ', '3843 - 8171: 17', '8172 - 12500: 12', '12501 - 16829: 2', '16830 - 21158: 1', '21159 - 25487: 1', '25488 - 29816: 0', '29817 - 34145: 1', '34146 - 38474: 0', '38475 - 42803: 0', '42804 - 47132: 1', 'Simulation started at: 2023-06-21 09:08:31', 'Simulation ended at: 2023-06-30 12:07:25', 'Processed 44ms elements: 420', 'Elements processed per second: 9545', 'Writing logs...', 'Done', '']\n",
      "0\n",
      "Simulation was successfully executed\n",
      "['Running input_files\\\\tests\\\\simulation_files\\\\RunningExample C directly follows A.bpmn', '1 - EVENT START id: Process_1.StartEvent_1 index: 1 ', '2 - TASK (Task A) id: Process_1.Activity_10i2g12 index: 2 ', '4 - TASK (Task C) id: Process_1.Activity_0z9g1nl index: 4 ', '3 - TASK (Task B) id: Process_1.Activity_0noog4x index: 3 ', '10 - GATEWAY gw: OR id: Process_1.Gateway_05qw579 index: 10 ', '6 - TASK (Task E) id: Process_1.Activity_08imrmf index: 6 ', '11 - GATEWAY gw: OR id: Process_1.Gateway_0cvbzj5 index: 11 ', '7 - TASK (Task F) id: Process_1.Activity_1hsmk9h index: 7 ', '8 - TASK (Task G) id: Process_1.Activity_1ap3aw5 index: 8 ', '9 - EVENT END id: Process_1.Event_00yphyp index: 9 ', 'flow: 10 from 8-9', 'flow: 9 from 7-8', 'flow: 8 from 11-7', 'flow: 7 from 6-11', 'flow: 6 from 10-6', '5 - TASK (Task D) id: Process_1.Activity_1df8of5 index: 5 ', 'flow: 12 from 5-11', 'flow: 11 from 10-5', 'flow: 5 from 3-10', 'flow: 4 from 4-3', 'flow: 3 from 2-4', 'flow: 2 from 1-2', 'Process instances: 35', 'Average process time: 168347.2813716071', 'Minimum process time: 157783.09054136276', 'Maximum process time: 185785.2496547699', '', 'Average process cost: 20.836056002927204', 'Minimum process cost: 3.7723228878445094', 'Maximum process cost: 103.09604847166273', '', 'Average process waiting time: 2020.9930653367724', 'Minimum process waiting time: 86.84276056289673', 'Maximum process waiting time: 3456.110556125641', '', 'Total cycle time: 53,39 h', 'Average cycle time: 46,76 h', 'Average cycle time in timetable: 1,6 h', '', 'Simulation engine performance data:', 'Enabled elements: 281', 'Started elements: 111', 'Completed elements: 351', '', 'Individual task statistics:', '-----------------------------------------------------------------------------------------------------------------------------------------------------------', '| Element                       | Avg Duration | Avg waiting time    | Avg Idle time  | Avg Cost  | Avg Cost over thresh| Avg Dur over thresho| Count     |', '-----------------------------------------------------------------------------------------------------------------------------------------------------------', '| EVENT 1 START                 | n/a          | n/a                 | n/a            | n/a       | n/a                 | n/a                 | 35        |', '| EVENT 9 END                   | n/a          | n/a                 | n/a            | n/a       | n/a                 | n/a                 | 35        |', '| GATEWAY 10 OR                 | n/a          | n/a                 | n/a            | n/a       | n/a                 | n/a                 | 35        |', '| GATEWAY 11 OR                 | n/a          | n/a                 | n/a            | n/a       | n/a                 | n/a                 | 35        |', '| Task A                        | 333,33       | 95,17               | 162575,8       | 1,32      | n/a                 | n/a                 | 35        |', '| Task B                        | 2414,42      | 726,93              | n/a            | 9,37      | n/a                 | n/a                 | 35        |', '| Task C                        | 229,9        | 63,32               | n/a            | 0,93      | n/a                 | n/a                 | 35        |', '| Task D                        | 1298,41      | 1195,38             | n/a            | 0,57      | n/a                 | n/a                 | 1         |', '| Task E                        | 926,74       | 8,21                | n/a            | 5,1       | n/a                 | n/a                 | 35        |', '| Task F                        | 1675,58      | 1093,21             | n/a            | 3,24      | n/a                 | n/a                 | 35        |', '| Task G                        | 154,41       | n/a                 | n/a            | 0,86      | n/a                 | n/a                 | 35        |', '-----------------------------------------------------------------------------------------------------------------------------------------------------------', '', 'Resource utilizations:', 'SYSTEM: 0%', 'Role 1: 13%', 'Role 2: 40%', '', 'Duration distribution: ', '157783 - 160583: 2', '160584 - 163384: 6', '163385 - 166185: 6', '166186 - 168986: 5', '168987 - 171787: 6', '171788 - 174588: 6', '174589 - 177389: 3', '177390 - 180190: 0', '180191 - 182991: 0', '182992 - 185792: 1', '', 'Waiting time distribution: ', '86 - 422: 3', '423 - 759: 0', '760 - 1096: 0', '1097 - 1433: 4', '1434 - 1770: 4', '1771 - 2107: 9', '2108 - 2444: 6', '2445 - 2781: 2', '2782 - 3118: 3', '3119 - 3455: 4', '', 'Process cost distribution: ', '3 - 12: 20', '13 - 22: 6', '23 - 32: 5', '33 - 42: 0', '43 - 52: 1', '53 - 62: 1', '63 - 72: 1', '73 - 82: 0', '83 - 92: 0', '93 - 102: 1', '', 'Cycle time distribution: ', '157783 - 160583: 2', '160584 - 163384: 6', '163385 - 166185: 6', '166186 - 168986: 5', '168987 - 171787: 6', '171788 - 174588: 6', '174589 - 177389: 3', '177390 - 180190: 0', '180191 - 182991: 0', '182992 - 185792: 1', '', 'In timetable cycle time distribution: ', '2356 - 4109: 11', '4110 - 5863: 15', '5864 - 7617: 3', '7618 - 9371: 2', '9372 - 11125: 1', '11126 - 12879: 1', '12880 - 14633: 1', '14634 - 16387: 0', '16388 - 18141: 0', '18142 - 19895: 1', 'Simulation started at: 2023-06-21 09:08:00', 'Simulation ended at: 2023-06-23 14:31:29', 'Processed 40ms elements: 351', 'Elements processed per second: 8775', 'Writing logs...', 'Done', '']\n",
      "0\n",
      "Simulation was successfully executed\n",
      "['Running input_files\\\\tests\\\\simulation_files\\\\RunningExample E directly follows C.bpmn', '1 - EVENT START id: proc_33176221.node_9212433d-5f6b-4163-b1ba-7ade72baaa40 index: 1 ', '7 - TASK (Start) id: proc_33176221.node_6dca319c-443a-4f4e-80f7-2d823422f246 index: 7 ', '9 - TASK (Task A) id: proc_33176221.node_bdddfdbd-8249-478d-aa7f-030f8477d0fd index: 9 ', '10 - TASK (Task B) id: proc_33176221.node_62424f04-de60-4fe0-8ff8-8d0b56fc8380 index: 10 ', '4 - TASK (Task C) id: proc_33176221.node_fcfcf01f-ae3e-4d7c-a01a-4979dc1a372c index: 4 ', '8 - TASK (Task E) id: proc_33176221.node_f280b921-8da5-4cde-bfeb-92fffe0f8834 index: 8 ', '6 - TASK (Task F) id: proc_33176221.node_2e926831-d1d0-4cb0-a7f3-8dda558fbca4 index: 6 ', '3 - TASK (Task G) id: proc_33176221.node_88442fec-6919-483e-9e88-4966349a3c41 index: 3 ', '5 - TASK (End) id: proc_33176221.node_5a9ba34f-a794-47ab-a863-7f7276649b73 index: 5 ', '2 - EVENT END id: proc_33176221.node_42f5798c-9ba6-4598-99b6-d257680e6f9b index: 2 ', 'flow: 10 from 5-2', 'flow: 9 from 3-5', 'flow: 8 from 6-3', 'flow: 7 from 8-6', 'flow: 6 from 4-8', 'flow: 5 from 10-4', 'flow: 4 from 9-10', 'flow: 3 from 7-9', 'flow: 2 from 1-7', 'Process instances: 35', 'Average process time: 445099.32981405937', 'Minimum process time: 156009.7529144287', 'Maximum process time: 9851170.196712017', '', 'Average process cost: 117.07270234599946', 'Minimum process cost: 3.8169622023900343', 'Maximum process cost: 3207.5115179022155', '', 'Average process waiting time: 1792.070525462287', 'Minimum process waiting time: 0.0', 'Maximum process waiting time: 3485.443323135376', '', 'Total cycle time: 2736,77 h', 'Average cycle time: 123,64 h', 'Average cycle time in timetable: 6,35 h', '', 'Simulation engine performance data:', 'Enabled elements: 350', 'Started elements: 215', 'Completed elements: 350', '', 'Individual task statistics:', '-----------------------------------------------------------------------------------------------------------------------------------------------------------', '| Element                       | Avg Duration | Avg waiting time    | Avg Idle time  | Avg Cost  | Avg Cost over thresh| Avg Dur over thresho| Count     |', '-----------------------------------------------------------------------------------------------------------------------------------------------------------', '| EVENT 1 START                 | n/a          | n/a                 | n/a            | n/a       | n/a                 | n/a                 | 35        |', '| EVENT 2 END                   | n/a          | n/a                 | n/a            | n/a       | n/a                 | n/a                 | 35        |', '| End                           | n/a          | n/a                 | n/a            | n/a       | n/a                 | n/a                 | 35        |', '| Start                         | n/a          | n/a                 | n/a            | n/a       | n/a                 | n/a                 | 35        |', '| Task A                        | 353,93       | 103,91              | 162156,46      | 1,39      | n/a                 | n/a                 | 35        |', '| Task B                        | 1993,43      | 494,04              | n/a            | 8,33      | n/a                 | n/a                 | 35        |', '| Task C                        | 3066,8       | 2,43                | 32509,71       | 17,02     | n/a                 | n/a                 | 35        |', '| Task E                        | 14970,55     | n/a                 | 227568         | 83,17     | n/a                 | n/a                 | 35        |', '| Task F                        | 2089,84      | 1191,69             | n/a            | 4,99      | n/a                 | n/a                 | 35        |', '| Task G                        | 390,62       | n/a                 | n/a            | 2,17      | n/a                 | n/a                 | 35        |', '-----------------------------------------------------------------------------------------------------------------------------------------------------------', '', 'Resource utilizations:', 'SYSTEM: 0%', 'Role 2: 1%', 'Role 1: 6%', '', 'Duration distribution: ', '156009 - 1125525: 34', '1125526 - 2095042: 0', '2095043 - 3064559: 0', '3064560 - 4034076: 0', '4034077 - 5003593: 0', '5003594 - 5973110: 0', '5973111 - 6942627: 0', '6942628 - 7912144: 0', '7912145 - 8881661: 0', '8881662 - 9851178: 1', '', 'Waiting time distribution: ', '0 - 348: 7', '349 - 697: 0', '698 - 1046: 4', '1047 - 1395: 2', '1396 - 1744: 3', '1745 - 2093: 0', '2094 - 2442: 7', '2443 - 2791: 5', '2792 - 3140: 3', '3141 - 3489: 4', '', 'Process cost distribution: ', '3 - 323: 34', '324 - 644: 0', '645 - 965: 0', '966 - 1286: 0', '1287 - 1607: 0', '1608 - 1928: 0', '1929 - 2249: 0', '2250 - 2570: 0', '2571 - 2891: 0', '2892 - 3212: 1', '', 'Cycle time distribution: ', '156009 - 1125525: 34', '1125526 - 2095042: 0', '2095043 - 3064559: 0', '3064560 - 4034076: 0', '4034077 - 5003593: 0', '5003594 - 5973110: 0', '5973111 - 6942627: 0', '6942628 - 7912144: 0', '7912145 - 8881661: 0', '8881662 - 9851178: 1', '', 'In timetable cycle time distribution: ', '2913 - 60356: 34', '60357 - 117800: 0', '117801 - 175244: 0', '175245 - 232688: 0', '232689 - 290132: 0', '290133 - 347576: 0', '347577 - 405020: 0', '405021 - 462464: 0', '462465 - 519908: 0', '519909 - 577352: 1', 'Simulation started at: 2023-06-21 09:08:31', 'Simulation ended at: 2023-10-13 09:54:32', 'Processed 58ms elements: 350', 'Elements processed per second: 6034', 'Writing logs...', 'Done', '']\n",
      "0\n",
      "Simulation was successfully executed\n",
      "['Running input_files\\\\tests\\\\simulation_files\\\\RunningExample E eventually follows B.bpmn', '1 - EVENT START id: proc_33176221.node_9212433d-5f6b-4163-b1ba-7ade72baaa40 index: 1 ', '7 - TASK (Start) id: proc_33176221.node_6dca319c-443a-4f4e-80f7-2d823422f246 index: 7 ', '9 - TASK (Task A) id: proc_33176221.node_bdddfdbd-8249-478d-aa7f-030f8477d0fd index: 9 ', '11 - TASK (Task B) id: proc_33176221.node_62424f04-de60-4fe0-8ff8-8d0b56fc8380 index: 11 ', '4 - TASK (Task C) id: proc_33176221.node_fcfcf01f-ae3e-4d7c-a01a-4979dc1a372c index: 4 ', '12 - GATEWAY gw: AND id: proc_33176221.node_6a681fe8-b85f-46f1-9a5f-39d5334db7d9 index: 12 ', '8 - TASK (Task E) id: proc_33176221.node_f280b921-8da5-4cde-bfeb-92fffe0f8834 index: 8 ', '13 - GATEWAY gw: AND id: proc_33176221.node_d1a991e6-0159-4f27-b1ee-f3a0ec8fe299 index: 13 ', '6 - TASK (Task F) id: proc_33176221.node_2e926831-d1d0-4cb0-a7f3-8dda558fbca4 index: 6 ', '3 - TASK (Task G) id: proc_33176221.node_88442fec-6919-483e-9e88-4966349a3c41 index: 3 ', '5 - TASK (End) id: proc_33176221.node_5a9ba34f-a794-47ab-a863-7f7276649b73 index: 5 ', '2 - EVENT END id: proc_33176221.node_42f5798c-9ba6-4598-99b6-d257680e6f9b index: 2 ', 'flow: 12 from 5-2', 'flow: 11 from 3-5', 'flow: 10 from 6-3', 'flow: 9 from 13-6', 'flow: 8 from 8-13', 'flow: 7 from 12-8', '10 - TASK (Task D) id: proc_33176221.node_44266230-66aa-44f0-a5a3-ed21e641989b index: 10 ', 'flow: 14 from 10-13', 'flow: 13 from 12-10', 'flow: 6 from 4-12', 'flow: 5 from 11-4', 'flow: 4 from 9-11', 'flow: 3 from 7-9', 'flow: 2 from 1-7', 'Process instances: 35', 'Average process time: 246403.52385595185', 'Minimum process time: 164064.36032867432', 'Maximum process time: 2064775.861002922', '', 'Average process cost: 59.24350568233974', 'Minimum process cost: 5.189488757981195', 'Maximum process cost: 744.8686130828328', '', 'Average process waiting time: 7014.382047312601', 'Minimum process waiting time: 0.0', 'Maximum process waiting time: 10134.865468263626', '', 'Total cycle time: 575,99 h', 'Average cycle time: 68,24 h', 'Average cycle time in timetable: 4,71 h', '', 'Simulation engine performance data:', 'Enabled elements: 385', 'Started elements: 214', 'Completed elements: 455', '', 'Individual task statistics:', '-----------------------------------------------------------------------------------------------------------------------------------------------------------', '| Element                       | Avg Duration | Avg waiting time    | Avg Idle time  | Avg Cost  | Avg Cost over thresh| Avg Dur over thresho| Count     |', '-----------------------------------------------------------------------------------------------------------------------------------------------------------', '| EVENT 1 START                 | n/a          | n/a                 | n/a            | n/a       | n/a                 | n/a                 | 35        |', '| EVENT 2 END                   | n/a          | n/a                 | n/a            | n/a       | n/a                 | n/a                 | 35        |', '| End                           | n/a          | n/a                 | n/a            | n/a       | n/a                 | n/a                 | 35        |', '| GATEWAY 12 AND                | n/a          | n/a                 | n/a            | n/a       | n/a                 | n/a                 | 35        |', '| GATEWAY 13 AND                | n/a          | n/a                 | n/a            | n/a       | n/a                 | n/a                 | 35        |', '| Start                         | n/a          | n/a                 | n/a            | n/a       | n/a                 | n/a                 | 35        |', '| Task A                        | 351,54       | 100,63              | 162058,45      | 1,39      | n/a                 | n/a                 | 35        |', '| Task B                        | 3017,58      | 968,45              | n/a            | 11,38     | n/a                 | n/a                 | 35        |', '| Task C                        | 298,44       | 1,75                | n/a            | 1,65      | n/a                 | n/a                 | 35        |', '| Task D                        | 8522,29      | 2926                | 50412          | 31,09     | n/a                 | n/a                 | 35        |', '| Task E                        | 1001,71      | n/a                 | n/a            | 5,57      | n/a                 | n/a                 | 35        |', '| Task F                        | 4287,11      | 3017,54             | 16254,86       | 7,05      | n/a                 | n/a                 | 35        |', '| Task G                        | 199,55       | n/a                 | n/a            | 1,11      | n/a                 | n/a                 | 35        |', '-----------------------------------------------------------------------------------------------------------------------------------------------------------', '', 'Resource utilizations:', 'SYSTEM: 0%', 'Role 2: 23%', 'Role 1: 2%', '', 'Duration distribution: ', '164064 - 354135: 33', '354136 - 544207: 0', '544208 - 734279: 0', '734280 - 924351: 1', '924352 - 1114423: 0', '1114424 - 1304495: 0', '1304496 - 1494567: 0', '1494568 - 1684639: 0', '1684640 - 1874711: 0', '1874712 - 2064783: 1', '', 'Waiting time distribution: ', '0 - 1013: 2', '1014 - 2027: 0', '2028 - 3041: 2', '3042 - 4055: 2', '4056 - 5069: 2', '5070 - 6083: 1', '6084 - 7097: 2', '7098 - 8111: 12', '8112 - 9125: 5', '9126 - 10139: 7', '', 'Process cost distribution: ', '5 - 78: 29', '79 - 152: 4', '153 - 226: 1', '227 - 300: 0', '301 - 374: 0', '375 - 448: 0', '449 - 522: 0', '523 - 596: 0', '597 - 670: 0', '671 - 744: 1', '', 'Cycle time distribution: ', '163516 - 353630: 33', '353631 - 543745: 0', '543746 - 733860: 0', '733861 - 923975: 1', '923976 - 1114090: 0', '1114091 - 1304205: 0', '1304206 - 1494320: 0', '1494321 - 1684435: 0', '1684436 - 1874550: 0', '1874551 - 2064665: 1', '', 'In timetable cycle time distribution: ', '5423 - 18565: 29', '18566 - 31708: 4', '31709 - 44851: 1', '44852 - 57994: 0', '57995 - 71137: 0', '71138 - 84280: 0', '84281 - 97423: 0', '97424 - 110566: 0', '110567 - 123709: 0', '123710 - 136852: 1', 'Simulation started at: 2023-06-21 09:08:31', 'Simulation ended at: 2023-07-15 09:07:49', 'Processed 47ms elements: 455', 'Elements processed per second: 9680', 'Writing logs...', 'Done', '']\n",
      "0\n",
      "Simulation was successfully executed\n",
      "['Running input_files\\\\tests\\\\simulation_files\\\\RunningExample E is not allowed.bpmn', '1 - EVENT START id: Process_1.StartEvent_1 index: 1 ', '2 - TASK (Task A) id: Process_1.Activity_10i2g12 index: 2 ', '3 - TASK (Task B) id: Process_1.Activity_0noog4x index: 3 ', '4 - TASK (Task C) id: Process_1.Activity_0z9g1nl index: 4 ', '8 - TASK (Task D) id: Process_1.Activity_1df8of5 index: 8 ', '7 - TASK (Task F) id: Process_1.Activity_1hsmk9h index: 7 ', '5 - TASK (Task G) id: Process_1.Activity_1ap3aw5 index: 5 ', '6 - EVENT END id: Process_1.Event_00yphyp index: 6 ', 'flow: 8 from 5-6', 'flow: 7 from 7-5', 'flow: 6 from 8-7', 'flow: 5 from 4-8', 'flow: 4 from 3-4', 'flow: 3 from 2-3', 'flow: 2 from 1-2', 'Process instances: 35', 'Average process time: 257707.03938048906', 'Minimum process time: 247477.64943909645', 'Maximum process time: 266720.57473158836', '', 'Average process cost: 24.594960334717285', 'Minimum process cost: 2.1952738020155165', 'Maximum process cost: 78.9277489900589', '', 'Average process waiting time: 4105.948919486999', 'Minimum process waiting time: 148.53921055793762', 'Maximum process waiting time: 6423.771265029907', '', 'Total cycle time: 76,89 h', 'Average cycle time: 71,59 h', 'Average cycle time in timetable: 2,37 h', '', 'Simulation engine performance data:', 'Enabled elements: 280', 'Started elements: 110', 'Completed elements: 280', '', 'Individual task statistics:', '-----------------------------------------------------------------------------------------------------------------------------------------------------------', '| Element                       | Avg Duration | Avg waiting time    | Avg Idle time  | Avg Cost  | Avg Cost over thresh| Avg Dur over thresho| Count     |', '-----------------------------------------------------------------------------------------------------------------------------------------------------------', '| EVENT 1 START                 | n/a          | n/a                 | n/a            | n/a       | n/a                 | n/a                 | 35        |', '| EVENT 6 END                   | n/a          | n/a                 | n/a            | n/a       | n/a                 | n/a                 | 35        |', '| Task A                        | 354,02       | 101,76              | 249174         | 1,4       | n/a                 | n/a                 | 35        |', '| Task B                        | 2119,81      | 608,17              | n/a            | 8,4       | n/a                 | n/a                 | 35        |', '| Task C                        | 539,38       | 0,15                | n/a            | 3         | n/a                 | n/a                 | 35        |', '| Task D                        | 3037,61      | 1836,77             | n/a            | 6,67      | n/a                 | n/a                 | 35        |', '| Task F                        | 2062,91      | 1559,1              | n/a            | 2,8       | n/a                 | n/a                 | 35        |', '| Task G                        | 419,31       | n/a                 | n/a            | 2,33      | n/a                 | n/a                 | 35        |', '-----------------------------------------------------------------------------------------------------------------------------------------------------------', '', 'Resource utilizations:', 'SYSTEM: 0%', 'Role 1: 12%', 'Role 2: 64%', '', 'Duration distribution: ', '247477 - 249401: 2', '249402 - 251326: 4', '251327 - 253251: 3', '253252 - 255176: 4', '255177 - 257101: 3', '257102 - 259026: 2', '259027 - 260951: 3', '260952 - 262876: 7', '262877 - 264801: 4', '264802 - 266726: 3', '', 'Waiting time distribution: ', '148 - 775: 1', '776 - 1403: 2', '1404 - 2031: 3', '2032 - 2659: 4', '2660 - 3287: 1', '3288 - 3915: 1', '3916 - 4543: 5', '4544 - 5171: 3', '5172 - 5799: 11', '5800 - 6427: 4', '', 'Process cost distribution: ', '2 - 9: 11', '10 - 17: 9', '18 - 25: 3', '26 - 33: 1', '34 - 41: 4', '42 - 49: 2', '50 - 57: 1', '58 - 65: 0', '66 - 73: 3', '74 - 81: 1', '', 'Cycle time distribution: ', '247477 - 249401: 2', '249402 - 251326: 4', '251327 - 253251: 3', '253252 - 255176: 4', '255177 - 257101: 3', '257102 - 259026: 2', '259027 - 260951: 3', '260952 - 262876: 7', '262877 - 264801: 4', '264802 - 266726: 3', '', 'In timetable cycle time distribution: ', '2723 - 4209: 3', '4210 - 5696: 1', '5697 - 7183: 9', '7184 - 8670: 10', '8671 - 10157: 4', '10158 - 11644: 2', '11645 - 13131: 3', '13132 - 14618: 1', '14619 - 16105: 1', '16106 - 17592: 1', 'Simulation started at: 2023-06-13 09:00:00', 'Simulation ended at: 2023-06-16 13:53:07', 'Processed 37ms elements: 280', 'Elements processed per second: 7567', 'Writing logs...', 'Done', '']\n",
      "0\n",
      "Simulation was successfully executed\n",
      "['Running input_files\\\\tests\\\\simulation_files\\\\RunningExample E is required.bpmn', '1 - EVENT START id: Process_1.StartEvent_1 index: 1 ', '2 - TASK (Task A) id: Process_1.Activity_10i2g12 index: 2 ', '3 - TASK (Task B) id: Process_1.Activity_0noog4x index: 3 ', '4 - TASK (Task C) id: Process_1.Activity_0z9g1nl index: 4 ', '10 - GATEWAY gw: AND id: Process_1.Gateway_05qw579 index: 10 ', '5 - TASK (Task D) id: Process_1.Activity_1df8of5 index: 5 ', '11 - GATEWAY gw: AND id: Process_1.Gateway_0cvbzj5 index: 11 ', '7 - TASK (Task F) id: Process_1.Activity_1hsmk9h index: 7 ', '8 - TASK (Task G) id: Process_1.Activity_1ap3aw5 index: 8 ', '9 - EVENT END id: Process_1.Event_00yphyp index: 9 ', 'flow: 10 from 8-9', 'flow: 9 from 7-8', 'flow: 8 from 11-7', 'flow: 7 from 5-11', 'flow: 6 from 10-5', '6 - TASK (Task E) id: Process_1.Activity_08imrmf index: 6 ', 'flow: 12 from 6-11', 'flow: 11 from 10-6', 'flow: 5 from 4-10', 'flow: 4 from 3-4', 'flow: 3 from 2-3', 'flow: 2 from 1-2', 'Processed -1686723529695ms elements: 0', 'Writing logs...', 'Done', 'null', 'java.lang.NullPointerException', '\\tat com.qbpsimulator.engine.parser.bpmn.xml.BPMN2XmlParser.getArrivalRateTimeTable(BPMN2XmlParser.java:182)', '\\tat com.qbpsimulator.engine.BPSimulator.initProcessInstances(BPSimulator.java:329)', '\\tat com.qbpsimulator.engine.BPSimulator.run(BPSimulator.java:252)', '\\tat com.qbpsimulator.engine.Runner.main(Runner.java:68)', '']\n"
     ]
    }
   ],
   "source": [
    "files_path = os.path.join('input_files', 'tests', 'simulation_files')\n",
    "files = glob(files_path + '/*')\n",
    "\n",
    "bimp_path = os.path.join('external_tools', 'bimp', 'qbp-simulator-engine_with_csv_statistics.jar')\n",
    "for file in files:\n",
    "    filename = file.split('\\\\')[-1].split('.')[0]\n",
    "    csv_output_path = os.path.join('input_files', 'tests', 'simulation_stats', f'{filename}.csv')\n",
    "    simulate(bimp_path, file, csv_output_path)"
   ]
  },
  {
   "cell_type": "code",
   "execution_count": 5,
   "metadata": {},
   "outputs": [
    {
     "name": "stdout",
     "output_type": "stream",
     "text": [
      "0\n",
      "Simulation was successfully executed\n",
      "['Running output_files\\\\simulation_files\\\\RunningExample A eventually follows C.bpmn', '1 - EVENT START id: proc_4976137.node_b51da17e-8ab7-406b-ba5f-91966d393c6b index: 1 ', '11 - TASK (EVENT 1 START) id: proc_4976137.node_c8c60031-002a-465b-9ae9-be332cab3994 index: 11 ', '10 - TASK (Task A) id: proc_4976137.node_dcb66c7a-f7d9-4a47-ac15-2379329ee079 index: 10 ', '8 - TASK (Task B) id: proc_4976137.node_6a512808-2e82-4a23-b8dd-010853f9290b index: 8 ', '6 - TASK (Task C) id: proc_4976137.node_762ff0d7-4d0c-4359-aceb-db350d863ae3 index: 6 ', '13 - GATEWAY gw: XOR id: proc_4976137.node_145e0f57-d108-4d01-9d0c-680c341265b4 index: 13 ', '4 - TASK (Task D) id: proc_4976137.node_542bf42e-dc08-47b1-9d66-2ed050d46369 index: 4 ', '12 - GATEWAY gw: XOR id: proc_4976137.node_f7ae8ee4-ae87-49e2-b3da-f5f769fc7335 index: 12 ', '5 - TASK (Task F) id: proc_4976137.node_a97a9b4f-faa6-4612-90c7-03563348634f index: 5 ', '3 - TASK (Task G) id: proc_4976137.node_1305cc90-7125-4857-a123-a7d0d7c37b3c index: 3 ', '7 - TASK (EVENT 9 END) id: proc_4976137.node_25b60075-931a-4985-8b71-78034c5a1765 index: 7 ', '2 - EVENT END id: proc_4976137.node_36a5672e-08b0-443d-8bd3-a64fe7e1041f index: 2 ', 'flow: 12 from 7-2', 'flow: 11 from 3-7', 'flow: 10 from 5-3', 'flow: 9 from 12-5', 'flow: 8 from 4-12', 'flow: 7 from 13-4', '9 - TASK (Task E) id: proc_4976137.node_71b9858e-bd0b-45c8-91ad-202562033c7c index: 9 ', 'flow: 14 from 9-12', 'flow: 13 from 13-9', 'flow: 6 from 6-13', 'flow: 5 from 8-6', 'flow: 4 from 10-8', 'flow: 3 from 11-10', 'flow: 2 from 1-11', 'Process instances: 35', 'Average process time: 169600.1659847532', 'Minimum process time: 157203.12232255936', 'Maximum process time: 186435.86039948463', '', 'Average process cost: 29.262237919739313', 'Minimum process cost: 2.390177651246389', 'Maximum process cost: 97.38969568676418', '', 'Average process waiting time: 2216.4996388162886', 'Minimum process waiting time: 0.0', 'Maximum process waiting time: 4750.607743501663', '', 'Total cycle time: 53,75 h', 'Average cycle time: 47,11 h', 'Average cycle time in timetable: 2,08 h', '', 'Simulation engine performance data:', 'Enabled elements: 350', 'Started elements: 126', 'Completed elements: 420', '', 'Individual task statistics:', '-----------------------------------------------------------------------------------------------------------------------------------------------------------', '| Element                       | Avg Duration | Avg waiting time    | Avg Idle time  | Avg Cost  | Avg Cost over thresh| Avg Dur over thresho| Count     |', '-----------------------------------------------------------------------------------------------------------------------------------------------------------', '| EVENT 1 START                 | n/a          | n/a                 | n/a            | n/a       | n/a                 | n/a                 | 35        |', '| EVENT 1 START                 | n/a          | n/a                 | n/a            | n/a       | n/a                 | n/a                 | 35        |', '| EVENT 2 END                   | n/a          | n/a                 | n/a            | n/a       | n/a                 | n/a                 | 35        |', '| EVENT 9 END                   | n/a          | n/a                 | n/a            | n/a       | n/a                 | n/a                 | 35        |', '| GATEWAY 12 XOR                | n/a          | n/a                 | n/a            | n/a       | n/a                 | n/a                 | 35        |', '| GATEWAY 13 XOR                | n/a          | n/a                 | n/a            | n/a       | n/a                 | n/a                 | 35        |', '| Task A                        | 345,17       | 100,78              | 162116,46      | 1,36      | n/a                 | n/a                 | 35        |', '| Task B                        | 1501,5       | 227,07              | n/a            | 7,08      | n/a                 | n/a                 | 35        |', '| Task C                        | 582,82       | 5,56                | n/a            | 3,21      | n/a                 | n/a                 | 35        |', '| Task D                        | 2481,45      | 1279,54             | n/a            | 6,68      | n/a                 | n/a                 | 18        |', '| Task E                        | 945,64       | n/a                 | n/a            | 5,25      | n/a                 | n/a                 | 17        |', '| Task F                        | 2635,73      | 1225,04             | n/a            | 7,84      | n/a                 | n/a                 | 35        |', '| Task G                        | 683,01       | n/a                 | n/a            | 3,79      | n/a                 | n/a                 | 35        |', '-----------------------------------------------------------------------------------------------------------------------------------------------------------', '', 'Resource utilizations:', 'SYSTEM: 0%', 'Role 2: 54%', 'Role 1: 16%', '', 'Duration distribution: ', '157203 - 160126: 2', '160127 - 163050: 5', '163051 - 165974: 7', '165975 - 168898: 3', '168899 - 171822: 5', '171823 - 174746: 6', '174747 - 177670: 2', '177671 - 180594: 1', '180595 - 183518: 2', '183519 - 186442: 2', '', 'Waiting time distribution: ', '0 - 475: 5', '476 - 951: 4', '952 - 1427: 5', '1428 - 1903: 2', '1904 - 2379: 2', '2380 - 2855: 4', '2856 - 3331: 4', '3332 - 3807: 2', '3808 - 4283: 2', '4284 - 4759: 5', '', 'Process cost distribution: ', '2 - 11: 14', '12 - 21: 9', '22 - 31: 1', '32 - 41: 3', '42 - 51: 0', '52 - 61: 0', '62 - 71: 3', '72 - 81: 2', '82 - 91: 1', '92 - 101: 2', '', 'Cycle time distribution: ', '157203 - 160126: 2', '160127 - 163050: 5', '163051 - 165974: 7', '165975 - 168898: 3', '168899 - 171822: 5', '171823 - 174746: 6', '174747 - 177670: 2', '177671 - 180594: 1', '180595 - 183518: 2', '183519 - 186442: 2', '', 'In timetable cycle time distribution: ', '935 - 2962: 5', '2963 - 4990: 4', '4991 - 7018: 15', '7019 - 9046: 2', '9047 - 11074: 1', '11075 - 13102: 2', '13103 - 15130: 3', '15131 - 17158: 0', '17159 - 19186: 2', '19187 - 21214: 1', 'Simulation started at: 2023-06-21 09:08:31', 'Simulation ended at: 2023-06-23 14:53:33', 'Processed 40ms elements: 420', 'Elements processed per second: 10500', 'Writing logs...', 'Done', '']\n",
      "0\n",
      "Simulation was successfully executed\n",
      "['Running output_files\\\\simulation_files\\\\RunningExample C directly follows A.bpmn', '1 - EVENT START id: proc_4976137.node_9e4a17a6-620d-4e32-bcc3-9cd00b5ee14d index: 1 ', '11 - TASK (EVENT 1 START) id: proc_4976137.node_a7ad4d1f-a92a-4d9e-8a4f-3df2a3b2c796 index: 11 ', '10 - TASK (Task A) id: proc_4976137.node_5691d9b4-fdb3-4007-b628-e51f7a9eb655 index: 10 ', '9 - TASK (Task B) id: proc_4976137.node_11dab059-69ea-42ee-a89f-434f532797ba index: 9 ', '3 - TASK (Task C) id: proc_4976137.node_5fd244a3-dbdd-4292-8d71-18f13d74240a index: 3 ', '13 - GATEWAY gw: XOR id: proc_4976137.node_e5b13856-0040-464f-9b14-95669fdd5c8b index: 13 ', '4 - TASK (Task D) id: proc_4976137.node_50589e31-b41c-4c1f-923b-a7c28f29026d index: 4 ', '12 - GATEWAY gw: XOR id: proc_4976137.node_37c2061b-d971-46c2-94b5-0b911e6f3f40 index: 12 ', '8 - TASK (Task F) id: proc_4976137.node_7a8e776c-8623-4409-a440-2b26e7d9d9b9 index: 8 ', '5 - TASK (Task G) id: proc_4976137.node_1c23f876-7fb9-4625-ab85-185a0c096f4a index: 5 ', '7 - TASK (EVENT 9 END) id: proc_4976137.node_36fad107-07e5-458f-a69c-99cf8e8b436a index: 7 ', '2 - EVENT END id: proc_4976137.node_3f8c1154-47d7-47f4-9578-8fc485a5dc9c index: 2 ', 'flow: 12 from 7-2', 'flow: 11 from 5-7', 'flow: 10 from 8-5', 'flow: 9 from 12-8', 'flow: 8 from 4-12', 'flow: 7 from 13-4', '6 - TASK (Task E) id: proc_4976137.node_ef12b2e8-89ed-4129-a02a-8fc574df9898 index: 6 ', 'flow: 14 from 6-12', 'flow: 13 from 13-6', 'flow: 6 from 3-13', 'flow: 5 from 9-3', 'flow: 4 from 10-9', 'flow: 3 from 11-10', 'flow: 2 from 1-11', 'Process instances: 35', 'Average process time: 277552.3387660776', 'Minimum process time: 162642.04304933548', 'Maximum process time: 3199637.934648037', '', 'Average process cost: 66.66957010284302', 'Minimum process cost: 3.989881800280677', 'Maximum process cost: 1048.4002001378271', '', 'Average process waiting time: 6089.108249541691', 'Minimum process waiting time: 0.0', 'Maximum process waiting time: 9865.336922883987', '', 'Total cycle time: 891,47 h', 'Average cycle time: 77,1 h', 'Average cycle time in timetable: 5,02 h', '', 'Simulation engine performance data:', 'Enabled elements: 350', 'Started elements: 122', 'Completed elements: 420', '', 'Individual task statistics:', '-----------------------------------------------------------------------------------------------------------------------------------------------------------', '| Element                       | Avg Duration | Avg waiting time    | Avg Idle time  | Avg Cost  | Avg Cost over thresh| Avg Dur over thresho| Count     |', '-----------------------------------------------------------------------------------------------------------------------------------------------------------', '| EVENT 1 START                 | n/a          | n/a                 | n/a            | n/a       | n/a                 | n/a                 | 35        |', '| EVENT 1 START                 | n/a          | n/a                 | n/a            | n/a       | n/a                 | n/a                 | 35        |', '| EVENT 2 END                   | n/a          | n/a                 | n/a            | n/a       | n/a                 | n/a                 | 35        |', '| EVENT 9 END                   | n/a          | n/a                 | n/a            | n/a       | n/a                 | n/a                 | 35        |', '| GATEWAY 12 XOR                | n/a          | n/a                 | n/a            | n/a       | n/a                 | n/a                 | 35        |', '| GATEWAY 13 XOR                | n/a          | n/a                 | n/a            | n/a       | n/a                 | n/a                 | 35        |', '| Task A                        | 349,22       | 98,57               | 161933,57      | 1,39      | n/a                 | n/a                 | 35        |', '| Task B                        | 3566,99      | 663,6               | 16254,86       | 16,13     | n/a                 | n/a                 | 35        |', '| Task C                        | 366,16       | 3,06                | n/a            | 2,02      | n/a                 | n/a                 | 35        |', '| Task D                        | 15603,48     | 3540,79             | 158033,33      | 67,01     | n/a                 | n/a                 | 18        |', '| Task E                        | 1445,17      | n/a                 | n/a            | 8,03      | n/a                 | n/a                 | 17        |', '| Task F                        | 4785,13      | 3502,89             | n/a            | 7,12      | n/a                 | n/a                 | 35        |', '| Task G                        | 295,53       | n/a                 | n/a            | 1,64      | n/a                 | n/a                 | 35        |', '-----------------------------------------------------------------------------------------------------------------------------------------------------------', '', 'Resource utilizations:', 'SYSTEM: 0%', 'Role 2: 19%', 'Role 1: 1%', '', 'Duration distribution: ', '162642 - 466341: 33', '466342 - 770041: 0', '770042 - 1073741: 1', '1073742 - 1377441: 0', '1377442 - 1681141: 0', '1681142 - 1984841: 0', '1984842 - 2288541: 0', '2288542 - 2592241: 0', '2592242 - 2895941: 0', '2895942 - 3199641: 1', '', 'Waiting time distribution: ', '0 - 986: 2', '987 - 1973: 0', '1974 - 2960: 6', '2961 - 3947: 2', '3948 - 4934: 2', '4935 - 5921: 3', '5922 - 6908: 3', '6909 - 7895: 5', '7896 - 8882: 2', '8883 - 9869: 10', '', 'Process cost distribution: ', '3 - 107: 32', '108 - 212: 1', '213 - 317: 1', '318 - 422: 0', '423 - 527: 0', '528 - 632: 0', '633 - 737: 0', '738 - 842: 0', '843 - 947: 0', '948 - 1052: 1', '', 'Cycle time distribution: ', '162642 - 466341: 33', '466342 - 770041: 0', '770042 - 1073741: 1', '1073742 - 1377441: 0', '1377442 - 1681141: 0', '1681142 - 1984841: 0', '1984842 - 2288541: 0', '2288542 - 2592241: 0', '2592242 - 2895941: 0', '2895942 - 3199641: 1', '', 'In timetable cycle time distribution: ', '3208 - 22126: 32', '22127 - 41045: 1', '41046 - 59964: 1', '59965 - 78883: 0', '78884 - 97802: 0', '97803 - 116721: 0', '116722 - 135640: 0', '135641 - 154559: 0', '154560 - 173478: 0', '173479 - 192397: 1', 'Simulation started at: 2023-06-21 09:08:31', 'Simulation ended at: 2023-07-28 12:36:34', 'Processed 45ms elements: 420', 'Elements processed per second: 9333', 'Writing logs...', 'Done', '']\n",
      "0\n",
      "Simulation was successfully executed\n",
      "['Running output_files\\\\simulation_files\\\\RunningExample E directly follows C.bpmn', '1 - EVENT START id: proc_4976137.node_9f754889-dde1-4762-8a92-54784e2b0ff6 index: 1 ', '8 - TASK (EVENT 1 START) id: proc_4976137.node_0cc4ec70-bda9-4eb6-9a22-543942469a63 index: 8 ', '6 - TASK (Task A) id: proc_4976137.node_b4aa4a5a-641d-45c3-8ddd-f0a82b7233f1 index: 6 ', '4 - TASK (Task B) id: proc_4976137.node_f131b2f5-83f9-4e79-8ac0-2e741a07809f index: 4 ', '3 - TASK (Task C) id: proc_4976137.node_2020c320-ee50-49d2-a5de-85381a09385d index: 3 ', '12 - GATEWAY gw: XOR id: proc_4976137.node_7fb376af-e20f-4308-a471-c52111c56fbb index: 12 ', '7 - TASK (Task D) id: proc_4976137.node_f0eb770c-1a5c-40c0-b8d5-403405a954fe index: 7 ', '13 - GATEWAY gw: XOR id: proc_4976137.node_6ed75559-e240-4331-ad52-9f733b81e319 index: 13 ', '10 - TASK (Task F) id: proc_4976137.node_87384119-af30-4698-8da0-1beac2356ae6 index: 10 ', '11 - TASK (Task G) id: proc_4976137.node_b9721561-ed8c-4042-bcb6-e9b8084b7766 index: 11 ', '9 - TASK (EVENT 9 END) id: proc_4976137.node_91c382d9-983e-4ff3-beee-e74b4ab53ac4 index: 9 ', '2 - EVENT END id: proc_4976137.node_28a8fb40-cf7a-4a5e-b434-3ddb23ff5526 index: 2 ', 'flow: 12 from 9-2', 'flow: 11 from 11-9', 'flow: 10 from 10-11', 'flow: 9 from 13-10', 'flow: 8 from 7-13', 'flow: 7 from 12-7', '5 - TASK (Task E) id: proc_4976137.node_1dd5566a-f771-4c81-b2ab-d68c51c14ac1 index: 5 ', 'flow: 14 from 5-13', 'flow: 13 from 12-5', 'flow: 6 from 3-12', 'flow: 5 from 4-3', 'flow: 4 from 6-4', 'flow: 3 from 8-6', 'flow: 2 from 1-8', 'Process instances: 35', 'Average process time: 187569.48640721184', 'Minimum process time: 158494.80553865433', 'Maximum process time: 783135.6928453445', '', 'Average process cost: 34.600070362772264', 'Minimum process cost: 2.3859858883751768', 'Maximum process cost: 327.8980169322755', '', 'Average process waiting time: 2356.1599383899143', 'Minimum process waiting time: 0.0', 'Maximum process waiting time: 4565.327192783356', '', 'Total cycle time: 222,83 h', 'Average cycle time: 52,1 h', 'Average cycle time in timetable: 2,38 h', '', 'Simulation engine performance data:', 'Enabled elements: 350', 'Started elements: 129', 'Completed elements: 420', '', 'Individual task statistics:', '-----------------------------------------------------------------------------------------------------------------------------------------------------------', '| Element                       | Avg Duration | Avg waiting time    | Avg Idle time  | Avg Cost  | Avg Cost over thresh| Avg Dur over thresho| Count     |', '-----------------------------------------------------------------------------------------------------------------------------------------------------------', '| EVENT 1 START                 | n/a          | n/a                 | n/a            | n/a       | n/a                 | n/a                 | 35        |', '| EVENT 1 START                 | n/a          | n/a                 | n/a            | n/a       | n/a                 | n/a                 | 35        |', '| EVENT 2 END                   | n/a          | n/a                 | n/a            | n/a       | n/a                 | n/a                 | 35        |', '| EVENT 9 END                   | n/a          | n/a                 | n/a            | n/a       | n/a                 | n/a                 | 35        |', '| GATEWAY 12 XOR                | n/a          | n/a                 | n/a            | n/a       | n/a                 | n/a                 | 35        |', '| GATEWAY 13 XOR                | n/a          | n/a                 | n/a            | n/a       | n/a                 | n/a                 | 35        |', '| Task A                        | 360,28       | 100,77              | 162730,46      | 1,44      | n/a                 | n/a                 | 35        |', '| Task B                        | 1774,7       | 517,22              | n/a            | 6,99      | n/a                 | n/a                 | 35        |', '| Task C                        | 514          | 4,25                | n/a            | 2,83      | n/a                 | n/a                 | 35        |', '| Task D                        | 5025,33      | 1101,52             | 31606,67       | 21,8      | n/a                 | n/a                 | 18        |', '| Task E                        | 1985,27      | n/a                 | n/a            | 11,03     | n/a                 | n/a                 | 17        |', '| Task F                        | 1791,68      | 1167,43             | n/a            | 3,47      | n/a                 | n/a                 | 35        |', '| Task G                        | 594,78       | n/a                 | n/a            | 3,3       | n/a                 | n/a                 | 35        |', '-----------------------------------------------------------------------------------------------------------------------------------------------------------', '', 'Resource utilizations:', 'SYSTEM: 0%', 'Role 2: 22%', 'Role 1: 7%', '', 'Duration distribution: ', '158494 - 220958: 34', '220959 - 283423: 0', '283424 - 345888: 0', '345889 - 408353: 0', '408354 - 470818: 0', '470819 - 533283: 0', '533284 - 595748: 0', '595749 - 658213: 0', '658214 - 720678: 0', '720679 - 783143: 1', '', 'Waiting time distribution: ', '0 - 456: 5', '457 - 913: 0', '914 - 1370: 2', '1371 - 1827: 2', '1828 - 2284: 5', '2285 - 2741: 5', '2742 - 3198: 7', '3199 - 3655: 4', '3656 - 4112: 2', '4113 - 4569: 3', '', 'Process cost distribution: ', '2 - 34: 25', '35 - 67: 6', '68 - 100: 3', '101 - 133: 0', '134 - 166: 0', '167 - 199: 0', '200 - 232: 0', '233 - 265: 0', '266 - 298: 0', '299 - 331: 1', '', 'Cycle time distribution: ', '158494 - 220958: 34', '220959 - 283423: 0', '283424 - 345888: 0', '345889 - 408353: 0', '408354 - 470818: 0', '470819 - 533283: 0', '533284 - 595748: 0', '595749 - 658213: 0', '658214 - 720678: 0', '720679 - 783143: 1', '', 'In timetable cycle time distribution: ', '1616 - 7552: 25', '7553 - 13489: 6', '13490 - 19426: 3', '19427 - 25363: 0', '25364 - 31300: 0', '31301 - 37237: 0', '37238 - 43174: 0', '43175 - 49111: 0', '49112 - 55048: 0', '55049 - 60985: 1', 'Simulation started at: 2023-06-21 09:08:31', 'Simulation ended at: 2023-06-30 15:58:24', 'Processed 42ms elements: 420', 'Elements processed per second: 10000', 'Writing logs...', 'Done', '']\n",
      "0\n",
      "Simulation was successfully executed\n",
      "['Running output_files\\\\simulation_files\\\\RunningExample E eventually follows B.bpmn', '1 - EVENT START id: proc_4976137.node_aad405cf-048a-4972-81c6-f85416cf497d index: 1 ', '6 - TASK (EVENT 1 START) id: proc_4976137.node_f7c33778-7563-4dcc-acec-cb96b6cab828 index: 6 ', '8 - TASK (Task A) id: proc_4976137.node_08adf667-e091-4d0a-9062-1d2b3dd48a7f index: 8 ', '3 - TASK (Task B) id: proc_4976137.node_3758f02d-f8db-495e-870f-f3f1bfb60e94 index: 3 ', '11 - TASK (Task C) id: proc_4976137.node_fb67214c-a590-4439-9774-9747872bbbbf index: 11 ', '12 - GATEWAY gw: XOR id: proc_4976137.node_6a2a647a-1847-480f-9e7d-36d4c8b781ad index: 12 ', '10 - TASK (Task D) id: proc_4976137.node_d0cda724-dfdb-4d63-9de4-7fcce41f12c0 index: 10 ', '13 - GATEWAY gw: XOR id: proc_4976137.node_0ee817b6-11b1-438f-a3b2-eaaf1bb473bd index: 13 ', '5 - TASK (Task F) id: proc_4976137.node_2954c092-261c-4aef-8d70-a8d1328fc654 index: 5 ', '4 - TASK (Task G) id: proc_4976137.node_dd353496-42b7-4817-83d4-b440ced0fbc7 index: 4 ', '7 - TASK (EVENT 9 END) id: proc_4976137.node_21505397-c27d-4d5b-b768-aee93e12ae83 index: 7 ', '2 - EVENT END id: proc_4976137.node_16eb475d-f3c8-4b34-aff1-e7c367f68fa9 index: 2 ', 'flow: 12 from 7-2', 'flow: 11 from 4-7', 'flow: 10 from 5-4', 'flow: 9 from 13-5', 'flow: 8 from 10-13', 'flow: 7 from 12-10', '9 - TASK (Task E) id: proc_4976137.node_f4f9af13-2cd9-44fb-abb6-d5aa9e3f8ac2 index: 9 ', 'flow: 14 from 9-13', 'flow: 13 from 12-9', 'flow: 6 from 11-12', 'flow: 5 from 3-11', 'flow: 4 from 8-3', 'flow: 3 from 6-8', 'flow: 2 from 1-6', 'Process instances: 35', 'Average process time: 256664.39954579898', 'Minimum process time: 158035.11973905563', 'Maximum process time: 1382340.7281622887', '', 'Average process cost: 56.623105082852504', 'Minimum process cost: 2.7245688504642906', 'Maximum process cost: 428.767208425204', '', 'Average process waiting time: 3174.863031407765', 'Minimum process waiting time: 0.0', 'Maximum process waiting time: 7922.7214913368225', '', 'Total cycle time: 385,86 h', 'Average cycle time: 71,3 h', 'Average cycle time in timetable: 3,71 h', '', 'Simulation engine performance data:', 'Enabled elements: 350', 'Started elements: 131', 'Completed elements: 420', '', 'Individual task statistics:', '-----------------------------------------------------------------------------------------------------------------------------------------------------------', '| Element                       | Avg Duration | Avg waiting time    | Avg Idle time  | Avg Cost  | Avg Cost over thresh| Avg Dur over thresho| Count     |', '-----------------------------------------------------------------------------------------------------------------------------------------------------------', '| EVENT 1 START                 | n/a          | n/a                 | n/a            | n/a       | n/a                 | n/a                 | 35        |', '| EVENT 1 START                 | n/a          | n/a                 | n/a            | n/a       | n/a                 | n/a                 | 35        |', '| EVENT 2 END                   | n/a          | n/a                 | n/a            | n/a       | n/a                 | n/a                 | 35        |', '| EVENT 9 END                   | n/a          | n/a                 | n/a            | n/a       | n/a                 | n/a                 | 35        |', '| GATEWAY 12 XOR                | n/a          | n/a                 | n/a            | n/a       | n/a                 | n/a                 | 35        |', '| GATEWAY 13 XOR                | n/a          | n/a                 | n/a            | n/a       | n/a                 | n/a                 | 35        |', '| Task A                        | 348,57       | 98,9                | 162023,09      | 1,39      | n/a                 | n/a                 | 35        |', '| Task B                        | 3354,92      | 503,83              | 17902,29       | 15,84     | n/a                 | n/a                 | 35        |', '| Task C                        | 729,51       | 1,63                | n/a            | 4,04      | n/a                 | n/a                 | 35        |', '| Task D                        | 6006,97      | 1604,49             | 83090,77       | 24,46     | n/a                 | n/a                 | 13        |', '| Task E                        | 457,81       | n/a                 | n/a            | 2,54      | n/a                 | n/a                 | 22        |', '| Task F                        | 5917,84      | 1974,55             | 32509,71       | 21,91     | n/a                 | n/a                 | 35        |', '| Task G                        | 497,26       | n/a                 | n/a            | 2,76      | n/a                 | n/a                 | 35        |', '-----------------------------------------------------------------------------------------------------------------------------------------------------------', '', 'Resource utilizations:', 'SYSTEM: 0%', 'Role 2: 37%', 'Role 1: 4%', '', 'Duration distribution: ', '158035 - 280465: 31', '280466 - 402896: 0', '402897 - 525327: 0', '525328 - 647758: 0', '647759 - 770189: 2', '770190 - 892620: 1', '892621 - 1015051: 0', '1015052 - 1137482: 0', '1137483 - 1259913: 0', '1259914 - 1382344: 1', '', 'Waiting time distribution: ', '0 - 792: 3', '793 - 1585: 5', '1586 - 2378: 8', '2379 - 3171: 4', '3172 - 3964: 0', '3965 - 4757: 7', '4758 - 5550: 4', '5551 - 6343: 2', '6344 - 7136: 0', '7137 - 7929: 2', '', 'Process cost distribution: ', '2 - 44: 25', '45 - 87: 5', '88 - 130: 1', '131 - 173: 0', '174 - 216: 1', '217 - 259: 2', '260 - 302: 0', '303 - 345: 0', '346 - 388: 0', '389 - 431: 1', '', 'Cycle time distribution: ', '158035 - 280465: 31', '280466 - 402896: 0', '402897 - 525327: 0', '525328 - 647758: 0', '647759 - 770189: 2', '770190 - 892620: 1', '892621 - 1015051: 0', '1015052 - 1137482: 0', '1137483 - 1259913: 0', '1259914 - 1382344: 1', '', 'In timetable cycle time distribution: ', '1295 - 9062: 21', '9063 - 16830: 7', '16831 - 24598: 2', '24599 - 32366: 1', '32367 - 40134: 1', '40135 - 47902: 2', '47903 - 55670: 0', '55671 - 63438: 0', '63439 - 71206: 0', '71207 - 78974: 1', 'Simulation started at: 2023-06-21 09:08:31', 'Simulation ended at: 2023-07-07 11:00:12', 'Processed 41ms elements: 420', 'Elements processed per second: 10243', 'Writing logs...', 'Done', '']\n",
      "0\n",
      "Simulation was successfully executed\n",
      "['Running output_files\\\\simulation_files\\\\RunningExample E is not allowed.bpmn', '1 - EVENT START id: proc_4976137.node_5a788cf1-6665-44ef-93d6-283cf520cc59 index: 1 ', '3 - TASK (EVENT 1 START) id: proc_4976137.node_5f6c13e1-d6aa-40a7-b96e-53e2d9a3078e index: 3 ', '4 - TASK (Task A) id: proc_4976137.node_dabbc713-e00f-42dc-a0aa-5e5280d81ece index: 4 ', '7 - TASK (Task B) id: proc_4976137.node_199e2421-8f2d-49d3-98c5-cd8be4820921 index: 7 ', '5 - TASK (Task C) id: proc_4976137.node_8035b326-32cc-49d0-82bd-d7ed57adcf18 index: 5 ', '12 - GATEWAY gw: XOR id: proc_4976137.node_eb9a2a70-0a5b-4718-bfb7-094af4d5730d index: 12 ', '6 - TASK (Task D) id: proc_4976137.node_075c427b-5863-4a41-a76d-cfaaf3f899c1 index: 6 ', '13 - GATEWAY gw: XOR id: proc_4976137.node_72d048d3-b3c5-47ea-a009-f66c28b00575 index: 13 ', '9 - TASK (Task F) id: proc_4976137.node_2b89e4c3-ea00-4eba-99b2-f6afd64798ef index: 9 ', '11 - TASK (Task G) id: proc_4976137.node_de3b7486-82cb-4a3b-a872-5a21bb48052b index: 11 ', '10 - TASK (EVENT 9 END) id: proc_4976137.node_f6e36212-3179-4d55-9ae0-60489ac2a2a4 index: 10 ', '2 - EVENT END id: proc_4976137.node_f818d78d-22cc-40a2-8ac7-ba7564a25a24 index: 2 ', 'flow: 12 from 10-2', 'flow: 11 from 11-10', 'flow: 10 from 9-11', 'flow: 9 from 13-9', 'flow: 8 from 6-13', 'flow: 7 from 12-6', '8 - TASK (Task E) id: proc_4976137.node_3952953c-12f0-434b-91b4-c6e3321d5545 index: 8 ', 'flow: 14 from 8-13', 'flow: 13 from 12-8', 'flow: 6 from 5-12', 'flow: 5 from 7-5', 'flow: 4 from 4-7', 'flow: 3 from 3-4', 'flow: 2 from 1-3', 'Process instances: 35', 'Average process time: 210204.77007955825', 'Minimum process time: 162000.1312122345', 'Maximum process time: 792486.9322521687', '', 'Average process cost: 45.443812345966464', 'Minimum process cost: 2.791277306609684', 'Maximum process cost: 269.4597974300384', '', 'Average process waiting time: 5524.902680560521', 'Minimum process waiting time: 0.0', 'Maximum process waiting time: 10940.660403490067', '', 'Total cycle time: 220,81 h', 'Average cycle time: 58,39 h', 'Average cycle time in timetable: 3,81 h', '', 'Simulation engine performance data:', 'Enabled elements: 350', 'Started elements: 122', 'Completed elements: 420', '', 'Individual task statistics:', '-----------------------------------------------------------------------------------------------------------------------------------------------------------', '| Element                       | Avg Duration | Avg waiting time    | Avg Idle time  | Avg Cost  | Avg Cost over thresh| Avg Dur over thresho| Count     |', '-----------------------------------------------------------------------------------------------------------------------------------------------------------', '| EVENT 1 START                 | n/a          | n/a                 | n/a            | n/a       | n/a                 | n/a                 | 35        |', '| EVENT 1 START                 | n/a          | n/a                 | n/a            | n/a       | n/a                 | n/a                 | 35        |', '| EVENT 2 END                   | n/a          | n/a                 | n/a            | n/a       | n/a                 | n/a                 | 35        |', '| EVENT 9 END                   | n/a          | n/a                 | n/a            | n/a       | n/a                 | n/a                 | 35        |', '| GATEWAY 12 XOR                | n/a          | n/a                 | n/a            | n/a       | n/a                 | n/a                 | 35        |', '| GATEWAY 13 XOR                | n/a          | n/a                 | n/a            | n/a       | n/a                 | n/a                 | 35        |', '| Task A                        | 355,14       | 101,37              | 162342,84      | 1,41      | n/a                 | n/a                 | 35        |', '| Task B                        | 3861,24      | 1105,64             | 1647,43        | 15,31     | n/a                 | n/a                 | 35        |', '| Task C                        | 228,49       | 1,37                | n/a            | 1,26      | n/a                 | n/a                 | 35        |', '| Task D                        | 5997,02      | 2822,5              | 25563          | 17,64     | n/a                 | n/a                 | 20        |', '| Task E                        | 1017,61      | n/a                 | n/a            | 5,65      | n/a                 | n/a                 | 15        |', '| Task F                        | 5230,37      | 2703,66             | 17902,29       | 14,04     | n/a                 | n/a                 | 35        |', '| Task G                        | 166,57       | n/a                 | n/a            | 0,93      | n/a                 | n/a                 | 35        |', '-----------------------------------------------------------------------------------------------------------------------------------------------------------', '', 'Resource utilizations:', 'SYSTEM: 0%', 'Role 2: 46%', 'Role 1: 4%', '', 'Duration distribution: ', '162000 - 225048: 32', '225049 - 288097: 1', '288098 - 351146: 0', '351147 - 414195: 0', '414196 - 477244: 0', '477245 - 540293: 0', '540294 - 603342: 0', '603343 - 666391: 0', '666392 - 729440: 0', '729441 - 792489: 2', '', 'Waiting time distribution: ', '0 - 1094: 4', '1095 - 2189: 1', '2190 - 3284: 4', '3285 - 4379: 4', '4380 - 5474: 5', '5475 - 6569: 0', '6570 - 7664: 6', '7665 - 8759: 6', '8760 - 9854: 2', '9855 - 10949: 3', '', 'Process cost distribution: ', '2 - 28: 23', '29 - 55: 3', '56 - 82: 1', '83 - 109: 4', '110 - 136: 1', '137 - 163: 0', '164 - 190: 1', '191 - 217: 0', '218 - 244: 1', '245 - 271: 1', '', 'Cycle time distribution: ', '162000 - 225048: 32', '225049 - 288097: 1', '288098 - 351146: 0', '351147 - 414195: 0', '414196 - 477244: 0', '477245 - 540293: 0', '540294 - 603342: 0', '603343 - 666391: 0', '666392 - 729440: 0', '729441 - 792489: 2', '', 'In timetable cycle time distribution: ', '3883 - 8863: 9', '8864 - 13844: 17', '13845 - 18825: 3', '18826 - 23806: 3', '23807 - 28787: 0', '28788 - 33768: 1', '33769 - 38749: 0', '38750 - 43730: 1', '43731 - 48711: 0', '48712 - 53692: 1', 'Simulation started at: 2023-06-21 09:08:31', 'Simulation ended at: 2023-06-30 13:56:50', 'Processed 43ms elements: 420', 'Elements processed per second: 9767', 'Writing logs...', 'Done', '']\n",
      "0\n",
      "Simulation was successfully executed\n",
      "['Running output_files\\\\simulation_files\\\\RunningExample E is required.bpmn', '1 - EVENT START id: proc_4976137.node_0ba577bd-8316-437f-bc51-35992d083c54 index: 1 ', '11 - TASK (EVENT 1 START) id: proc_4976137.node_744829da-4902-440d-8321-f75546cf53ae index: 11 ', '8 - TASK (Task A) id: proc_4976137.node_0d4f5005-00c0-4951-bfc6-d9f280a8c272 index: 8 ', '4 - TASK (Task B) id: proc_4976137.node_592e60a9-21e6-4c85-b9bd-d70a2e232d72 index: 4 ', '6 - TASK (Task C) id: proc_4976137.node_3aab5e0c-e6a7-45cc-afe9-aa3275e07b8e index: 6 ', '13 - GATEWAY gw: XOR id: proc_4976137.node_864ae8ba-64e4-4c32-883f-5bb93f7bed08 index: 13 ', '7 - TASK (Task D) id: proc_4976137.node_f355f2e9-cc1a-436e-945f-da344ba98878 index: 7 ', '12 - GATEWAY gw: XOR id: proc_4976137.node_0d43202e-81ce-46b0-be5b-7cc4fd0c4e65 index: 12 ', '5 - TASK (Task F) id: proc_4976137.node_454724ae-894a-4643-ae15-1961215d892c index: 5 ', '9 - TASK (Task G) id: proc_4976137.node_bfc047ee-d91e-4c72-8985-2ed181bf070c index: 9 ', '10 - TASK (EVENT 9 END) id: proc_4976137.node_91697c88-5aa0-4105-8bde-b1b96a0477f4 index: 10 ', '2 - EVENT END id: proc_4976137.node_d281ff6c-ab67-4aa2-8eca-ce1ab0a787f5 index: 2 ', 'flow: 12 from 10-2', 'flow: 11 from 9-10', 'flow: 10 from 5-9', 'flow: 9 from 12-5', 'flow: 8 from 7-12', 'flow: 7 from 13-7', '3 - TASK (Task E) id: proc_4976137.node_e0733dfa-67f0-44f2-9281-18d9540488b6 index: 3 ', 'flow: 14 from 3-12', 'flow: 13 from 13-3', 'flow: 6 from 6-13', 'flow: 5 from 4-6', 'flow: 4 from 8-4', 'flow: 3 from 11-8', 'flow: 2 from 1-11', 'Process instances: 35', 'Average process time: 206627.6548073973', 'Minimum process time: 157087.5403084755', 'Maximum process time: 789058.5286195278', '', 'Average process cost: 39.88298536758573', 'Minimum process cost: 2.1705801275041368', 'Maximum process cost: 324.1259518530634', '', 'Average process waiting time: 3394.9523271969388', 'Minimum process waiting time: 0.0', 'Maximum process waiting time: 6184.3416748046875', '', 'Total cycle time: 222,57 h', 'Average cycle time: 57,4 h', 'Average cycle time in timetable: 2,94 h', '', 'Simulation engine performance data:', 'Enabled elements: 350', 'Started elements: 124', 'Completed elements: 420', '', 'Individual task statistics:', '-----------------------------------------------------------------------------------------------------------------------------------------------------------', '| Element                       | Avg Duration | Avg waiting time    | Avg Idle time  | Avg Cost  | Avg Cost over thresh| Avg Dur over thresho| Count     |', '-----------------------------------------------------------------------------------------------------------------------------------------------------------', '| EVENT 1 START                 | n/a          | n/a                 | n/a            | n/a       | n/a                 | n/a                 | 35        |', '| EVENT 1 START                 | n/a          | n/a                 | n/a            | n/a       | n/a                 | n/a                 | 35        |', '| EVENT 2 END                   | n/a          | n/a                 | n/a            | n/a       | n/a                 | n/a                 | 35        |', '| EVENT 9 END                   | n/a          | n/a                 | n/a            | n/a       | n/a                 | n/a                 | 35        |', '| GATEWAY 12 XOR                | n/a          | n/a                 | n/a            | n/a       | n/a                 | n/a                 | 35        |', '| GATEWAY 13 XOR                | n/a          | n/a                 | n/a            | n/a       | n/a                 | n/a                 | 35        |', '| Task A                        | 368,77       | 104,9               | 161896,62      | 1,47      | n/a                 | n/a                 | 35        |', '| Task B                        | 4291,54      | 595,79              | 17902,29       | 20,53     | n/a                 | n/a                 | 35        |', '| Task C                        | 398,12       | 1,45                | n/a            | 2,2       | n/a                 | n/a                 | 35        |', '| Task D                        | 2778,91      | 1754,48             | n/a            | 5,69      | n/a                 | n/a                 | 18        |', '| Task E                        | 620,35       | n/a                 | n/a            | 3,45      | n/a                 | n/a                 | 17        |', '| Task F                        | 3510         | 1790,5              | 1647,43        | 9,55      | n/a                 | n/a                 | 35        |', '| Task G                        | 274,99       | n/a                 | 14607,43       | 1,53      | n/a                 | n/a                 | 35        |', '-----------------------------------------------------------------------------------------------------------------------------------------------------------', '', 'Resource utilizations:', 'SYSTEM: 0%', 'Role 2: 35%', 'Role 1: 4%', '', 'Duration distribution: ', '157087 - 220284: 32', '220285 - 283482: 1', '283483 - 346680: 0', '346681 - 409878: 0', '409879 - 473076: 0', '473077 - 536274: 0', '536275 - 599472: 0', '599473 - 662670: 0', '662671 - 725868: 0', '725869 - 789066: 2', '', 'Waiting time distribution: ', '0 - 618: 3', '619 - 1237: 0', '1238 - 1856: 3', '1857 - 2475: 3', '2476 - 3094: 2', '3095 - 3713: 11', '3714 - 4332: 3', '4333 - 4951: 5', '4952 - 5570: 1', '5571 - 6189: 4', '', 'Process cost distribution: ', '2 - 34: 27', '35 - 67: 4', '68 - 100: 1', '101 - 133: 0', '134 - 166: 0', '167 - 199: 2', '200 - 232: 0', '233 - 265: 0', '266 - 298: 0', '299 - 331: 1', '', 'Cycle time distribution: ', '157087 - 220284: 32', '220285 - 283482: 1', '283483 - 346680: 0', '346681 - 409878: 0', '409879 - 473076: 0', '473077 - 536274: 0', '536275 - 599472: 0', '599473 - 662670: 0', '662671 - 725868: 0', '725869 - 789066: 2', '', 'In timetable cycle time distribution: ', '2656 - 8394: 26', '8395 - 14133: 4', '14134 - 19872: 2', '19873 - 25611: 0', '25612 - 31350: 1', '31351 - 37089: 1', '37090 - 42828: 0', '42829 - 48567: 0', '48568 - 54306: 0', '54307 - 60045: 1', 'Simulation started at: 2023-06-21 09:08:31', 'Simulation ended at: 2023-06-30 15:42:45', 'Processed 48ms elements: 420', 'Elements processed per second: 8750', 'Writing logs...', 'Done', '']\n"
     ]
    }
   ],
   "source": [
    "files_path = os.path.join('output_files', 'simulation_files')\n",
    "files = glob(files_path + '/*')\n",
    "\n",
    "bimp_path = os.path.join('external_tools', 'bimp', 'qbp-simulator-engine_with_csv_statistics.jar')\n",
    "for file in files:\n",
    "    filename = file.split('\\\\')[-1].split('.')[0]\n",
    "    csv_output_path = os.path.join('output_files', 'simulation_stats', f'{filename}.csv')\n",
    "    simulate(bimp_path, file, csv_output_path)"
   ]
  },
  {
   "cell_type": "code",
   "execution_count": 6,
   "metadata": {},
   "outputs": [],
   "source": [
    "df_stats = pd.DataFrame(data=[], columns=['Event Log', 'Event Log Type', 'Rule', 'Metric', 'Min', 'Average', 'Max', 'Units'])\n",
    "\n",
    "manual_files = glob(os.path.join('input_files', 'tests', 'simulation_stats', '*'))\n",
    "for manual_file in manual_files:\n",
    "    \n",
    "    event_log = manual_file.split('\\\\')[-1].split('.')[0].split(' ')[0]\n",
    "    rule = ' '.join(manual_file.split('\\\\')[-1].split('.')[0].split(' ')[1:])\n",
    "    \n",
    "    df_stats_tmp = extract_stats(manual_file, event_log, rule, 'Manual')\n",
    "    df_stats = pd.concat([df_stats, df_stats_tmp])\n",
    "\n",
    "generated_files = glob(os.path.join('output_files', 'simulation_stats', '*'))\n",
    "for generated_file in generated_files:\n",
    "    \n",
    "    event_log = generated_file.split('\\\\')[-1].split('.')[0].split(' ')[0]\n",
    "    rule = ' '.join(generated_file.split('\\\\')[-1].split('.')[0].split(' ')[1:])\n",
    "    \n",
    "    df_stats_tmp = extract_stats(generated_file, event_log, rule, 'Generated')\n",
    "    df_stats = pd.concat([df_stats, df_stats_tmp])"
   ]
  },
  {
   "cell_type": "code",
   "execution_count": 6,
   "metadata": {},
   "outputs": [],
   "source": [
    "output_csv_path = os.path.join('output_files', 'consolidated_stats.csv')\n",
    "df_stats.to_csv(output_csv_path, index=False)"
   ]
  },
  {
   "cell_type": "code",
   "execution_count": 23,
   "metadata": {},
   "outputs": [],
   "source": [
    "df_paper = df_stats.sort_values(by=['Metric', 'Rule', 'Event Log Type'])[['Event Log', 'Event Log Type', 'Rule', 'Metric', 'Average']]\n",
    "df_paper = df_paper[df_paper['Metric'] != 'Process Cycle Time excluding out of timetable hours']\n",
    "df_paper = df_paper.pivot(index=['Event Log', 'Rule', 'Metric'], columns='Event Log Type', values='Average')\n",
    "df_paper = df_paper.reset_index()\n",
    "df_paper['Error'] = abs((df_paper['Generated'] - df_paper['Manual']) / df_paper['Manual'])"
   ]
  },
  {
   "cell_type": "code",
   "execution_count": 26,
   "metadata": {},
   "outputs": [
    {
     "name": "stdout",
     "output_type": "stream",
     "text": [
      "\\begin{tabular}{lllrrr}\n",
      "\\toprule\n",
      "Event Log & Rule & Metric & Generated & Manual & Error \\\\\n",
      "\\midrule\n",
      "RunningExample & A eventually follows C & Accumulated Process Duration & 169600.17 & 190893.65 & 0.11 \\\\\n",
      "RunningExample & A eventually follows C & Cost & 29.26 & 40.36 & 0.28 \\\\\n",
      "RunningExample & A eventually follows C & Process Cycle Time & 169600.17 & 190893.65 & 0.11 \\\\\n",
      "RunningExample & A eventually follows C & Process Waiting Time & 2216.50 & 3671.29 & 0.40 \\\\\n",
      "RunningExample & C directly follows A & Accumulated Process Duration & 277552.34 & 168347.28 & 0.65 \\\\\n",
      "RunningExample & C directly follows A & Cost & 66.67 & 20.84 & 2.20 \\\\\n",
      "RunningExample & C directly follows A & Process Cycle Time & 277552.34 & 168320.38 & 0.65 \\\\\n",
      "RunningExample & C directly follows A & Process Waiting Time & 6089.11 & 2020.99 & 2.01 \\\\\n",
      "RunningExample & E directly follows C & Accumulated Process Duration & 187569.49 & 445099.33 & 0.58 \\\\\n",
      "RunningExample & E directly follows C & Cost & 34.60 & 117.07 & 0.70 \\\\\n",
      "RunningExample & E directly follows C & Process Cycle Time & 187569.49 & 445099.33 & 0.58 \\\\\n",
      "RunningExample & E directly follows C & Process Waiting Time & 2356.16 & 1792.07 & 0.31 \\\\\n",
      "RunningExample & E eventually follows B & Accumulated Process Duration & 256664.40 & 246403.52 & 0.04 \\\\\n",
      "RunningExample & E eventually follows B & Cost & 56.62 & 59.24 & 0.04 \\\\\n",
      "RunningExample & E eventually follows B & Process Cycle Time & 256664.40 & 245675.51 & 0.04 \\\\\n",
      "RunningExample & E eventually follows B & Process Waiting Time & 3174.86 & 7014.38 & 0.55 \\\\\n",
      "RunningExample & E is not allowed & Accumulated Process Duration & 210204.77 & 257707.04 & 0.18 \\\\\n",
      "RunningExample & E is not allowed & Cost & 45.44 & 24.59 & 0.85 \\\\\n",
      "RunningExample & E is not allowed & Process Cycle Time & 210204.77 & 257707.04 & 0.18 \\\\\n",
      "RunningExample & E is not allowed & Process Waiting Time & 5524.90 & 4105.95 & 0.35 \\\\\n",
      "RunningExample & E is required & Accumulated Process Duration & 206627.65 & 64306.50 & 2.21 \\\\\n",
      "RunningExample & E is required & Cost & 39.88 & 82.16 & 0.51 \\\\\n",
      "RunningExample & E is required & Process Cycle Time & 206627.65 & 61960.29 & 2.33 \\\\\n",
      "RunningExample & E is required & Process Waiting Time & 3394.95 & 4225.84 & 0.20 \\\\\n",
      "\\bottomrule\n",
      "\\end{tabular}\n",
      "\n"
     ]
    }
   ],
   "source": [
    "print(df_paper.to_latex(float_format='%.2f', index=False))"
   ]
  }
 ],
 "metadata": {
  "kernelspec": {
   "display_name": "DL",
   "language": "python",
   "name": "python3"
  },
  "language_info": {
   "codemirror_mode": {
    "name": "ipython",
    "version": 3
   },
   "file_extension": ".py",
   "mimetype": "text/x-python",
   "name": "python",
   "nbconvert_exporter": "python",
   "pygments_lexer": "ipython3",
   "version": "3.11.2"
  },
  "orig_nbformat": 4
 },
 "nbformat": 4,
 "nbformat_minor": 2
}
