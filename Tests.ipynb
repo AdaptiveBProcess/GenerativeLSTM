{
 "cells": [
  {
   "cell_type": "code",
   "execution_count": 2,
   "metadata": {},
   "outputs": [],
   "source": [
    "import pandas as pd\n",
    "import networkx as nx\n",
    "import os\n",
    "import configparser\n",
    "import itertools\n",
    "import json"
   ]
  },
  {
   "cell_type": "code",
   "execution_count": 3,
   "metadata": {},
   "outputs": [],
   "source": [
    "config = configparser.ConfigParser()\n",
    "config.read('rules.ini')\n",
    "\n",
    "settings = {}\n",
    "settings['path'] = config['RULES']['path']\n",
    "settings['variation'] = config['RULES']['variation'][0]\n",
    "settings['prop_variation'] = float(config['RULES']['variation'][1:])"
   ]
  },
  {
   "cell_type": "code",
   "execution_count": 4,
   "metadata": {},
   "outputs": [],
   "source": [
    "path = r'C:\\DanielBaron\\GenerativeLSTM\\output_files\\20230417_3E8ABBDA_765B_4740_A305_D925CF5DE07C'\n",
    "org_log_path = os.path.join(path, 'parameters', 'original_log.csv')\n",
    "\n",
    "df_org = pd.read_csv(org_log_path)\n",
    "df_org['start_timestamp'] = pd.to_datetime(df_org['start_timestamp'])\n",
    "df_org['end_timestamp'] = pd.to_datetime(df_org['end_timestamp'])\n",
    "df_org['rank'] = df_org.groupby('caseid')['start_timestamp'].rank().astype(int)"
   ]
  },
  {
   "cell_type": "code",
   "execution_count": 5,
   "metadata": {},
   "outputs": [],
   "source": [
    "ac_index = dict(zip(df_org.task, df_org.ac_index))"
   ]
  },
  {
   "cell_type": "code",
   "execution_count": 6,
   "metadata": {},
   "outputs": [],
   "source": [
    "path = r'C:\\DanielBaron\\GenerativeLSTM\\output_files\\20230417_3E8ABBDA_765B_4740_A305_D925CF5DE07C'\n",
    "gen_log_path = os.path.join(path, 'parameters', 'generated_log.csv')\n",
    "\n",
    "df_gen = pd.read_csv(gen_log_path)\n",
    "df_gen['start_timestamp'] = pd.to_datetime(df_gen['start_timestamp'])\n",
    "df_gen['end_timestamp'] = pd.to_datetime(df_gen['end_timestamp'])\n",
    "df_gen['rank'] = df_gen.groupby('caseid')['start_timestamp'].rank().astype(int)"
   ]
  },
  {
   "cell_type": "code",
   "execution_count": 7,
   "metadata": {},
   "outputs": [],
   "source": [
    "act_paths = list(itertools.product(*[x if type(x) is list else [x] for x in [json.loads(x.strip()) for x in settings['path'].split('>>')] ]))\n",
    "act_paths_idx = [(ac_index[x[0]], ac_index[x[1]]) for x in act_paths]"
   ]
  },
  {
   "attachments": {},
   "cell_type": "markdown",
   "metadata": {},
   "source": [
    "## Add edges"
   ]
  },
  {
   "cell_type": "code",
   "execution_count": 11,
   "metadata": {},
   "outputs": [],
   "source": [
    "class GenerateStats:\n",
    "    def __init__(self, log, ac_index, ac_paths) -> None:\n",
    "        self.log = log\n",
    "        self.log['start_timestamp'] = pd.to_datetime(self.log['start_timestamp'])\n",
    "        self.log['end_timestamp'] = pd.to_datetime(self.log['end_timestamp'])\n",
    "        self.log['rank'] = self.log.groupby('caseid')['start_timestamp'].rank().astype(int)\n",
    "        self.ac_index = ac_index\n",
    "        self.ac_paths = ac_paths\n",
    "\n",
    "    def evaluate_condition(self, df_case):\n",
    "        df_case = df_case.sort_values(by='rank')\n",
    "        u_tasks = [self.ac_index[x] for x in df_case['task'].drop_duplicates()]\n",
    "        \n",
    "        G = nx.DiGraph()\n",
    "        for task in u_tasks:\n",
    "            G.add_node(task)\n",
    "\n",
    "        tasks = list(df_case['task'])\n",
    "        if list(df_case['rank']) == list(set(list(df_case['rank']))):\n",
    "            order = [(self.ac_index[x[0]], self.ac_index[x[1]]) for x in [(a, b) for a, b in zip(tasks[:-1], tasks[1:])]]\n",
    "        else:\n",
    "            order = []\n",
    "            for i in range(1, len(df_case['rank'])):\n",
    "                c_task = list(df_case[df_case['rank']==i]['task'])\n",
    "                n_task = list(df_case[df_case['rank']==i+1]['task'])\n",
    "                order += [(self.ac_index[x[0]], self.ac_index[x[1]]) for x in list(itertools.product(c_task, n_task))]\n",
    "\n",
    "        G.add_edges_from(order)\n",
    "        conds = [nx.is_simple_path(G, act_path) for act_path in act_paths_idx]\n",
    "\n",
    "        return min(conds)\n",
    "\n",
    "    def get_stats(self):\n",
    "\n",
    "        pos_cases = 0\n",
    "        total_cases = len(self.log['caseid'].drop_duplicates())\n",
    "        for caseid in self.log['caseid'].drop_duplicates():\n",
    "\n",
    "            df_case = self.log[self.log['caseid']==caseid]\n",
    "            cond = self.evaluate_condition(df_case)\n",
    "            if cond:\n",
    "                pos_cases += 1\n",
    "\n",
    "        return pos_cases, total_cases"
   ]
  },
  {
   "cell_type": "code",
   "execution_count": 12,
   "metadata": {},
   "outputs": [],
   "source": [
    "gs = GenerateStats(df_org, ac_index, act_paths_idx)"
   ]
  },
  {
   "cell_type": "code",
   "execution_count": 41,
   "metadata": {},
   "outputs": [],
   "source": [
    "from pandas import Timestamp\n",
    "from support_modules import traces_evaluation as te"
   ]
  },
  {
   "cell_type": "code",
   "execution_count": 57,
   "metadata": {},
   "outputs": [
    {
     "data": {
      "text/plain": [
       "{'path': '\"Final Inspection Q.C.\" >> \"Round Grinding\"',\n",
       " 'variation': '+',\n",
       " 'prop_variation': 0.1,\n",
       " 'act_paths': [('Final Inspection Q.C.', 'Round Grinding')]}"
      ]
     },
     "execution_count": 57,
     "metadata": {},
     "output_type": "execute_result"
    }
   ],
   "source": [
    "settings = te.extract_rules()\n",
    "settings"
   ]
  },
  {
   "cell_type": "code",
   "execution_count": 58,
   "metadata": {},
   "outputs": [],
   "source": [
    "trace = [{'caseid': 'Case43', 'task': 'Turning & Milling', 'role': 'Role 1', 'start_timestamp': Timestamp('2012-03-13 00:00:00'), 'end_timestamp': Timestamp('2012-03-13 02:09:16'), 'dur_raw': 0.09367651, 'dur': 7756.0, 'wait_raw': 0, 'wait': 0.0}, {'caseid': 'Case43', 'task': 'Turning & Milling', 'role': 'Role 1', 'start_timestamp': Timestamp('2012-03-13 02:09:16'), 'end_timestamp': Timestamp('2012-03-13 04:09:57'), 'dur_raw': 0.08744754, 'dur': 7241.0, 'wait_raw': 0, 'wait': 0.0}, {'caseid': 'Case43', 'task': 'Turning & Milling', 'role': 'Role 1', 'start_timestamp': Timestamp('2012-03-13 04:09:57'), 'end_timestamp': Timestamp('2012-03-13 06:00:14'), 'dur_raw': 0.07991026, 'dur': 6617.0, 'wait_raw': 0, 'wait': 0.0}, {'caseid': 'Case43', 'task': 'Turning & Milling Q.C.', 'role': 'Role 3', 'start_timestamp': Timestamp('2012-03-13 06:00:14'), 'end_timestamp': Timestamp('2012-03-13 07:39:38'), 'dur_raw': 0.07202387, 'dur': 5964.0, 'wait_raw': 0, 'wait': 0.0}, {'caseid': 'Case43', 'task': 'Turning & Milling', 'role': 'Role 3', 'start_timestamp': Timestamp('2012-03-13 07:39:38'), 'end_timestamp': Timestamp('2012-03-13 09:10:13'), 'dur_raw': 0.06563606, 'dur': 5435.0, 'wait_raw': 0, 'wait': 0.0}, {'caseid': 'Case43', 'task': 'Turning & Milling Q.C.', 'role': 'Role 3', 'start_timestamp': Timestamp('2012-03-13 09:10:13'), 'end_timestamp': Timestamp('2012-03-13 10:34:54'), 'dur_raw': 0.061369464, 'dur': 5081.0, 'wait_raw': 0, 'wait': 0.0}, {'caseid': 'Case43', 'task': 'Turning & Milling', 'role': 'Role 1', 'start_timestamp': Timestamp('2012-03-13 10:34:54'), 'end_timestamp': Timestamp('2012-03-13 12:01:25'), 'dur_raw': 0.06269527, 'dur': 5191.0, 'wait_raw': 0, 'wait': 0.0}, {'caseid': 'Case43', 'task': 'Turning & Milling', 'role': 'Role 1', 'start_timestamp': Timestamp('2012-03-13 12:01:25'), 'end_timestamp': Timestamp('2012-03-13 13:29:51'), 'dur_raw': 0.06408131, 'dur': 5306.0, 'wait_raw': 0, 'wait': 0.0}, {'caseid': 'Case43', 'task': 'Turning & Milling', 'role': 'Role 1', 'start_timestamp': Timestamp('2012-03-13 13:29:51'), 'end_timestamp': Timestamp('2012-03-13 14:59:43'), 'dur_raw': 0.065124825, 'dur': 5392.0, 'wait_raw': 0, 'wait': 0.0}, {'caseid': 'Case43', 'task': 'Turning & Milling Q.C.', 'role': 'Role 1', 'start_timestamp': Timestamp('2012-03-13 14:59:43'), 'end_timestamp': Timestamp('2012-03-13 16:30:17'), 'dur_raw': 0.06562811, 'dur': 5434.0, 'wait_raw': 0, 'wait': 0.0}, {'caseid': 'Case43', 'task': 'Turning & Milling Q.C.', 'role': 'Role 1', 'start_timestamp': Timestamp('2012-03-13 16:30:17'), 'end_timestamp': Timestamp('2012-03-13 18:00:53'), 'dur_raw': 0.06565593, 'dur': 5436.0, 'wait_raw': 0, 'wait': 0.0}, {'caseid': 'Case43', 'task': 'Turning & Milling', 'role': 'Role 3', 'start_timestamp': Timestamp('2012-03-13 18:00:53'), 'end_timestamp': Timestamp('2012-03-13 19:31:07'), 'dur_raw': 0.06538925, 'dur': 5414.0, 'wait_raw': 0, 'wait': 0.0}, {'caseid': 'Case43', 'task': 'Turning & Milling Q.C.', 'role': 'Role 3', 'start_timestamp': Timestamp('2012-03-13 19:31:07'), 'end_timestamp': Timestamp('2012-03-13 21:01:06'), 'dur_raw': 0.06520532, 'dur': 5399.0, 'wait_raw': 0, 'wait': 0.0}, {'caseid': 'Case43', 'task': 'Turning & Milling Q.C.', 'role': 'Role 2', 'start_timestamp': Timestamp('2012-03-13 21:01:06'), 'end_timestamp': Timestamp('2012-03-13 22:30:58'), 'dur_raw': 0.06512189, 'dur': 5392.0, 'wait_raw': 0, 'wait': 0.0}, {'caseid': 'Case43', 'task': 'Turning & Milling Q.C.', 'role': 'end', 'start_timestamp': Timestamp('2012-03-13 22:30:58'), 'end_timestamp': Timestamp('2012-03-14 00:00:50'), 'dur_raw': 0.065116175, 'dur': 5392.0, 'wait_raw': 0, 'wait': 0.0}, {'caseid': 'Case43', 'task': 'Final Inspection Q.C.', 'role': 'Role 7', 'start_timestamp': Timestamp('2012-03-14 00:00:50'), 'end_timestamp': Timestamp('2012-03-14 01:30:44'), 'dur_raw': 0.065147564, 'dur': 5394.0, 'wait_raw': 0, 'wait': 0.0}, {'caseid': 'Case43', 'task': 'Round Grinding', 'role': 'Role 1', 'start_timestamp': Timestamp('2012-03-14 01:30:44'), 'end_timestamp': Timestamp('2012-03-14 03:00:41'), 'dur_raw': 0.06518093, 'dur': 5397.0, 'wait_raw': 0, 'wait': 0.0}, {'caseid': 'Case43', 'task': 'Round Grinding', 'role': 'Role 2', 'start_timestamp': Timestamp('2012-03-14 03:00:41'), 'end_timestamp': Timestamp('2012-03-14 04:30:39'), 'dur_raw': 0.06519602, 'dur': 5398.0, 'wait_raw': 0, 'wait': 0.0}, {'caseid': 'Case43', 'task': 'Round Grinding', 'role': 'Role 2', 'start_timestamp': Timestamp('2012-03-14 04:30:39'), 'end_timestamp': Timestamp('2012-03-14 06:00:37'), 'dur_raw': 0.065197736, 'dur': 5398.0, 'wait_raw': 0, 'wait': 0.0}, {'caseid': 'Case43', 'task': 'Lapping', 'role': 'Role 7', 'start_timestamp': Timestamp('2012-03-14 06:00:37'), 'end_timestamp': Timestamp('2012-03-14 07:30:35'), 'dur_raw': 0.06519316, 'dur': 5398.0, 'wait_raw': 0, 'wait': 0.0}, {'caseid': 'Case43', 'task': 'Round Grinding', 'role': 'Role 2', 'start_timestamp': Timestamp('2012-03-14 07:30:35'), 'end_timestamp': Timestamp('2012-03-14 09:00:33'), 'dur_raw': 0.06518809, 'dur': 5398.0, 'wait_raw': 0, 'wait': 0.0}, {'caseid': 'Case43', 'task': 'Round Grinding', 'role': 'Role 7', 'start_timestamp': Timestamp('2012-03-14 09:00:33'), 'end_timestamp': Timestamp('2012-03-14 10:30:30'), 'dur_raw': 0.06518525, 'dur': 5397.0, 'wait_raw': 0, 'wait': 0.0}, {'caseid': 'Case43', 'task': 'Round Grinding', 'role': 'Role 2', 'start_timestamp': Timestamp('2012-03-14 10:30:30'), 'end_timestamp': Timestamp('2012-03-14 12:00:27'), 'dur_raw': 0.06518478, 'dur': 5397.0, 'wait_raw': 0, 'wait': 0.0}, {'caseid': 'Case43', 'task': 'Lapping', 'role': 'Role 2', 'start_timestamp': Timestamp('2012-03-14 12:00:27'), 'end_timestamp': Timestamp('2012-03-14 13:30:24'), 'dur_raw': 0.06518542, 'dur': 5397.0, 'wait_raw': 0, 'wait': 0.0}, {'caseid': 'Case43', 'task': 'Flat Grinding', 'role': 'Role 7', 'start_timestamp': Timestamp('2012-03-14 13:30:24'), 'end_timestamp': Timestamp('2012-03-14 15:00:21'), 'dur_raw': 0.06518625, 'dur': 5397.0, 'wait_raw': 0, 'wait': 0.0}, {'caseid': 'Case43', 'task': 'Lapping', 'role': 'Role 2', 'start_timestamp': Timestamp('2012-03-14 15:00:21'), 'end_timestamp': Timestamp('2012-03-14 16:30:18'), 'dur_raw': 0.06518671, 'dur': 5397.0, 'wait_raw': 0, 'wait': 0.0}, {'caseid': 'Case43', 'task': 'Packing', 'role': 'Role 10', 'start_timestamp': Timestamp('2012-03-14 16:30:18'), 'end_timestamp': Timestamp('2012-03-14 18:00:15'), 'dur_raw': 0.065186836, 'dur': 5397.0, 'wait_raw': 0, 'wait': 0.0}, {'caseid': 'Case43', 'task': 'Final Inspection Q.C.', 'role': 'Role 2', 'start_timestamp': Timestamp('2012-03-14 18:00:15'), 'end_timestamp': Timestamp('2012-03-14 19:30:12'), 'dur_raw': 0.06518674, 'dur': 5397.0, 'wait_raw': 0, 'wait': 0.0}, {'caseid': 'Case43', 'task': 'Packing', 'role': 'Role 2', 'start_timestamp': Timestamp('2012-03-14 19:30:12'), 'end_timestamp': Timestamp('2012-03-14 21:00:09'), 'dur_raw': 0.06518663, 'dur': 5397.0, 'wait_raw': 0, 'wait': 0.0}, {'caseid': 'Case43', 'task': 'Turning & Milling', 'role': 'end', 'start_timestamp': Timestamp('2012-03-14 21:00:09'), 'end_timestamp': Timestamp('2012-03-14 22:30:06'), 'dur_raw': 0.06518653, 'dur': 5397.0, 'wait_raw': 0, 'wait': 0.0}]"
   ]
  },
  {
   "cell_type": "code",
   "execution_count": 64,
   "metadata": {},
   "outputs": [
    {
     "data": {
      "text/plain": [
       "{'Turning & Milling': 21,\n",
       " 'Turning & Milling Q.C.': 22,\n",
       " 'Laser Marking': 8,\n",
       " 'Lapping': 7,\n",
       " 'Round Grinding': 15,\n",
       " 'Final Inspection Q.C.': 3,\n",
       " 'Packing': 12,\n",
       " 'Turning Q.C.': 23,\n",
       " 'Flat Grinding': 5,\n",
       " 'Grinding Rework': 6,\n",
       " 'Setup': 17,\n",
       " 'Turning': 20,\n",
       " 'SETUP     Turning & Milling': 16,\n",
       " 'Final Inspection': 2,\n",
       " 'Rework Milling': 13,\n",
       " 'Milling Q.C.': 10,\n",
       " 'Milling': 9,\n",
       " 'Fix': 4,\n",
       " 'Round  Q.C.': 14,\n",
       " 'Stress Relief': 18,\n",
       " 'Turning Rework': 24,\n",
       " 'Change Version': 1,\n",
       " 'Turn & Mill. & Screw Assem': 19,\n",
       " 'Nitration Q.C.': 11}"
      ]
     },
     "execution_count": 64,
     "metadata": {},
     "output_type": "execute_result"
    }
   ],
   "source": [
    "ac_index"
   ]
  },
  {
   "cell_type": "code",
   "execution_count": 63,
   "metadata": {},
   "outputs": [
    {
     "data": {
      "text/plain": [
       "[(3, 15)]"
      ]
     },
     "execution_count": 63,
     "metadata": {},
     "output_type": "execute_result"
    }
   ],
   "source": [
    "act_paths_idx = [(ac_index[x[0]], ac_index[x[1]]) for x in settings['act_paths']]\n",
    "act_paths_idx"
   ]
  },
  {
   "cell_type": "code",
   "execution_count": 60,
   "metadata": {},
   "outputs": [
    {
     "data": {
      "text/html": [
       "<div>\n",
       "<style scoped>\n",
       "    .dataframe tbody tr th:only-of-type {\n",
       "        vertical-align: middle;\n",
       "    }\n",
       "\n",
       "    .dataframe tbody tr th {\n",
       "        vertical-align: top;\n",
       "    }\n",
       "\n",
       "    .dataframe thead th {\n",
       "        text-align: right;\n",
       "    }\n",
       "</style>\n",
       "<table border=\"1\" class=\"dataframe\">\n",
       "  <thead>\n",
       "    <tr style=\"text-align: right;\">\n",
       "      <th></th>\n",
       "      <th>caseid</th>\n",
       "      <th>task</th>\n",
       "      <th>role</th>\n",
       "      <th>start_timestamp</th>\n",
       "      <th>end_timestamp</th>\n",
       "      <th>dur_raw</th>\n",
       "      <th>dur</th>\n",
       "      <th>wait_raw</th>\n",
       "      <th>wait</th>\n",
       "      <th>rank</th>\n",
       "    </tr>\n",
       "  </thead>\n",
       "  <tbody>\n",
       "    <tr>\n",
       "      <th>0</th>\n",
       "      <td>Case43</td>\n",
       "      <td>Turning &amp; Milling</td>\n",
       "      <td>Role 1</td>\n",
       "      <td>2012-03-13 00:00:00</td>\n",
       "      <td>2012-03-13 02:09:16</td>\n",
       "      <td>0.093677</td>\n",
       "      <td>7756.0</td>\n",
       "      <td>0</td>\n",
       "      <td>0.0</td>\n",
       "      <td>1</td>\n",
       "    </tr>\n",
       "    <tr>\n",
       "      <th>1</th>\n",
       "      <td>Case43</td>\n",
       "      <td>Turning &amp; Milling</td>\n",
       "      <td>Role 1</td>\n",
       "      <td>2012-03-13 02:09:16</td>\n",
       "      <td>2012-03-13 04:09:57</td>\n",
       "      <td>0.087448</td>\n",
       "      <td>7241.0</td>\n",
       "      <td>0</td>\n",
       "      <td>0.0</td>\n",
       "      <td>2</td>\n",
       "    </tr>\n",
       "    <tr>\n",
       "      <th>2</th>\n",
       "      <td>Case43</td>\n",
       "      <td>Turning &amp; Milling</td>\n",
       "      <td>Role 1</td>\n",
       "      <td>2012-03-13 04:09:57</td>\n",
       "      <td>2012-03-13 06:00:14</td>\n",
       "      <td>0.079910</td>\n",
       "      <td>6617.0</td>\n",
       "      <td>0</td>\n",
       "      <td>0.0</td>\n",
       "      <td>3</td>\n",
       "    </tr>\n",
       "    <tr>\n",
       "      <th>3</th>\n",
       "      <td>Case43</td>\n",
       "      <td>Turning &amp; Milling Q.C.</td>\n",
       "      <td>Role 3</td>\n",
       "      <td>2012-03-13 06:00:14</td>\n",
       "      <td>2012-03-13 07:39:38</td>\n",
       "      <td>0.072024</td>\n",
       "      <td>5964.0</td>\n",
       "      <td>0</td>\n",
       "      <td>0.0</td>\n",
       "      <td>4</td>\n",
       "    </tr>\n",
       "    <tr>\n",
       "      <th>4</th>\n",
       "      <td>Case43</td>\n",
       "      <td>Turning &amp; Milling</td>\n",
       "      <td>Role 3</td>\n",
       "      <td>2012-03-13 07:39:38</td>\n",
       "      <td>2012-03-13 09:10:13</td>\n",
       "      <td>0.065636</td>\n",
       "      <td>5435.0</td>\n",
       "      <td>0</td>\n",
       "      <td>0.0</td>\n",
       "      <td>5</td>\n",
       "    </tr>\n",
       "    <tr>\n",
       "      <th>5</th>\n",
       "      <td>Case43</td>\n",
       "      <td>Turning &amp; Milling Q.C.</td>\n",
       "      <td>Role 3</td>\n",
       "      <td>2012-03-13 09:10:13</td>\n",
       "      <td>2012-03-13 10:34:54</td>\n",
       "      <td>0.061369</td>\n",
       "      <td>5081.0</td>\n",
       "      <td>0</td>\n",
       "      <td>0.0</td>\n",
       "      <td>6</td>\n",
       "    </tr>\n",
       "    <tr>\n",
       "      <th>6</th>\n",
       "      <td>Case43</td>\n",
       "      <td>Turning &amp; Milling</td>\n",
       "      <td>Role 1</td>\n",
       "      <td>2012-03-13 10:34:54</td>\n",
       "      <td>2012-03-13 12:01:25</td>\n",
       "      <td>0.062695</td>\n",
       "      <td>5191.0</td>\n",
       "      <td>0</td>\n",
       "      <td>0.0</td>\n",
       "      <td>7</td>\n",
       "    </tr>\n",
       "    <tr>\n",
       "      <th>7</th>\n",
       "      <td>Case43</td>\n",
       "      <td>Turning &amp; Milling</td>\n",
       "      <td>Role 1</td>\n",
       "      <td>2012-03-13 12:01:25</td>\n",
       "      <td>2012-03-13 13:29:51</td>\n",
       "      <td>0.064081</td>\n",
       "      <td>5306.0</td>\n",
       "      <td>0</td>\n",
       "      <td>0.0</td>\n",
       "      <td>8</td>\n",
       "    </tr>\n",
       "    <tr>\n",
       "      <th>8</th>\n",
       "      <td>Case43</td>\n",
       "      <td>Turning &amp; Milling</td>\n",
       "      <td>Role 1</td>\n",
       "      <td>2012-03-13 13:29:51</td>\n",
       "      <td>2012-03-13 14:59:43</td>\n",
       "      <td>0.065125</td>\n",
       "      <td>5392.0</td>\n",
       "      <td>0</td>\n",
       "      <td>0.0</td>\n",
       "      <td>9</td>\n",
       "    </tr>\n",
       "    <tr>\n",
       "      <th>9</th>\n",
       "      <td>Case43</td>\n",
       "      <td>Turning &amp; Milling Q.C.</td>\n",
       "      <td>Role 1</td>\n",
       "      <td>2012-03-13 14:59:43</td>\n",
       "      <td>2012-03-13 16:30:17</td>\n",
       "      <td>0.065628</td>\n",
       "      <td>5434.0</td>\n",
       "      <td>0</td>\n",
       "      <td>0.0</td>\n",
       "      <td>10</td>\n",
       "    </tr>\n",
       "    <tr>\n",
       "      <th>10</th>\n",
       "      <td>Case43</td>\n",
       "      <td>Turning &amp; Milling Q.C.</td>\n",
       "      <td>Role 1</td>\n",
       "      <td>2012-03-13 16:30:17</td>\n",
       "      <td>2012-03-13 18:00:53</td>\n",
       "      <td>0.065656</td>\n",
       "      <td>5436.0</td>\n",
       "      <td>0</td>\n",
       "      <td>0.0</td>\n",
       "      <td>11</td>\n",
       "    </tr>\n",
       "    <tr>\n",
       "      <th>11</th>\n",
       "      <td>Case43</td>\n",
       "      <td>Turning &amp; Milling</td>\n",
       "      <td>Role 3</td>\n",
       "      <td>2012-03-13 18:00:53</td>\n",
       "      <td>2012-03-13 19:31:07</td>\n",
       "      <td>0.065389</td>\n",
       "      <td>5414.0</td>\n",
       "      <td>0</td>\n",
       "      <td>0.0</td>\n",
       "      <td>12</td>\n",
       "    </tr>\n",
       "    <tr>\n",
       "      <th>12</th>\n",
       "      <td>Case43</td>\n",
       "      <td>Turning &amp; Milling Q.C.</td>\n",
       "      <td>Role 3</td>\n",
       "      <td>2012-03-13 19:31:07</td>\n",
       "      <td>2012-03-13 21:01:06</td>\n",
       "      <td>0.065205</td>\n",
       "      <td>5399.0</td>\n",
       "      <td>0</td>\n",
       "      <td>0.0</td>\n",
       "      <td>13</td>\n",
       "    </tr>\n",
       "    <tr>\n",
       "      <th>13</th>\n",
       "      <td>Case43</td>\n",
       "      <td>Turning &amp; Milling Q.C.</td>\n",
       "      <td>Role 2</td>\n",
       "      <td>2012-03-13 21:01:06</td>\n",
       "      <td>2012-03-13 22:30:58</td>\n",
       "      <td>0.065122</td>\n",
       "      <td>5392.0</td>\n",
       "      <td>0</td>\n",
       "      <td>0.0</td>\n",
       "      <td>14</td>\n",
       "    </tr>\n",
       "    <tr>\n",
       "      <th>14</th>\n",
       "      <td>Case43</td>\n",
       "      <td>Turning &amp; Milling Q.C.</td>\n",
       "      <td>end</td>\n",
       "      <td>2012-03-13 22:30:58</td>\n",
       "      <td>2012-03-14 00:00:50</td>\n",
       "      <td>0.065116</td>\n",
       "      <td>5392.0</td>\n",
       "      <td>0</td>\n",
       "      <td>0.0</td>\n",
       "      <td>15</td>\n",
       "    </tr>\n",
       "    <tr>\n",
       "      <th>15</th>\n",
       "      <td>Case43</td>\n",
       "      <td>Final Inspection Q.C.</td>\n",
       "      <td>Role 7</td>\n",
       "      <td>2012-03-14 00:00:50</td>\n",
       "      <td>2012-03-14 01:30:44</td>\n",
       "      <td>0.065148</td>\n",
       "      <td>5394.0</td>\n",
       "      <td>0</td>\n",
       "      <td>0.0</td>\n",
       "      <td>16</td>\n",
       "    </tr>\n",
       "    <tr>\n",
       "      <th>16</th>\n",
       "      <td>Case43</td>\n",
       "      <td>Round Grinding</td>\n",
       "      <td>Role 1</td>\n",
       "      <td>2012-03-14 01:30:44</td>\n",
       "      <td>2012-03-14 03:00:41</td>\n",
       "      <td>0.065181</td>\n",
       "      <td>5397.0</td>\n",
       "      <td>0</td>\n",
       "      <td>0.0</td>\n",
       "      <td>17</td>\n",
       "    </tr>\n",
       "    <tr>\n",
       "      <th>17</th>\n",
       "      <td>Case43</td>\n",
       "      <td>Round Grinding</td>\n",
       "      <td>Role 2</td>\n",
       "      <td>2012-03-14 03:00:41</td>\n",
       "      <td>2012-03-14 04:30:39</td>\n",
       "      <td>0.065196</td>\n",
       "      <td>5398.0</td>\n",
       "      <td>0</td>\n",
       "      <td>0.0</td>\n",
       "      <td>18</td>\n",
       "    </tr>\n",
       "    <tr>\n",
       "      <th>18</th>\n",
       "      <td>Case43</td>\n",
       "      <td>Round Grinding</td>\n",
       "      <td>Role 2</td>\n",
       "      <td>2012-03-14 04:30:39</td>\n",
       "      <td>2012-03-14 06:00:37</td>\n",
       "      <td>0.065198</td>\n",
       "      <td>5398.0</td>\n",
       "      <td>0</td>\n",
       "      <td>0.0</td>\n",
       "      <td>19</td>\n",
       "    </tr>\n",
       "    <tr>\n",
       "      <th>19</th>\n",
       "      <td>Case43</td>\n",
       "      <td>Lapping</td>\n",
       "      <td>Role 7</td>\n",
       "      <td>2012-03-14 06:00:37</td>\n",
       "      <td>2012-03-14 07:30:35</td>\n",
       "      <td>0.065193</td>\n",
       "      <td>5398.0</td>\n",
       "      <td>0</td>\n",
       "      <td>0.0</td>\n",
       "      <td>20</td>\n",
       "    </tr>\n",
       "    <tr>\n",
       "      <th>20</th>\n",
       "      <td>Case43</td>\n",
       "      <td>Round Grinding</td>\n",
       "      <td>Role 2</td>\n",
       "      <td>2012-03-14 07:30:35</td>\n",
       "      <td>2012-03-14 09:00:33</td>\n",
       "      <td>0.065188</td>\n",
       "      <td>5398.0</td>\n",
       "      <td>0</td>\n",
       "      <td>0.0</td>\n",
       "      <td>21</td>\n",
       "    </tr>\n",
       "    <tr>\n",
       "      <th>21</th>\n",
       "      <td>Case43</td>\n",
       "      <td>Round Grinding</td>\n",
       "      <td>Role 7</td>\n",
       "      <td>2012-03-14 09:00:33</td>\n",
       "      <td>2012-03-14 10:30:30</td>\n",
       "      <td>0.065185</td>\n",
       "      <td>5397.0</td>\n",
       "      <td>0</td>\n",
       "      <td>0.0</td>\n",
       "      <td>22</td>\n",
       "    </tr>\n",
       "    <tr>\n",
       "      <th>22</th>\n",
       "      <td>Case43</td>\n",
       "      <td>Round Grinding</td>\n",
       "      <td>Role 2</td>\n",
       "      <td>2012-03-14 10:30:30</td>\n",
       "      <td>2012-03-14 12:00:27</td>\n",
       "      <td>0.065185</td>\n",
       "      <td>5397.0</td>\n",
       "      <td>0</td>\n",
       "      <td>0.0</td>\n",
       "      <td>23</td>\n",
       "    </tr>\n",
       "    <tr>\n",
       "      <th>23</th>\n",
       "      <td>Case43</td>\n",
       "      <td>Lapping</td>\n",
       "      <td>Role 2</td>\n",
       "      <td>2012-03-14 12:00:27</td>\n",
       "      <td>2012-03-14 13:30:24</td>\n",
       "      <td>0.065185</td>\n",
       "      <td>5397.0</td>\n",
       "      <td>0</td>\n",
       "      <td>0.0</td>\n",
       "      <td>24</td>\n",
       "    </tr>\n",
       "    <tr>\n",
       "      <th>24</th>\n",
       "      <td>Case43</td>\n",
       "      <td>Flat Grinding</td>\n",
       "      <td>Role 7</td>\n",
       "      <td>2012-03-14 13:30:24</td>\n",
       "      <td>2012-03-14 15:00:21</td>\n",
       "      <td>0.065186</td>\n",
       "      <td>5397.0</td>\n",
       "      <td>0</td>\n",
       "      <td>0.0</td>\n",
       "      <td>25</td>\n",
       "    </tr>\n",
       "    <tr>\n",
       "      <th>25</th>\n",
       "      <td>Case43</td>\n",
       "      <td>Lapping</td>\n",
       "      <td>Role 2</td>\n",
       "      <td>2012-03-14 15:00:21</td>\n",
       "      <td>2012-03-14 16:30:18</td>\n",
       "      <td>0.065187</td>\n",
       "      <td>5397.0</td>\n",
       "      <td>0</td>\n",
       "      <td>0.0</td>\n",
       "      <td>26</td>\n",
       "    </tr>\n",
       "    <tr>\n",
       "      <th>26</th>\n",
       "      <td>Case43</td>\n",
       "      <td>Packing</td>\n",
       "      <td>Role 10</td>\n",
       "      <td>2012-03-14 16:30:18</td>\n",
       "      <td>2012-03-14 18:00:15</td>\n",
       "      <td>0.065187</td>\n",
       "      <td>5397.0</td>\n",
       "      <td>0</td>\n",
       "      <td>0.0</td>\n",
       "      <td>27</td>\n",
       "    </tr>\n",
       "    <tr>\n",
       "      <th>27</th>\n",
       "      <td>Case43</td>\n",
       "      <td>Final Inspection Q.C.</td>\n",
       "      <td>Role 2</td>\n",
       "      <td>2012-03-14 18:00:15</td>\n",
       "      <td>2012-03-14 19:30:12</td>\n",
       "      <td>0.065187</td>\n",
       "      <td>5397.0</td>\n",
       "      <td>0</td>\n",
       "      <td>0.0</td>\n",
       "      <td>28</td>\n",
       "    </tr>\n",
       "    <tr>\n",
       "      <th>28</th>\n",
       "      <td>Case43</td>\n",
       "      <td>Packing</td>\n",
       "      <td>Role 2</td>\n",
       "      <td>2012-03-14 19:30:12</td>\n",
       "      <td>2012-03-14 21:00:09</td>\n",
       "      <td>0.065187</td>\n",
       "      <td>5397.0</td>\n",
       "      <td>0</td>\n",
       "      <td>0.0</td>\n",
       "      <td>29</td>\n",
       "    </tr>\n",
       "    <tr>\n",
       "      <th>29</th>\n",
       "      <td>Case43</td>\n",
       "      <td>Turning &amp; Milling</td>\n",
       "      <td>end</td>\n",
       "      <td>2012-03-14 21:00:09</td>\n",
       "      <td>2012-03-14 22:30:06</td>\n",
       "      <td>0.065187</td>\n",
       "      <td>5397.0</td>\n",
       "      <td>0</td>\n",
       "      <td>0.0</td>\n",
       "      <td>30</td>\n",
       "    </tr>\n",
       "  </tbody>\n",
       "</table>\n",
       "</div>"
      ],
      "text/plain": [
       "    caseid                    task     role     start_timestamp  \\\n",
       "0   Case43       Turning & Milling   Role 1 2012-03-13 00:00:00   \n",
       "1   Case43       Turning & Milling   Role 1 2012-03-13 02:09:16   \n",
       "2   Case43       Turning & Milling   Role 1 2012-03-13 04:09:57   \n",
       "3   Case43  Turning & Milling Q.C.   Role 3 2012-03-13 06:00:14   \n",
       "4   Case43       Turning & Milling   Role 3 2012-03-13 07:39:38   \n",
       "5   Case43  Turning & Milling Q.C.   Role 3 2012-03-13 09:10:13   \n",
       "6   Case43       Turning & Milling   Role 1 2012-03-13 10:34:54   \n",
       "7   Case43       Turning & Milling   Role 1 2012-03-13 12:01:25   \n",
       "8   Case43       Turning & Milling   Role 1 2012-03-13 13:29:51   \n",
       "9   Case43  Turning & Milling Q.C.   Role 1 2012-03-13 14:59:43   \n",
       "10  Case43  Turning & Milling Q.C.   Role 1 2012-03-13 16:30:17   \n",
       "11  Case43       Turning & Milling   Role 3 2012-03-13 18:00:53   \n",
       "12  Case43  Turning & Milling Q.C.   Role 3 2012-03-13 19:31:07   \n",
       "13  Case43  Turning & Milling Q.C.   Role 2 2012-03-13 21:01:06   \n",
       "14  Case43  Turning & Milling Q.C.      end 2012-03-13 22:30:58   \n",
       "15  Case43   Final Inspection Q.C.   Role 7 2012-03-14 00:00:50   \n",
       "16  Case43          Round Grinding   Role 1 2012-03-14 01:30:44   \n",
       "17  Case43          Round Grinding   Role 2 2012-03-14 03:00:41   \n",
       "18  Case43          Round Grinding   Role 2 2012-03-14 04:30:39   \n",
       "19  Case43                 Lapping   Role 7 2012-03-14 06:00:37   \n",
       "20  Case43          Round Grinding   Role 2 2012-03-14 07:30:35   \n",
       "21  Case43          Round Grinding   Role 7 2012-03-14 09:00:33   \n",
       "22  Case43          Round Grinding   Role 2 2012-03-14 10:30:30   \n",
       "23  Case43                 Lapping   Role 2 2012-03-14 12:00:27   \n",
       "24  Case43           Flat Grinding   Role 7 2012-03-14 13:30:24   \n",
       "25  Case43                 Lapping   Role 2 2012-03-14 15:00:21   \n",
       "26  Case43                 Packing  Role 10 2012-03-14 16:30:18   \n",
       "27  Case43   Final Inspection Q.C.   Role 2 2012-03-14 18:00:15   \n",
       "28  Case43                 Packing   Role 2 2012-03-14 19:30:12   \n",
       "29  Case43       Turning & Milling      end 2012-03-14 21:00:09   \n",
       "\n",
       "         end_timestamp   dur_raw     dur  wait_raw  wait  rank  \n",
       "0  2012-03-13 02:09:16  0.093677  7756.0         0   0.0     1  \n",
       "1  2012-03-13 04:09:57  0.087448  7241.0         0   0.0     2  \n",
       "2  2012-03-13 06:00:14  0.079910  6617.0         0   0.0     3  \n",
       "3  2012-03-13 07:39:38  0.072024  5964.0         0   0.0     4  \n",
       "4  2012-03-13 09:10:13  0.065636  5435.0         0   0.0     5  \n",
       "5  2012-03-13 10:34:54  0.061369  5081.0         0   0.0     6  \n",
       "6  2012-03-13 12:01:25  0.062695  5191.0         0   0.0     7  \n",
       "7  2012-03-13 13:29:51  0.064081  5306.0         0   0.0     8  \n",
       "8  2012-03-13 14:59:43  0.065125  5392.0         0   0.0     9  \n",
       "9  2012-03-13 16:30:17  0.065628  5434.0         0   0.0    10  \n",
       "10 2012-03-13 18:00:53  0.065656  5436.0         0   0.0    11  \n",
       "11 2012-03-13 19:31:07  0.065389  5414.0         0   0.0    12  \n",
       "12 2012-03-13 21:01:06  0.065205  5399.0         0   0.0    13  \n",
       "13 2012-03-13 22:30:58  0.065122  5392.0         0   0.0    14  \n",
       "14 2012-03-14 00:00:50  0.065116  5392.0         0   0.0    15  \n",
       "15 2012-03-14 01:30:44  0.065148  5394.0         0   0.0    16  \n",
       "16 2012-03-14 03:00:41  0.065181  5397.0         0   0.0    17  \n",
       "17 2012-03-14 04:30:39  0.065196  5398.0         0   0.0    18  \n",
       "18 2012-03-14 06:00:37  0.065198  5398.0         0   0.0    19  \n",
       "19 2012-03-14 07:30:35  0.065193  5398.0         0   0.0    20  \n",
       "20 2012-03-14 09:00:33  0.065188  5398.0         0   0.0    21  \n",
       "21 2012-03-14 10:30:30  0.065185  5397.0         0   0.0    22  \n",
       "22 2012-03-14 12:00:27  0.065185  5397.0         0   0.0    23  \n",
       "23 2012-03-14 13:30:24  0.065185  5397.0         0   0.0    24  \n",
       "24 2012-03-14 15:00:21  0.065186  5397.0         0   0.0    25  \n",
       "25 2012-03-14 16:30:18  0.065187  5397.0         0   0.0    26  \n",
       "26 2012-03-14 18:00:15  0.065187  5397.0         0   0.0    27  \n",
       "27 2012-03-14 19:30:12  0.065187  5397.0         0   0.0    28  \n",
       "28 2012-03-14 21:00:09  0.065187  5397.0         0   0.0    29  \n",
       "29 2012-03-14 22:30:06  0.065187  5397.0         0   0.0    30  "
      ]
     },
     "execution_count": 60,
     "metadata": {},
     "output_type": "execute_result"
    }
   ],
   "source": [
    "df_case = pd.DataFrame.from_records(trace, index=list(trace[0].keys())).reset_index()\n",
    "df_case['rank'] = df_case.groupby('caseid')['start_timestamp'].rank().astype(int)\n",
    "df_case"
   ]
  },
  {
   "cell_type": "code",
   "execution_count": 61,
   "metadata": {},
   "outputs": [
    {
     "name": "stdout",
     "output_type": "stream",
     "text": [
      "1\n"
     ]
    }
   ],
   "source": [
    "df_case = df_case.sort_values(by='rank')\n",
    "u_tasks = [ac_index[x] for x in df_case['task'].drop_duplicates()]\n",
    "\n",
    "G = nx.DiGraph()\n",
    "for task in u_tasks:\n",
    "    G.add_node(task)\n",
    "\n",
    "tasks = list(df_case['task'])\n",
    "if list(df_case['rank']) == list(set(list(df_case['rank']))):\n",
    "    order = [(ac_index[x[0]], ac_index[x[1]]) for x in [(a, b) for a, b in zip(tasks[:-1], tasks[1:])]]\n",
    "    print(1)\n",
    "else:\n",
    "    order = []\n",
    "    for i in range(1, len(df_case['rank'])):\n",
    "        c_task = list(df_case[df_case['rank']==i]['task'])\n",
    "        n_task = list(df_case[df_case['rank']==i+1]['task'])\n",
    "        order += [(ac_index[x[0]], ac_index[x[1]]) for x in list(itertools.product(c_task, n_task))]\n",
    "    print(2)\n",
    "G.add_edges_from(order)\n",
    "conds = [nx.is_simple_path(G, act_path) for act_path in act_paths_idx]"
   ]
  },
  {
   "attachments": {},
   "cell_type": "markdown",
   "metadata": {},
   "source": [
    "## Prueba Union Simod"
   ]
  },
  {
   "cell_type": "code",
   "execution_count": 18,
   "metadata": {},
   "outputs": [],
   "source": [
    "from bs4 import BeautifulSoup\n",
    "\n",
    "path_asis = r'Simod-Coral-Version\\outputs\\20230417_84C5DFCD_FF3E_415F_A9ED_104A01FFB164\\Production_ASIS.bpmn'\n",
    "\n",
    "with open(path_asis, 'r') as f:\n",
    "    data_asis = f.read()\n",
    "\n",
    "bpmn_asis = BeautifulSoup(data_asis, \"xml\") \n",
    "sim_info_asis = str(bpmn_asis.find_all('qbp:processSimulationInfo')[0])\n",
    "att_info_asis = data_asis.replace(sim_info_asis, '')"
   ]
  },
  {
   "cell_type": "code",
   "execution_count": 19,
   "metadata": {},
   "outputs": [],
   "source": [
    "path_tobe = r'Simod-Coral-Version\\outputs\\20230417_84C5DFCD_FF3E_415F_A9ED_104A01FFB164\\Production_TOBE.bpmn'\n",
    "\n",
    "with open(path_tobe, 'r') as f:\n",
    "    data_tobe = f.read()\n",
    "\n",
    "bpmn_tobe = BeautifulSoup(data_tobe, \"xml\") \n",
    "sim_info_tobe = str(bpmn_tobe.find_all('qbp:processSimulationInfo')[0])\n",
    "att_info_tobe = data_asis.replace(sim_info_tobe, '')"
   ]
  },
  {
   "cell_type": "code",
   "execution_count": 23,
   "metadata": {},
   "outputs": [],
   "source": [
    "bpmn_rules_based = '{}\\n{}'.format(att_info_tobe, sim_info_asis)"
   ]
  },
  {
   "cell_type": "code",
   "execution_count": 26,
   "metadata": {},
   "outputs": [],
   "source": [
    "output_path_files = r'Simod-Coral-Version\\outputs\\20230417_84C5DFCD_FF3E_415F_A9ED_104A01FFB164\\Production_RULE_BASED.bpmn'\n",
    "with open(output_path_files, 'w') as file:\n",
    "    file.write(bpmn_rules_based)"
   ]
  },
  {
   "cell_type": "code",
   "execution_count": null,
   "metadata": {},
   "outputs": [],
   "source": [
    "def combine_models(model_asis_path, model_tobe_path, rules_model_path):\n",
    "\n",
    "    with open(model_asis_path, 'r') as f:\n",
    "        data_asis = f.read()\n",
    "\n",
    "    bpmn_asis = BeautifulSoup(data_asis, \"xml\") \n",
    "    sim_info_asis = str(bpmn_asis.find_all('qbp:processSimulationInfo')[0])\n",
    "\n",
    "    with open(model_tobe_path, 'r') as f:\n",
    "        data_tobe = f.read()\n",
    "\n",
    "    bpmn_tobe = BeautifulSoup(data_tobe, \"xml\") \n",
    "    sim_info_tobe = str(bpmn_tobe.find_all('qbp:processSimulationInfo')[0])\n",
    "    att_info_tobe = data_asis.replace(sim_info_tobe, '')\n",
    "\n",
    "    bpmn_rules_based = '{}\\n{}'.format(att_info_tobe, sim_info_asis)\n",
    "\n",
    "    with open(output_path_files, 'w') as file:\n",
    "        file.write(rules_model_path)"
   ]
  },
  {
   "attachments": {},
   "cell_type": "markdown",
   "metadata": {},
   "source": [
    "## Extract rules"
   ]
  },
  {
   "cell_type": "code",
   "execution_count": 1,
   "metadata": {},
   "outputs": [],
   "source": [
    "import pandas as pd\n",
    "import networkx as nx\n",
    "import os\n",
    "import configparser\n",
    "import itertools\n",
    "import json"
   ]
  },
  {
   "cell_type": "code",
   "execution_count": 41,
   "metadata": {},
   "outputs": [],
   "source": [
    "config = configparser.ConfigParser()\n",
    "config.read('rules.ini')\n",
    "\n",
    "settings = {}\n",
    "settings['path'] = [x.strip() for x in config['RULES']['path'].split('>>')]\n",
    "settings['variation'] = config['RULES']['variation'][0] if 'variation' in config.options('RULES') else None\n",
    "settings['prop_variation'] = float(config['RULES']['variation'][1:]) if 'variation' in config.options('RULES') else None\n",
    "\n",
    "if '*' in settings['path']:\n",
    "    settings['rule'] = 'eventually'\n",
    "elif '^' in settings['path']:\n",
    "    settings['rule'] = 'not_allowed'\n",
    "elif '>>' in settings['path'] and '*' not in settings['path'] and '^' not in settings['path']:\n",
    "    settings['rule'] = 'directly'\n",
    "elif '>>' not in settings['path'] and '*' not in settings['path'] and '^' not in settings['path']:\n",
    "    settings['rule'] = 'required'"
   ]
  },
  {
   "cell_type": "code",
   "execution_count": 42,
   "metadata": {},
   "outputs": [
    {
     "data": {
      "text/plain": [
       "['Turning & Milling Q.C.', '*', 'Lapping']"
      ]
     },
     "execution_count": 42,
     "metadata": {},
     "output_type": "execute_result"
    }
   ],
   "source": [
    "settings['path'] "
   ]
  },
  {
   "cell_type": "code",
   "execution_count": 24,
   "metadata": {},
   "outputs": [
    {
     "data": {
      "image/png": "[encoded data removed]",
      "text/plain": [
       "<Figure size 640x480 with 1 Axes>"
      ]
     },
     "metadata": {},
     "output_type": "display_data"
    }
   ],
   "source": [
    "import networkx as nx\n",
    "import matplotlib.pyplot as plt\n",
    "\n",
    "# create an empty directed graph\n",
    "G = nx.DiGraph()\n",
    "\n",
    "# add nodes to the graph\n",
    "G.add_node('Start')\n",
    "G.add_node('Task1')\n",
    "G.add_node('Task2')\n",
    "G.add_node('Task3')\n",
    "G.add_node('Task4')\n",
    "G.add_node('Split1')\n",
    "G.add_node('Task5')\n",
    "G.add_node('Join1')\n",
    "G.add_node('Task6')\n",
    "G.add_node('Task7')\n",
    "G.add_node('Split2')\n",
    "G.add_node('Task8')\n",
    "G.add_node('Join2')\n",
    "G.add_node('Task9')\n",
    "G.add_node('End')\n",
    "\n",
    "# add edges to the graph\n",
    "G.add_edge('Start', 'Task1')\n",
    "G.add_edge('Task1', 'Task2')\n",
    "G.add_edge('Task2', 'Task3')\n",
    "G.add_edge('Task3', 'Task4')\n",
    "G.add_edge('Task4', 'Split1')\n",
    "G.add_edge('Split1', 'Task5')\n",
    "G.add_edge('Split1', 'Join1')\n",
    "G.add_edge('Task5', 'Join1')\n",
    "G.add_edge('Join1', 'Task6')\n",
    "G.add_edge('Task6', 'Task7')\n",
    "G.add_edge('Task7', 'Split2')\n",
    "G.add_edge('Split2', 'Task8')\n",
    "G.add_edge('Split2', 'Join2')\n",
    "G.add_edge('Task8', 'Join2')\n",
    "G.add_edge('Join2', 'Task9')\n",
    "G.add_edge('Task9', 'End')\n",
    "\n",
    "# draw the graph with node labels\n",
    "nx.draw(G, with_labels=True)\n",
    "plt.show()"
   ]
  },
  {
   "cell_type": "code",
   "execution_count": 2,
   "metadata": {},
   "outputs": [
    {
     "data": {
      "text/plain": [
       "'input_files\\\\bpmn_models\\\\PurchasingExample.bpmn'"
      ]
     },
     "execution_count": 2,
     "metadata": {},
     "output_type": "execute_result"
    }
   ],
   "source": [
    "settings['bpmn_path']"
   ]
  },
  {
   "cell_type": "code",
   "execution_count": 1,
   "metadata": {},
   "outputs": [
    {
     "data": {
      "application/vnd.jupyter.widget-view+json": {
       "model_id": "07d176f7dec54f55b2ceb5960366cab0",
       "version_major": 2,
       "version_minor": 0
      },
      "text/plain": [
       "parsing log, completed traces ::   0%|          | 0/608 [00:00<?, ?it/s]"
      ]
     },
     "metadata": {},
     "output_type": "display_data"
    },
    {
     "name": "stdout",
     "output_type": "stream",
     "text": [
      "Rearranging log traces ...      [DONE]\n",
      " -- Mining Process Structure --\n",
      "Loading of bpmn structure from file 100.0%...      [DONE]\n",
      "Counting branch cases...\n"
     ]
    },
    {
     "name": "stderr",
     "output_type": "stream",
     "text": [
      "100%|██████████| 608/608 [00:00<00:00, 101397.09it/s]\n"
     ]
    }
   ],
   "source": [
    "import os\n",
    "from support_modules import stochastic_model as sm\n",
    "\n",
    "settings = dict()\n",
    "settings['timeformat'] = \"%Y-%m-%dT%H:%M:%S.%f\"\n",
    "settings['column_names'] = {'Case ID': 'caseid',\n",
    "                            'Activity': 'task',\n",
    "                            'lifecycle:transition': 'event_type',\n",
    "                            'Resource': 'user'}\n",
    "settings['one_timestamp'] = False\n",
    "settings['filter_d_attrib'] = True\n",
    "\n",
    "settings['file'] = 'PurchasingExample'\n",
    "settings['sm3_path'] = os.path.join('external_tools', 'splitminer3', 'bpmtk.jar')\n",
    "settings['concurrency'] = 0.0\n",
    "settings['epsilon'] = 0.5\n",
    "settings['eta'] = 0.7\n",
    "\n",
    "settings['log_path'] = os.path.join('input_files', 'event_logs', settings['file'] + '.xes')\n",
    "settings['tobe_bpmn_path'] = os.path.join('input_files', 'spmd', settings['file'] + '.bpmn')\n",
    "\n",
    "spmd = sm.StochasticModel(settings)"
   ]
  },
  {
   "cell_type": "code",
   "execution_count": 2,
   "metadata": {},
   "outputs": [
    {
     "ename": "KeyError",
     "evalue": "'csv_output_path'",
     "output_type": "error",
     "traceback": [
      "\u001b[1;31m---------------------------------------------------------------------------\u001b[0m",
      "\u001b[1;31mKeyError\u001b[0m                                  Traceback (most recent call last)",
      "Cell \u001b[1;32mIn[2], line 10\u001b[0m\n\u001b[0;32m      7\u001b[0m settings[\u001b[39m'\u001b[39m\u001b[39moutput_path\u001b[39m\u001b[39m'\u001b[39m] \u001b[39m=\u001b[39m os\u001b[39m.\u001b[39mpath\u001b[39m.\u001b[39mjoin(\u001b[39m'\u001b[39m\u001b[39moutput_files\u001b[39m\u001b[39m'\u001b[39m, \u001b[39m'\u001b[39m\u001b[39msimulation_files\u001b[39m\u001b[39m'\u001b[39m, settings[\u001b[39m'\u001b[39m\u001b[39mfile\u001b[39m\u001b[39m'\u001b[39m] \u001b[39m+\u001b[39m \u001b[39m'\u001b[39m\u001b[39m.bpmn\u001b[39m\u001b[39m'\u001b[39m)\n\u001b[0;32m      8\u001b[0m settings[\u001b[39m'\u001b[39m\u001b[39mlrs\u001b[39m\u001b[39m'\u001b[39m] \u001b[39m=\u001b[39m spmd\u001b[39m.\u001b[39mlrs\n\u001b[1;32m---> 10\u001b[0m mod_mer \u001b[39m=\u001b[39m mm\u001b[39m.\u001b[39;49mMergeModels(settings)\n",
      "File \u001b[1;32mc:\\DanielBaron\\GenerativeLSTM\\support_modules\\models_merger.py:15\u001b[0m, in \u001b[0;36mMergeModels.__init__\u001b[1;34m(self, settings)\u001b[0m\n\u001b[0;32m     13\u001b[0m \u001b[39mself\u001b[39m\u001b[39m.\u001b[39mupdate_branching_probs()\n\u001b[0;32m     14\u001b[0m \u001b[39mself\u001b[39m\u001b[39m.\u001b[39msave_model()\n\u001b[1;32m---> 15\u001b[0m \u001b[39mself\u001b[39;49m\u001b[39m.\u001b[39;49msimulate()\n",
      "File \u001b[1;32mc:\\DanielBaron\\GenerativeLSTM\\support_modules\\models_merger.py:68\u001b[0m, in \u001b[0;36mMergeModels.simulate\u001b[1;34m(self)\u001b[0m\n\u001b[0;32m     67\u001b[0m \u001b[39mdef\u001b[39;00m \u001b[39msimulate\u001b[39m(\u001b[39mself\u001b[39m):\n\u001b[1;32m---> 68\u001b[0m     args \u001b[39m=\u001b[39m [\u001b[39m'\u001b[39m\u001b[39mjava\u001b[39m\u001b[39m'\u001b[39m, \u001b[39m'\u001b[39m\u001b[39m-jar\u001b[39m\u001b[39m'\u001b[39m, \u001b[39mself\u001b[39m\u001b[39m.\u001b[39msettings[\u001b[39m'\u001b[39m\u001b[39mbimp_path\u001b[39m\u001b[39m'\u001b[39m], \u001b[39mself\u001b[39m\u001b[39m.\u001b[39msettings[\u001b[39m'\u001b[39m\u001b[39moutput_path\u001b[39m\u001b[39m'\u001b[39m], \u001b[39m'\u001b[39m\u001b[39m-csv\u001b[39m\u001b[39m'\u001b[39m, \u001b[39mself\u001b[39;49m\u001b[39m.\u001b[39;49msettings[\u001b[39m'\u001b[39;49m\u001b[39mcsv_output_path\u001b[39;49m\u001b[39m'\u001b[39;49m]]\n\u001b[0;32m     69\u001b[0m     subprocess\u001b[39m.\u001b[39mrun(args, stdout\u001b[39m=\u001b[39m\u001b[39mopen\u001b[39m(os\u001b[39m.\u001b[39mdevnull, \u001b[39m'\u001b[39m\u001b[39mwb\u001b[39m\u001b[39m'\u001b[39m))\n",
      "\u001b[1;31mKeyError\u001b[0m: 'csv_output_path'"
     ]
    }
   ],
   "source": [
    "from support_modules import models_merger as mm\n",
    "\n",
    "\n",
    "settings['bimp_path'] = os.path.join('external_tools', 'bimp', 'qbp-simulator-engine_with_csv_statistics.jar')\n",
    "settings['asis_bpmn_path'] = os.path.join('input_files', 'simod', settings['file'] + '.bpmn')\n",
    "settings['csv_output_path'] = os.path.join('output_files', 'simulation_stats', settings['file'] + '.csv')\n",
    "settings['output_path'] = os.path.join('output_files', 'simulation_files', settings['file'] + '.bpmn')\n",
    "settings['lrs'] = spmd.lrs\n",
    "\n",
    "mod_mer = mm.MergeModels(settings)"
   ]
  },
  {
   "cell_type": "code",
   "execution_count": 20,
   "metadata": {},
   "outputs": [],
   "source": [
    "import xml.etree.ElementTree as ET\n",
    "from bs4 import BeautifulSoup\n",
    "import subprocess\n",
    "\n",
    "asis_bpmn_path = os.path.join('input_files', 'simod', 'PurchasingExample.bpmn')\n",
    "tobe_bpmn_path = os.path.join('input_files', 'spmd', 'PurchasingExample.bpmn')\n",
    "\n",
    "asis_tree = ET.parse(asis_bpmn_path)\n",
    "asis_root = asis_tree.getroot()\n",
    "tobe_tree = ET.parse(tobe_bpmn_path)\n",
    "tobe_root = tobe_tree.getroot()\n",
    "        \n",
    "namespace = {'bpmn': 'http://www.omg.org/spec/BPMN/20100524/MODEL'}\n",
    "\n",
    "asis_tasks = asis_root.findall('.//bpmn:task', namespace)\n",
    "asis_tasks_data = {task.get('id'):task.get('name') for task in asis_tasks}\n",
    "\n",
    "tobe_tasks = tobe_root.findall('.//bpmn:task', namespace)\n",
    "tobe_tasks_data = {task.get('name'):task.get('id') for task in tobe_tasks}"
   ]
  },
  {
   "cell_type": "code",
   "execution_count": 21,
   "metadata": {},
   "outputs": [],
   "source": [
    "with open(asis_bpmn_path, 'r') as f:\n",
    "    data_asis = f.read()\n",
    "\n",
    "asis_bpmn_xml = BeautifulSoup(data_asis, \"xml\") \n",
    "asis_sim_info = asis_bpmn_xml.find_all('qbp:processSimulationInfo')[0]\n",
    "asis_elements = asis_sim_info.findAll('element')\n",
    "\n",
    "for element in asis_elements:\n",
    "    element_id_asis = element.get('elementId')\n",
    "    task_asis = asis_tasks_data[element_id_asis]\n",
    "    if task_asis in tobe_tasks_data.keys():\n",
    "        element_id_tobe = tobe_tasks_data[task_asis]\n",
    "        element['elementId'] = element_id_tobe\n",
    "\n",
    "tobe_root.append(ET.fromstring(str(asis_sim_info)))"
   ]
  },
  {
   "cell_type": "code",
   "execution_count": 22,
   "metadata": {},
   "outputs": [],
   "source": [
    "# Find the <sequenceFlows> section within <processSimulationInfo>\n",
    "sequence_flows = asis_sim_info.find('qbp:sequenceFlows')\n",
    "sequence_flows.decompose()\n",
    "\n",
    "new_sequence_flows = asis_bpmn_xml.new_tag('qbp:sequenceFlows')"
   ]
  },
  {
   "cell_type": "code",
   "execution_count": 24,
   "metadata": {},
   "outputs": [],
   "source": [
    "for key_node in spmd.lrs.branching_probs.keys():\n",
    "    for key_task, value_task in spmd.lrs.branching_probs[key_node].items():\n",
    "        new_seq_flow = asis_bpmn_xml.new_tag('qbp:sequenceFlow', elementId=key_task, executionProbability=value_task)\n",
    "        new_sequence_flows.append(new_seq_flow)"
   ]
  },
  {
   "cell_type": "code",
   "execution_count": 26,
   "metadata": {},
   "outputs": [
    {
     "name": "stdout",
     "output_type": "stream",
     "text": [
      "<qbp:sequenceFlows><qbp:sequenceFlow elementId=\"node_3f3d525e-1c92-44d0-b516-e4f604c7a32d\" executionProbability=\"0.63\"/><qbp:sequenceFlow elementId=\"node_6b5ccb79-5dbf-4768-8eb8-a6451ad0df1b\" executionProbability=\"0.37\"/><qbp:sequenceFlow elementId=\"node_e767b295-61d2-4075-b4a7-2dbcaf1bf72b\" executionProbability=\"0.17\"/><qbp:sequenceFlow elementId=\"node_6a441c92-201d-490d-9484-184440a5c564\" executionProbability=\"0.83\"/><qbp:sequenceFlow elementId=\"node_9548e824-bd93-493e-9d32-26a1b71ce930\" executionProbability=\"0.03\"/><qbp:sequenceFlow elementId=\"node_76a98019-8492-43ab-82e7-1108ba27a81e\" executionProbability=\"0.97\"/></qbp:sequenceFlows>\n"
     ]
    }
   ],
   "source": [
    "print(new_sequence_flows)"
   ]
  },
  {
   "cell_type": "code",
   "execution_count": 52,
   "metadata": {},
   "outputs": [],
   "source": [
    "for element in asis_elements:\n",
    "    element_id_asis = element.get('elementId')\n",
    "    task_asis = asis_tasks_data[element_id_asis]\n",
    "    if task_asis in tobe_tasks_data.keys():\n",
    "        element_id_tobe = tobe_tasks_data[task_asis]\n",
    "        element['elementId'] = element_id_tobe"
   ]
  },
  {
   "cell_type": "code",
   "execution_count": 53,
   "metadata": {},
   "outputs": [],
   "source": [
    "tobe_root.append(ET.fromstring(str(asis_sim_info)))"
   ]
  },
  {
   "cell_type": "code",
   "execution_count": 54,
   "metadata": {},
   "outputs": [],
   "source": [
    "output_path = os.path.join('output_files', 'simulation_files', 'PurchasingExample.bpmn')\n",
    "tobe_tree.write(output_path, encoding='utf-8', xml_declaration=True)"
   ]
  },
  {
   "cell_type": "code",
   "execution_count": 56,
   "metadata": {},
   "outputs": [],
   "source": [
    "bimp_sim_path = os.path.join('external_tools', 'bimp', 'qbp-simulator-engine_with_csv_statistics.jar')\n",
    "csv_output = os.path.join('output_files', 'simulation_stats', 'PurchasingExample.csv')\n",
    "\n",
    "def execute_simulator_simple(bimp_path, model_path, csv_output_path):\n",
    "    args = ['java', '-jar', bimp_path, model_path, '-csv', csv_output_path]\n",
    "    subprocess.run(args, stdout=open(os.devnull, 'wb'))\n",
    "\n",
    "execute_simulator_simple(bimp_sim_path, output_path, csv_output)"
   ]
  }
 ],
 "metadata": {
  "kernelspec": {
   "display_name": "DL",
   "language": "python",
   "name": "python3"
  },
  "language_info": {
   "codemirror_mode": {
    "name": "ipython",
    "version": 3
   },
   "file_extension": ".py",
   "mimetype": "text/x-python",
   "name": "python",
   "nbconvert_exporter": "python",
   "pygments_lexer": "ipython3",
   "version": "3.11.2"
  },
  "orig_nbformat": 4
 },
 "nbformat": 4,
 "nbformat_minor": 2
}
